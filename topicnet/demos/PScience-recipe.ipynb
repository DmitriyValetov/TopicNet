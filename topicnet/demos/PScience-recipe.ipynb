{
 "cells": [
  {
   "cell_type": "markdown",
   "metadata": {},
   "source": [
    "### Load  and filter data"
   ]
  },
  {
   "cell_type": "code",
   "execution_count": 1,
   "metadata": {},
   "outputs": [
    {
     "data": {
      "text/html": [
       "<style>\n",
       "    div.output_html {\n",
       "        white-space: nowrap;\n",
       "    }\n",
       "    div .output_subarea > pre {\n",
       "        white-space: pre;\n",
       "        word-wrap: normal;\n",
       "    }\n",
       "    div .output_stdout > pre {\n",
       "        white-space: pre-wrap !important;\n",
       "        word-wrap:  break-word !important;\n",
       "    }\n",
       "    </style>"
      ],
      "text/plain": [
       "<IPython.core.display.HTML object>"
      ]
     },
     "metadata": {},
     "output_type": "display_data"
    }
   ],
   "source": [
    "from topicnet.cooking_machine.pretty_output import make_notebook_pretty\n",
    "make_notebook_pretty()\n",
    "\n",
    "import matplotlib.pyplot as plt\n",
    "%matplotlib inline\n",
    "\n",
    "from matplotlib import cm\n",
    "import numpy as np\n",
    "\n",
    "import os\n",
    "import shutil\n",
    "from topicnet.cooking_machine.config_parser import build_experiment_environment_from_yaml_config"
   ]
  },
  {
   "cell_type": "markdown",
   "metadata": {},
   "source": [
    "### Constructing inital Topic Model"
   ]
  },
  {
   "cell_type": "code",
   "execution_count": 2,
   "metadata": {},
   "outputs": [
    {
     "name": "stdout",
     "output_type": "stream",
     "text": [
      "# This config follows a strategy described by Murat Apishev\n",
      "# one of the core programmers of BigARTM library in personal correspondence.\n",
      "# According to his letter 'decent' topic model can be obtained by\n",
      "# Decorrelating model topics simultaneously looking at retrieved TopTokens\n",
      "\n",
      "\n",
      "# Use .format(modality_list=modality_list, main_modality=main_modality, dataset_path=dataset_path,\n",
      "# specific_topics=specific_topics, background_topics=background_topics)\n",
      "# when loading the recipe to adjust for your dataset\n",
      "\n",
      "topics:\n",
      "# Describes number of model topics, better left to the user to define optimal topic number\n",
      "    specific_topics: ['topic_0', 'topic_1', 'topic_2', 'topic_3', 'topic_4', 'topic_5', 'topic_6', 'topic_7', 'topic_8', 'topic_9', 'topic_10', 'topic_11', 'topic_12', 'topic_13', 'topic_14'] \n",
      "    background_topics: ['bcg_15']\n",
      "\n",
      "# Here is example of model with one modality\n",
      "regularizers:\n",
      "    - DecorrelatorPhiRegularizer:\n",
      "        name: decorrelation_phi\n",
      "        topic_names: specific_topics\n",
      "        class_ids: ['@word']\n",
      "    - SmoothSparsePhiRegularizer:\n",
      "        name: smooth_phi_bcg\n",
      "        topic_names: background_topics\n",
      "        class_ids: ['@word']\n",
      "        tau: 0.1\n",
      "        relative: true\n",
      "    - SmoothSparseThetaRegularizer:\n",
      "        name: smooth_theta_bcg\n",
      "        topic_names: background_topics\n",
      "        tau: 0.1\n",
      "        relative: true\n",
      "scores:\n",
      "    - BleiLaffertyScore:\n",
      "        num_top_tokens: 30\n",
      "model: \n",
      "    dataset_path: PScience.csv\n",
      "    modalities_to_use: ['@word']\n",
      "    main_modality: '@word'\n",
      "\n",
      "stages:\n",
      "- RegularizersModifierCube:\n",
      "    num_iter: 20\n",
      "    reg_search: add\n",
      "    regularizer_parameters:\n",
      "        name: decorrelation_phi\n",
      "    selection:\n",
      "        - PerplexityScore@all < 1.05 * MINIMUM(PerplexityScore@all) and BleiLaffertyScore -> max\n",
      "    strategy: PerplexityStrategy\n",
      "    # parameters of this strategy are intended for revision\n",
      "    strategy_params:\n",
      "        start_point: 0\n",
      "        step: 0.01\n",
      "        max_len: 50\n",
      "    tracked_score_function: PerplexityScore@all\n",
      "    verbose: false\n",
      "    relative_coefficients: true\n",
      "\n"
     ]
    }
   ],
   "source": [
    "\n",
    "with open(\"../cooking_machine/recipes/ARTM_baseline.yml\", \"r\") as f:\n",
    "    yaml_string = f.read()\n",
    "\n",
    "DATASET_PATH = 'PScience.csv'\n",
    "specific_topics = [f'topic_{i}' for i in range(15)]\n",
    "background_topics = [f'bcg_{i}' for i in range(len(specific_topics),len(specific_topics) + 1)]\n",
    "\n",
    "yaml_string = yaml_string.format(\n",
    "    modality_list=['@word'],\n",
    "    main_modality='@word',\n",
    "    dataset_path=DATASET_PATH,\n",
    "    specific_topics=specific_topics,\n",
    "    background_topics=background_topics)\n",
    "\n",
    "print(yaml_string)\n",
    "\n"
   ]
  },
  {
   "cell_type": "code",
   "execution_count": 3,
   "metadata": {},
   "outputs": [],
   "source": [
    "EXPERIMENT_PATH = '/data_mil/vbulatov/blei_recipe/'\n"
   ]
  },
  {
   "cell_type": "code",
   "execution_count": 4,
   "metadata": {},
   "outputs": [],
   "source": [
    "! rm -rf $EXPERIMENT_PATH"
   ]
  },
  {
   "cell_type": "code",
   "execution_count": 5,
   "metadata": {},
   "outputs": [],
   "source": [
    "\n",
    "if not os.path.exists(EXPERIMENT_PATH):\n",
    "    os.mkdir(EXPERIMENT_PATH)\n",
    "\n",
    "\n",
    "experiment, dataset = build_experiment_environment_from_yaml_config(\n",
    "    yaml_string,\n",
    "    experiment_id=\"Test_config\",\n",
    "    save_path=EXPERIMENT_PATH,\n",
    "    # force_single_thread=True\n",
    ")\n"
   ]
  },
  {
   "cell_type": "code",
   "execution_count": 6,
   "metadata": {},
   "outputs": [
    {
     "name": "stderr",
     "output_type": "stream",
     "text": [
      "/home/vbulatov/Projects/topicnet/cooking_machine/cubes/base_cube.py:206: UserWarning: Perplexity is too high for threshold 1.05\n",
      "  warnings.warn(warning_message)\n"
     ]
    },
    {
     "data": {
      "text/plain": [
       "{<topicnet.cooking_machine.models.topic_model.TopicModel at 0x7f45647b3550>}"
      ]
     },
     "execution_count": 6,
     "metadata": {},
     "output_type": "execute_result"
    }
   ],
   "source": [
    "experiment.run(dataset)"
   ]
  },
  {
   "cell_type": "code",
   "execution_count": 7,
   "metadata": {},
   "outputs": [
    {
     "data": {
      "text/plain": [
       "Experiment Test_config\n",
       "\n",
       "Experiment was made with BigARTM 0.9.0\n",
       "Tree:\n",
       "                            ┌##16h06m37s_08d11m2019y###\n",
       "                            ├##16h06m59s_08d11m2019y###\n",
       "                            ├##16h07m22s_08d11m2019y###\n",
       "                            ├##16h07m44s_08d11m2019y###\n",
       "                            ├##16h08m07s_08d11m2019y###\n",
       "                            ├##16h08m30s_08d11m2019y###\n",
       "                            ├##16h08m52s_08d11m2019y###\n",
       "                            ├##16h09m15s_08d11m2019y###\n",
       "<<<<<<<<<<<root>>>>>>>>>>>──┤\n",
       "                            ├##16h09m37s_08d11m2019y###\n",
       "                            ├##16h09m59s_08d11m2019y###\n",
       "                            ├##16h10m22s_08d11m2019y###\n",
       "                            ├##16h10m44s_08d11m2019y###\n",
       "                            ├##16h11m06s_08d11m2019y###\n",
       "                            ├##16h11m29s_08d11m2019y###\n",
       "                            ├##16h11m52s_08d11m2019y###\n",
       "                            ├##16h12m15s_08d11m2019y###\n",
       "                            └##16h12m37s_08d11m2019y###\n",
       "Cubes:\n",
       " START                      | REG_MODIFIER                                                                                         \n",
       "                            | cube:                                                                                                \n",
       " name:                      |   <topicnet.cooking_machine.cubes.regularizer_cube.RegularizersModifierCube object at 0x7f45648b1ac8>\n",
       "   ARTM                     |                                                                                                      \n",
       " num_processors:            | tau_grid:                                                                                            \n",
       "   3                        |   ---                                                                                                \n",
       " num_topics:                | name:                                                                                                \n",
       "   16                       |   decorrelation_phi                                                                                  \n",
       " topic_names:               |                                                                                                      \n",
       "   topic_0,                 |                                                                                                      \n",
       "   topic_1,                 |                                                                                                      \n",
       "   ...,                     |                                                                                                      \n",
       "   topic_14,                |                                                                                                      \n",
       "   bcg_15                   |                                                                                                      \n",
       " class_ids:                 |                                                                                                      \n",
       "   @word=1.0                |                                                                                                      \n",
       " seed:                      |                                                                                                      \n",
       "   -1                       |                                                                                                      \n",
       "                            |                                                                                                      \n",
       "────────────────────────────+───────────────────────────────────────────────────────────────────────────────────────────────────────+─────────────────────────────────────────────────────────────────────────────────────────────────────\n",
       "                            | stage criteria 1:                                                                                    \n",
       "                            |     PerplexityScore@all < 1.05 * MINIMUM(PerplexityScore@all)                                        \n",
       "                            |     BleiLaffertyScore -> max                                                                         \n",
       "                            |                                                                                                      "
      ]
     },
     "metadata": {},
     "output_type": "display_data"
    }
   ],
   "source": [
    "experiment.show()"
   ]
  },
  {
   "cell_type": "code",
   "execution_count": 8,
   "metadata": {},
   "outputs": [],
   "source": [
    "best_model = experiment.select(experiment.criteria[-1][0])[0]\n"
   ]
  },
  {
   "cell_type": "code",
   "execution_count": null,
   "metadata": {},
   "outputs": [],
   "source": []
  },
  {
   "cell_type": "code",
   "execution_count": 9,
   "metadata": {},
   "outputs": [
    {
     "data": {
      "text/html": [
       "<div>\n",
       "<style scoped>\n",
       "    .dataframe tbody tr th:only-of-type {\n",
       "        vertical-align: middle;\n",
       "    }\n",
       "\n",
       "    .dataframe tbody tr th {\n",
       "        vertical-align: top;\n",
       "    }\n",
       "\n",
       "    .dataframe thead th {\n",
       "        text-align: right;\n",
       "    }\n",
       "</style>\n",
       "<table border=\"1\" class=\"dataframe\">\n",
       "  <thead>\n",
       "    <tr style=\"text-align: right;\">\n",
       "      <th></th>\n",
       "      <th></th>\n",
       "      <th>tau</th>\n",
       "      <th>gamma</th>\n",
       "    </tr>\n",
       "    <tr>\n",
       "      <th>model_id</th>\n",
       "      <th>regularizer_name</th>\n",
       "      <th></th>\n",
       "      <th></th>\n",
       "    </tr>\n",
       "  </thead>\n",
       "  <tbody>\n",
       "    <tr>\n",
       "      <th rowspan=\"3\" valign=\"top\">##16h12m15s_08d11m2019y###</th>\n",
       "      <th>smooth_phi_bcg</th>\n",
       "      <td>8.303091</td>\n",
       "      <td>NaN</td>\n",
       "    </tr>\n",
       "    <tr>\n",
       "      <th>smooth_theta_bcg</th>\n",
       "      <td>46.798799</td>\n",
       "      <td>NaN</td>\n",
       "    </tr>\n",
       "    <tr>\n",
       "      <th>decorrelation_phi</th>\n",
       "      <td>0.140000</td>\n",
       "      <td>0.0</td>\n",
       "    </tr>\n",
       "  </tbody>\n",
       "</table>\n",
       "</div>"
      ],
      "text/plain": [
       "                                                    tau  gamma\n",
       "model_id                   regularizer_name                   \n",
       "##16h12m15s_08d11m2019y### smooth_phi_bcg      8.303091    NaN\n",
       "                           smooth_theta_bcg   46.798799    NaN\n",
       "                           decorrelation_phi   0.140000    0.0"
      ]
     },
     "execution_count": 9,
     "metadata": {},
     "output_type": "execute_result"
    }
   ],
   "source": [
    "best_model.describe_regularizers()"
   ]
  },
  {
   "cell_type": "code",
   "execution_count": 11,
   "metadata": {},
   "outputs": [
    {
     "data": {
      "text/html": [
       "<div>\n",
       "<style scoped>\n",
       "    .dataframe tbody tr th:only-of-type {\n",
       "        vertical-align: middle;\n",
       "    }\n",
       "\n",
       "    .dataframe tbody tr th {\n",
       "        vertical-align: top;\n",
       "    }\n",
       "\n",
       "    .dataframe thead th {\n",
       "        text-align: right;\n",
       "    }\n",
       "</style>\n",
       "<table border=\"1\" class=\"dataframe\">\n",
       "  <thead>\n",
       "    <tr style=\"text-align: right;\">\n",
       "      <th></th>\n",
       "      <th></th>\n",
       "      <th>last_value</th>\n",
       "    </tr>\n",
       "    <tr>\n",
       "      <th>model_id</th>\n",
       "      <th>score_name</th>\n",
       "      <th></th>\n",
       "    </tr>\n",
       "  </thead>\n",
       "  <tbody>\n",
       "    <tr>\n",
       "      <th rowspan=\"14\" valign=\"top\">##16h12m15s_08d11m2019y###</th>\n",
       "      <th>PerplexityScore@all</th>\n",
       "      <td>3578.62</td>\n",
       "    </tr>\n",
       "    <tr>\n",
       "      <th>SparsityThetaScore</th>\n",
       "      <td>0.0311949</td>\n",
       "    </tr>\n",
       "    <tr>\n",
       "      <th>SparsityPhiScore@word</th>\n",
       "      <td>0.498365</td>\n",
       "    </tr>\n",
       "    <tr>\n",
       "      <th>PerplexityScore@word</th>\n",
       "      <td>3578.62</td>\n",
       "    </tr>\n",
       "    <tr>\n",
       "      <th>TopicKernel@word.average_coherence</th>\n",
       "      <td>0</td>\n",
       "    </tr>\n",
       "    <tr>\n",
       "      <th>TopicKernel@word.average_contrast</th>\n",
       "      <td>0.53735</td>\n",
       "    </tr>\n",
       "    <tr>\n",
       "      <th>TopicKernel@word.average_purity</th>\n",
       "      <td>0.550919</td>\n",
       "    </tr>\n",
       "    <tr>\n",
       "      <th>TopicKernel@word.average_size</th>\n",
       "      <td>1422.94</td>\n",
       "    </tr>\n",
       "    <tr>\n",
       "      <th>TopicKernel@word.coherence</th>\n",
       "      <td>{'topic_0': 0.0, 'topic_1': 0.0, 'topic_2': 0....</td>\n",
       "    </tr>\n",
       "    <tr>\n",
       "      <th>TopicKernel@word.contrast</th>\n",
       "      <td>{'topic_0': 0.48187097907066345, 'topic_1': 0....</td>\n",
       "    </tr>\n",
       "    <tr>\n",
       "      <th>TopicKernel@word.purity</th>\n",
       "      <td>{'topic_0': 0.4380197525024414, 'topic_1': 0.4...</td>\n",
       "    </tr>\n",
       "    <tr>\n",
       "      <th>TopicKernel@word.size</th>\n",
       "      <td>{'topic_0': 473.0, 'topic_1': 565.0, 'topic_2'...</td>\n",
       "    </tr>\n",
       "    <tr>\n",
       "      <th>TopicKernel@word.tokens</th>\n",
       "      <td>{'topic_0': ['england', 'физтех', 'зверюшка', ...</td>\n",
       "    </tr>\n",
       "    <tr>\n",
       "      <th>BleiLaffertyScore</th>\n",
       "      <td>0.416972</td>\n",
       "    </tr>\n",
       "  </tbody>\n",
       "</table>\n",
       "</div>"
      ],
      "text/plain": [
       "                                                                                                      last_value\n",
       "model_id                   score_name                                                                           \n",
       "##16h12m15s_08d11m2019y### PerplexityScore@all                                                           3578.62\n",
       "                           SparsityThetaScore                                                          0.0311949\n",
       "                           SparsityPhiScore@word                                                        0.498365\n",
       "                           PerplexityScore@word                                                          3578.62\n",
       "                           TopicKernel@word.average_coherence                                                  0\n",
       "                           TopicKernel@word.average_contrast                                             0.53735\n",
       "                           TopicKernel@word.average_purity                                              0.550919\n",
       "                           TopicKernel@word.average_size                                                 1422.94\n",
       "                           TopicKernel@word.coherence          {'topic_0': 0.0, 'topic_1': 0.0, 'topic_2': 0....\n",
       "                           TopicKernel@word.contrast           {'topic_0': 0.48187097907066345, 'topic_1': 0....\n",
       "                           TopicKernel@word.purity             {'topic_0': 0.4380197525024414, 'topic_1': 0.4...\n",
       "                           TopicKernel@word.size               {'topic_0': 473.0, 'topic_1': 565.0, 'topic_2'...\n",
       "                           TopicKernel@word.tokens             {'topic_0': ['england', 'физтех', 'зверюшка', ...\n",
       "                           BleiLaffertyScore                                                            0.416972"
      ]
     },
     "execution_count": 11,
     "metadata": {},
     "output_type": "execute_result"
    }
   ],
   "source": [
    "best_model.describe_scores()"
   ]
  },
  {
   "cell_type": "markdown",
   "metadata": {},
   "source": [
    "## Let's look at plots"
   ]
  },
  {
   "cell_type": "markdown",
   "metadata": {},
   "source": [
    "Solid line represent the best model we have selected; dashed lines are the rest. "
   ]
  },
  {
   "cell_type": "code",
   "execution_count": 23,
   "metadata": {},
   "outputs": [
    {
     "data": {
      "image/png": "[encoded data removed]",
      "text/plain": [
       "<Figure size 576x576 with 1 Axes>"
      ]
     },
     "metadata": {
      "needs_background": "light"
     },
     "output_type": "display_data"
    }
   ],
   "source": [
    "\n",
    "\n",
    "tms = experiment.models\n",
    "colors = np.linspace(0, 0.65, len(tms))\n",
    "\n",
    "plt.figure(figsize=(8,8))\n",
    "for i, tm in enumerate(list(tms.values())[1:]):\n",
    "    score = tm.scores['BleiLaffertyScore']\n",
    "    ls = \"-\" if tm.model_id == best_model.model_id else \"--\" \n",
    "    plt.plot(score, color=cm.Reds(colors[i]), ls=ls)\n",
    "plt.show()"
   ]
  },
  {
   "cell_type": "code",
   "execution_count": 24,
   "metadata": {},
   "outputs": [
    {
     "data": {
      "image/png": "[encoded data removed]",
      "text/plain": [
       "<Figure size 576x576 with 1 Axes>"
      ]
     },
     "metadata": {
      "needs_background": "light"
     },
     "output_type": "display_data"
    }
   ],
   "source": [
    "\n",
    "\n",
    "tms = experiment.models\n",
    "colors = np.linspace(0, 0.65, len(tms))\n",
    "\n",
    "plt.figure(figsize=(8,8))\n",
    "for i, tm in enumerate(list(tms.values())[1:]):\n",
    "    score = tm.scores['PerplexityScore@all']\n",
    "    score[0] = float(\"nan\")\n",
    "    ls = \"-\" if tm.model_id == best_model.model_id else \"--\" \n",
    "    plt.plot(score, color=cm.Reds(colors[i]), ls=ls)\n",
    "plt.show()"
   ]
  },
  {
   "cell_type": "code",
   "execution_count": 26,
   "metadata": {},
   "outputs": [
    {
     "data": {
      "image/png": "[encoded data removed]",
      "text/plain": [
       "<Figure size 576x576 with 1 Axes>"
      ]
     },
     "metadata": {
      "needs_background": "light"
     },
     "output_type": "display_data"
    }
   ],
   "source": [
    "\n",
    "\n",
    "tms = experiment.models\n",
    "colors = np.linspace(0, 0.65, len(tms))\n",
    "\n",
    "plt.figure(figsize=(8,8))\n",
    "for i, tm in enumerate(list(tms.values())[1:]):\n",
    "    ls = \"-\" if tm.model_id == best_model.model_id else \"--\" \n",
    "    score = tm.scores['TopicKernel@word.average_purity']\n",
    "    plt.plot(score, color=cm.Blues(colors[i]), ls=ls)\n",
    "    score = tm.scores['TopicKernel@word.average_contrast']\n",
    "    plt.plot(score, color=cm.Reds(colors[i]), ls=ls)\n",
    "    \n",
    "    score = tm.scores['SparsityPhiScore@word']\n",
    "    plt.plot(score, color=cm.Greens(colors[i]), ls=ls)\n",
    "\n",
    "plt.show()"
   ]
  },
  {
   "cell_type": "markdown",
   "metadata": {},
   "source": [
    "### Investigate model "
   ]
  },
  {
   "cell_type": "code",
   "execution_count": 15,
   "metadata": {},
   "outputs": [],
   "source": [
    "from topicnet.viewers.top_tokens_viewer import TopTokensViewer\n",
    "from topicnet.viewers.top_documents_viewer import TopDocumentsViewer"
   ]
  },
  {
   "cell_type": "code",
   "execution_count": 16,
   "metadata": {},
   "outputs": [],
   "source": [
    "first_model_top_tok = TopTokensViewer(best_model, num_top_tokens=10, method='phi')\n",
    "first_model_html =  first_model_top_tok.to_html(first_model_top_tok.view())\n",
    "first_model_top_doc = TopDocumentsViewer(best_model, dataset=dataset).view()\n"
   ]
  },
  {
   "cell_type": "code",
   "execution_count": 21,
   "metadata": {
    "scrolled": true
   },
   "outputs": [
    {
     "data": {
      "text/html": [
       "<style  type=\"text/css\" >\n",
       "</style>  \n",
       "<table id=\"T_a4a44136_0229_11ea_a6fb_107b449f15fc\" style='display:inline'> \n",
       "<thead>    <tr> \n",
       "        <th class=\"blank level0\" ></th> \n",
       "        <th class=\"col_heading level0 col0\" >topic_0 @word</th> \n",
       "    </tr></thead> \n",
       "<tbody>    <tr> \n",
       "        <th id=\"T_a4a44136_0229_11ea_a6fb_107b449f15fclevel0_row0\" class=\"row_heading level0 row0\" >наука</th> \n",
       "        <td id=\"T_a4a44136_0229_11ea_a6fb_107b449f15fcrow0_col0\" class=\"data row0 col0\" >0.02997</td> \n",
       "    </tr>    <tr> \n",
       "        <th id=\"T_a4a44136_0229_11ea_a6fb_107b449f15fclevel0_row1\" class=\"row_heading level0 row1\" >учёный</th> \n",
       "        <td id=\"T_a4a44136_0229_11ea_a6fb_107b449f15fcrow1_col0\" class=\"data row1 col0\" >0.01753</td> \n",
       "    </tr>    <tr> \n",
       "        <th id=\"T_a4a44136_0229_11ea_a6fb_107b449f15fclevel0_row2\" class=\"row_heading level0 row2\" >заниматься</th> \n",
       "        <td id=\"T_a4a44136_0229_11ea_a6fb_107b449f15fcrow2_col0\" class=\"data row2 col0\" >0.01496</td> \n",
       "    </tr>    <tr> \n",
       "        <th id=\"T_a4a44136_0229_11ea_a6fb_107b449f15fclevel0_row3\" class=\"row_heading level0 row3\" >университет</th> \n",
       "        <td id=\"T_a4a44136_0229_11ea_a6fb_107b449f15fcrow3_col0\" class=\"data row3 col0\" >0.0147</td> \n",
       "    </tr>    <tr> \n",
       "        <th id=\"T_a4a44136_0229_11ea_a6fb_107b449f15fclevel0_row4\" class=\"row_heading level0 row4\" >хороший</th> \n",
       "        <td id=\"T_a4a44136_0229_11ea_a6fb_107b449f15fcrow4_col0\" class=\"data row4 col0\" >0.01429</td> \n",
       "    </tr>    <tr> \n",
       "        <th id=\"T_a4a44136_0229_11ea_a6fb_107b449f15fclevel0_row5\" class=\"row_heading level0 row5\" >школа</th> \n",
       "        <td id=\"T_a4a44136_0229_11ea_a6fb_107b449f15fcrow5_col0\" class=\"data row5 col0\" >0.01246</td> \n",
       "    </tr>    <tr> \n",
       "        <th id=\"T_a4a44136_0229_11ea_a6fb_107b449f15fclevel0_row6\" class=\"row_heading level0 row6\" >работать</th> \n",
       "        <td id=\"T_a4a44136_0229_11ea_a6fb_107b449f15fcrow6_col0\" class=\"data row6 col0\" >0.01209</td> \n",
       "    </tr>    <tr> \n",
       "        <th id=\"T_a4a44136_0229_11ea_a6fb_107b449f15fclevel0_row7\" class=\"row_heading level0 row7\" >работа</th> \n",
       "        <td id=\"T_a4a44136_0229_11ea_a6fb_107b449f15fcrow7_col0\" class=\"data row7 col0\" >0.0113</td> \n",
       "    </tr>    <tr> \n",
       "        <th id=\"T_a4a44136_0229_11ea_a6fb_107b449f15fclevel0_row8\" class=\"row_heading level0 row8\" >должный</th> \n",
       "        <td id=\"T_a4a44136_0229_11ea_a6fb_107b449f15fcrow8_col0\" class=\"data row8 col0\" >0.01111</td> \n",
       "    </tr>    <tr> \n",
       "        <th id=\"T_a4a44136_0229_11ea_a6fb_107b449f15fclevel0_row9\" class=\"row_heading level0 row9\" >студент</th> \n",
       "        <td id=\"T_a4a44136_0229_11ea_a6fb_107b449f15fcrow9_col0\" class=\"data row9 col0\" >0.00992</td> \n",
       "    </tr></tbody> \n",
       "</table> "
      ]
     },
     "metadata": {},
     "output_type": "display_data"
    },
    {
     "data": {
      "text/html": [
       "<b> прямая речьартём оганов </b><br /> химик, профессор университета штата нью-йорк о советском образовании, «наркотических городах» и перспективах работы в россии"
      ]
     },
     "metadata": {},
     "output_type": "display_data"
    },
    {
     "data": {
      "text/html": [
       "<b> прямая речьфуад алескеров </b><br /> математик, руководитель департамента математики факультета экономики вшэ о проблемах российского образования, предсказаниях биржи и качествах ученого"
      ]
     },
     "metadata": {},
     "output_type": "display_data"
    },
    {
     "data": {
      "text/html": [
       "<b> точка зрения # проблема преподавания химии в школе </b><br /> мнения экспертов постнауки об основных проблемах преподавания химии в средней школе"
      ]
     },
     "metadata": {},
     "output_type": "display_data"
    },
    {
     "data": {
      "text/html": [
       "<b> точка зрения # проблемы коммуникации ученых и сми </b><br /> мнения экспертов постнауки о том, с какими трудностями сталкиваются ученые при общении с представителями средств массовой информации"
      ]
     },
     "metadata": {},
     "output_type": "display_data"
    },
    {
     "data": {
      "text/html": [
       "<b> точка зрения # физика в школе </b><br /> мнения экспертов постнауки об основных проблемах преподавания физики в средней школе"
      ]
     },
     "metadata": {},
     "output_type": "display_data"
    },
    {
     "data": {
      "text/html": [
       "<b> точка зрения # зачем нужен «список вак» и когда его отменят? </b><br /> мнения экспертов постнауки о публикациях в «ваковских журналах» и получении научной степени"
      ]
     },
     "metadata": {},
     "output_type": "display_data"
    },
    {
     "data": {
      "text/html": [
       "<b> университетская реформа уварова </b><br /> историк елена вишленкова о реформе ученых степеней, отмене докторских экзаменов и «новых русских профессорах» xix века"
      ]
     },
     "metadata": {},
     "output_type": "display_data"
    },
    {
     "data": {
      "text/html": [
       "<b> перспективыбыть социологом </b><br /> социолог виктор вахштайн рассказывает, откуда берутся социологи, чему и как их учат и зачем они нам нужны"
      ]
     },
     "metadata": {},
     "output_type": "display_data"
    },
    {
     "data": {
      "text/html": [
       "<b> точка зрения # нужен ли пиар вузам? </b><br /> мнения экспертов постнауки, необходимо ли академическим институтам продвигать свою деятельность"
      ]
     },
     "metadata": {},
     "output_type": "display_data"
    },
    {
     "data": {
      "text/html": [
       "<b> точка зрения # «покупка» иностранных профессоров </b><br /> мнения экспертов постнауки о роли зарубежных специалистов в российской науке"
      ]
     },
     "metadata": {},
     "output_type": "display_data"
    },
    {
     "data": {
      "text/html": [
       "<style  type=\"text/css\" >\n",
       "</style>  \n",
       "<table id=\"T_a4a44137_0229_11ea_a6fb_107b449f15fc\" style='display:inline'> \n",
       "<thead>    <tr> \n",
       "        <th class=\"blank level0\" ></th> \n",
       "        <th class=\"col_heading level0 col0\" >topic_1 @word</th> \n",
       "    </tr></thead> \n",
       "<tbody>    <tr> \n",
       "        <th id=\"T_a4a44137_0229_11ea_a6fb_107b449f15fclevel0_row0\" class=\"row_heading level0 row0\" >культура</th> \n",
       "        <td id=\"T_a4a44137_0229_11ea_a6fb_107b449f15fcrow0_col0\" class=\"data row0 col0\" >0.02809</td> \n",
       "    </tr>    <tr> \n",
       "        <th id=\"T_a4a44137_0229_11ea_a6fb_107b449f15fclevel0_row1\" class=\"row_heading level0 row1\" >ребёнок</th> \n",
       "        <td id=\"T_a4a44137_0229_11ea_a6fb_107b449f15fcrow1_col0\" class=\"data row1 col0\" >0.0279</td> \n",
       "    </tr>    <tr> \n",
       "        <th id=\"T_a4a44137_0229_11ea_a6fb_107b449f15fclevel0_row2\" class=\"row_heading level0 row2\" >фильм</th> \n",
       "        <td id=\"T_a4a44137_0229_11ea_a6fb_107b449f15fcrow2_col0\" class=\"data row2 col0\" >0.02408</td> \n",
       "    </tr>    <tr> \n",
       "        <th id=\"T_a4a44137_0229_11ea_a6fb_107b449f15fclevel0_row3\" class=\"row_heading level0 row3\" >искусство</th> \n",
       "        <td id=\"T_a4a44137_0229_11ea_a6fb_107b449f15fcrow3_col0\" class=\"data row3 col0\" >0.01742</td> \n",
       "    </tr>    <tr> \n",
       "        <th id=\"T_a4a44137_0229_11ea_a6fb_107b449f15fclevel0_row4\" class=\"row_heading level0 row4\" >музей</th> \n",
       "        <td id=\"T_a4a44137_0229_11ea_a6fb_107b449f15fcrow4_col0\" class=\"data row4 col0\" >0.01157</td> \n",
       "    </tr>    <tr> \n",
       "        <th id=\"T_a4a44137_0229_11ea_a6fb_107b449f15fclevel0_row5\" class=\"row_heading level0 row5\" >кино</th> \n",
       "        <td id=\"T_a4a44137_0229_11ea_a6fb_107b449f15fcrow5_col0\" class=\"data row5 col0\" >0.00915</td> \n",
       "    </tr>    <tr> \n",
       "        <th id=\"T_a4a44137_0229_11ea_a6fb_107b449f15fclevel0_row6\" class=\"row_heading level0 row6\" >герой</th> \n",
       "        <td id=\"T_a4a44137_0229_11ea_a6fb_107b449f15fcrow6_col0\" class=\"data row6 col0\" >0.00841</td> \n",
       "    </tr>    <tr> \n",
       "        <th id=\"T_a4a44137_0229_11ea_a6fb_107b449f15fclevel0_row7\" class=\"row_heading level0 row7\" >театр</th> \n",
       "        <td id=\"T_a4a44137_0229_11ea_a6fb_107b449f15fcrow7_col0\" class=\"data row7 col0\" >0.00774</td> \n",
       "    </tr>    <tr> \n",
       "        <th id=\"T_a4a44137_0229_11ea_a6fb_107b449f15fclevel0_row8\" class=\"row_heading level0 row8\" >зритель</th> \n",
       "        <td id=\"T_a4a44137_0229_11ea_a6fb_107b449f15fcrow8_col0\" class=\"data row8 col0\" >0.00668</td> \n",
       "    </tr>    <tr> \n",
       "        <th id=\"T_a4a44137_0229_11ea_a6fb_107b449f15fclevel0_row9\" class=\"row_heading level0 row9\" >художник</th> \n",
       "        <td id=\"T_a4a44137_0229_11ea_a6fb_107b449f15fcrow9_col0\" class=\"data row9 col0\" >0.00544</td> \n",
       "    </tr></tbody> \n",
       "</table> "
      ]
     },
     "metadata": {},
     "output_type": "display_data"
    },
    {
     "data": {
      "text/html": [
       "<b> главы # цирк в пространстве культуры </b><br /> отрывок из книги «цирк в пространстве культуры»  филолога и историка ольги бурениной-петровой об особенностях советского цирка первой половины xx века"
      ]
     },
     "metadata": {},
     "output_type": "display_data"
    },
    {
     "data": {
      "text/html": [
       "<b> оценка погружения в кинопросмотр </b><br /> социолог дмитрий рогозин о методике изучения зрительского погружения в просмотр фильма на примере «добро пожаловать в зомбиленд»"
      ]
     },
     "metadata": {},
     "output_type": "display_data"
    },
    {
     "data": {
      "text/html": [
       "<b> штурмуя публичное пространствослова о гетеротопии плохого вкуса </b><br /> философ александр павлов о теории кэмпа сьюзен сонтаг, русской традиции кинокритики и утопии хорошего вкуса"
      ]
     },
     "metadata": {},
     "output_type": "display_data"
    },
    {
     "data": {
      "text/html": [
       "<b> главы«коммунистово воскресение — 25 октября» </b><br /> отрывок из книги историка наталии лебиной «cоветская повседневностьнормы и аномалии. от военного коммунизма к большому стилю»"
      ]
     },
     "metadata": {},
     "output_type": "display_data"
    },
    {
     "data": {
      "text/html": [
       "<b> практики построения личности в утопических сообществах </b><br /> как педагогические технологии влияли на жизнь советских детей и подростков"
      ]
     },
     "metadata": {},
     "output_type": "display_data"
    },
    {
     "data": {
      "text/html": [
       "<style  type=\"text/css\" >\n",
       "</style>  \n",
       "<table id=\"T_a4a44138_0229_11ea_a6fb_107b449f15fc\" style='display:inline'> \n",
       "<thead>    <tr> \n",
       "        <th class=\"blank level0\" ></th> \n",
       "        <th class=\"col_heading level0 col0\" >topic_2 @word</th> \n",
       "    </tr></thead> \n",
       "<tbody>    <tr> \n",
       "        <th id=\"T_a4a44138_0229_11ea_a6fb_107b449f15fclevel0_row0\" class=\"row_heading level0 row0\" >клетка</th> \n",
       "        <td id=\"T_a4a44138_0229_11ea_a6fb_107b449f15fcrow0_col0\" class=\"data row0 col0\" >0.04499</td> \n",
       "    </tr>    <tr> \n",
       "        <th id=\"T_a4a44138_0229_11ea_a6fb_107b449f15fclevel0_row1\" class=\"row_heading level0 row1\" >организм</th> \n",
       "        <td id=\"T_a4a44138_0229_11ea_a6fb_107b449f15fcrow1_col0\" class=\"data row1 col0\" >0.02263</td> \n",
       "    </tr>    <tr> \n",
       "        <th id=\"T_a4a44138_0229_11ea_a6fb_107b449f15fclevel0_row2\" class=\"row_heading level0 row2\" >молекула</th> \n",
       "        <td id=\"T_a4a44138_0229_11ea_a6fb_107b449f15fcrow2_col0\" class=\"data row2 col0\" >0.01684</td> \n",
       "    </tr>    <tr> \n",
       "        <th id=\"T_a4a44138_0229_11ea_a6fb_107b449f15fclevel0_row3\" class=\"row_heading level0 row3\" >днк</th> \n",
       "        <td id=\"T_a4a44138_0229_11ea_a6fb_107b449f15fcrow3_col0\" class=\"data row3 col0\" >0.01559</td> \n",
       "    </tr>    <tr> \n",
       "        <th id=\"T_a4a44138_0229_11ea_a6fb_107b449f15fclevel0_row4\" class=\"row_heading level0 row4\" >белка</th> \n",
       "        <td id=\"T_a4a44138_0229_11ea_a6fb_107b449f15fcrow4_col0\" class=\"data row4 col0\" >0.01366</td> \n",
       "    </tr>    <tr> \n",
       "        <th id=\"T_a4a44138_0229_11ea_a6fb_107b449f15fclevel0_row5\" class=\"row_heading level0 row5\" >пациент</th> \n",
       "        <td id=\"T_a4a44138_0229_11ea_a6fb_107b449f15fcrow5_col0\" class=\"data row5 col0\" >0.01318</td> \n",
       "    </tr>    <tr> \n",
       "        <th id=\"T_a4a44138_0229_11ea_a6fb_107b449f15fclevel0_row6\" class=\"row_heading level0 row6\" >бактерия</th> \n",
       "        <td id=\"T_a4a44138_0229_11ea_a6fb_107b449f15fcrow6_col0\" class=\"data row6 col0\" >0.01237</td> \n",
       "    </tr>    <tr> \n",
       "        <th id=\"T_a4a44138_0229_11ea_a6fb_107b449f15fclevel0_row7\" class=\"row_heading level0 row7\" >болезнь</th> \n",
       "        <td id=\"T_a4a44138_0229_11ea_a6fb_107b449f15fcrow7_col0\" class=\"data row7 col0\" >0.01098</td> \n",
       "    </tr>    <tr> \n",
       "        <th id=\"T_a4a44138_0229_11ea_a6fb_107b449f15fclevel0_row8\" class=\"row_heading level0 row8\" >белок</th> \n",
       "        <td id=\"T_a4a44138_0229_11ea_a6fb_107b449f15fcrow8_col0\" class=\"data row8 col0\" >0.01082</td> \n",
       "    </tr>    <tr> \n",
       "        <th id=\"T_a4a44138_0229_11ea_a6fb_107b449f15fclevel0_row9\" class=\"row_heading level0 row9\" >заболевание</th> \n",
       "        <td id=\"T_a4a44138_0229_11ea_a6fb_107b449f15fcrow9_col0\" class=\"data row9 col0\" >0.01016</td> \n",
       "    </tr></tbody> \n",
       "</table> "
      ]
     },
     "metadata": {},
     "output_type": "display_data"
    },
    {
     "data": {
      "text/html": [
       "<b> трансгенные животные и продление жизни </b><br /> биолог алексей москалев о генетике старения, регуляции метаболизма и геропротекторах"
      ]
     },
     "metadata": {},
     "output_type": "display_data"
    },
    {
     "data": {
      "text/html": [
       "<b> вич-ассоциированное поражение миокарда и способы его защиты </b><br /> способен ли антиоксидант процистеин предотвращать развитие вич-индуцированной кардиомиопатии"
      ]
     },
     "metadata": {},
     "output_type": "display_data"
    },
    {
     "data": {
      "text/html": [
       "<b> инсультпричины и симптомы </b><br /> что является причиной инсульта, какие симптомы помогут его распознать и какие способы лечения практикуются в современной медицине"
      ]
     },
     "metadata": {},
     "output_type": "display_data"
    },
    {
     "data": {
      "text/html": [
       "<style  type=\"text/css\" >\n",
       "</style>  \n",
       "<table id=\"T_a4a44139_0229_11ea_a6fb_107b449f15fc\" style='display:inline'> \n",
       "<thead>    <tr> \n",
       "        <th class=\"blank level0\" ></th> \n",
       "        <th class=\"col_heading level0 col0\" >topic_3 @word</th> \n",
       "    </tr></thead> \n",
       "<tbody>    <tr> \n",
       "        <th id=\"T_a4a44139_0229_11ea_a6fb_107b449f15fclevel0_row0\" class=\"row_heading level0 row0\" >книга</th> \n",
       "        <td id=\"T_a4a44139_0229_11ea_a6fb_107b449f15fcrow0_col0\" class=\"data row0 col0\" >0.07997</td> \n",
       "    </tr>    <tr> \n",
       "        <th id=\"T_a4a44139_0229_11ea_a6fb_107b449f15fclevel0_row1\" class=\"row_heading level0 row1\" >текст</th> \n",
       "        <td id=\"T_a4a44139_0229_11ea_a6fb_107b449f15fcrow1_col0\" class=\"data row1 col0\" >0.04022</td> \n",
       "    </tr>    <tr> \n",
       "        <th id=\"T_a4a44139_0229_11ea_a6fb_107b449f15fclevel0_row2\" class=\"row_heading level0 row2\" >автор</th> \n",
       "        <td id=\"T_a4a44139_0229_11ea_a6fb_107b449f15fcrow2_col0\" class=\"data row2 col0\" >0.02954</td> \n",
       "    </tr>    <tr> \n",
       "        <th id=\"T_a4a44139_0229_11ea_a6fb_107b449f15fclevel0_row3\" class=\"row_heading level0 row3\" >писать</th> \n",
       "        <td id=\"T_a4a44139_0229_11ea_a6fb_107b449f15fcrow3_col0\" class=\"data row3 col0\" >0.02814</td> \n",
       "    </tr>    <tr> \n",
       "        <th id=\"T_a4a44139_0229_11ea_a6fb_107b449f15fclevel0_row4\" class=\"row_heading level0 row4\" >русский</th> \n",
       "        <td id=\"T_a4a44139_0229_11ea_a6fb_107b449f15fcrow4_col0\" class=\"data row4 col0\" >0.02666</td> \n",
       "    </tr>    <tr> \n",
       "        <th id=\"T_a4a44139_0229_11ea_a6fb_107b449f15fclevel0_row5\" class=\"row_heading level0 row5\" >написать</th> \n",
       "        <td id=\"T_a4a44139_0229_11ea_a6fb_107b449f15fcrow5_col0\" class=\"data row5 col0\" >0.02169</td> \n",
       "    </tr>    <tr> \n",
       "        <th id=\"T_a4a44139_0229_11ea_a6fb_107b449f15fclevel0_row6\" class=\"row_heading level0 row6\" >литература</th> \n",
       "        <td id=\"T_a4a44139_0229_11ea_a6fb_107b449f15fcrow6_col0\" class=\"data row6 col0\" >0.01788</td> \n",
       "    </tr>    <tr> \n",
       "        <th id=\"T_a4a44139_0229_11ea_a6fb_107b449f15fclevel0_row7\" class=\"row_heading level0 row7\" >читать</th> \n",
       "        <td id=\"T_a4a44139_0229_11ea_a6fb_107b449f15fcrow7_col0\" class=\"data row7 col0\" >0.01505</td> \n",
       "    </tr>    <tr> \n",
       "        <th id=\"T_a4a44139_0229_11ea_a6fb_107b449f15fclevel0_row8\" class=\"row_heading level0 row8\" >письмо</th> \n",
       "        <td id=\"T_a4a44139_0229_11ea_a6fb_107b449f15fcrow8_col0\" class=\"data row8 col0\" >0.01349</td> \n",
       "    </tr>    <tr> \n",
       "        <th id=\"T_a4a44139_0229_11ea_a6fb_107b449f15fclevel0_row9\" class=\"row_heading level0 row9\" >читатель</th> \n",
       "        <td id=\"T_a4a44139_0229_11ea_a6fb_107b449f15fcrow9_col0\" class=\"data row9 col0\" >0.01293</td> \n",
       "    </tr></tbody> \n",
       "</table> "
      ]
     },
     "metadata": {},
     "output_type": "display_data"
    },
    {
     "data": {
      "text/html": [
       "<b> повседневный быт московских цензоров </b><br /> филолог алина бодрова об авторах, издателях и цензорах журнала «москвитянин»"
      ]
     },
     "metadata": {},
     "output_type": "display_data"
    },
    {
     "data": {
      "text/html": [
       "<style  type=\"text/css\" >\n",
       "</style>  \n",
       "<table id=\"T_a4a4413a_0229_11ea_a6fb_107b449f15fc\" style='display:inline'> \n",
       "<thead>    <tr> \n",
       "        <th class=\"blank level0\" ></th> \n",
       "        <th class=\"col_heading level0 col0\" >topic_4 @word</th> \n",
       "    </tr></thead> \n",
       "<tbody>    <tr> \n",
       "        <th id=\"T_a4a4413a_0229_11ea_a6fb_107b449f15fclevel0_row0\" class=\"row_heading level0 row0\" >право</th> \n",
       "        <td id=\"T_a4a4413a_0229_11ea_a6fb_107b449f15fcrow0_col0\" class=\"data row0 col0\" >0.06488</td> \n",
       "    </tr>    <tr> \n",
       "        <th id=\"T_a4a4413a_0229_11ea_a6fb_107b449f15fclevel0_row1\" class=\"row_heading level0 row1\" >история</th> \n",
       "        <td id=\"T_a4a4413a_0229_11ea_a6fb_107b449f15fcrow1_col0\" class=\"data row1 col0\" >0.05839</td> \n",
       "    </tr>    <tr> \n",
       "        <th id=\"T_a4a4413a_0229_11ea_a6fb_107b449f15fclevel0_row2\" class=\"row_heading level0 row2\" >историк</th> \n",
       "        <td id=\"T_a4a4413a_0229_11ea_a6fb_107b449f15fcrow2_col0\" class=\"data row2 col0\" >0.03323</td> \n",
       "    </tr>    <tr> \n",
       "        <th id=\"T_a4a4413a_0229_11ea_a6fb_107b449f15fclevel0_row3\" class=\"row_heading level0 row3\" >закон</th> \n",
       "        <td id=\"T_a4a4413a_0229_11ea_a6fb_107b449f15fcrow3_col0\" class=\"data row3 col0\" >0.02666</td> \n",
       "    </tr>    <tr> \n",
       "        <th id=\"T_a4a4413a_0229_11ea_a6fb_107b449f15fclevel0_row4\" class=\"row_heading level0 row4\" >сталин</th> \n",
       "        <td id=\"T_a4a4413a_0229_11ea_a6fb_107b449f15fcrow4_col0\" class=\"data row4 col0\" >0.02115</td> \n",
       "    </tr>    <tr> \n",
       "        <th id=\"T_a4a4413a_0229_11ea_a6fb_107b449f15fclevel0_row5\" class=\"row_heading level0 row5\" >прошлое</th> \n",
       "        <td id=\"T_a4a4413a_0229_11ea_a6fb_107b449f15fcrow5_col0\" class=\"data row5 col0\" >0.0211</td> \n",
       "    </tr>    <tr> \n",
       "        <th id=\"T_a4a4413a_0229_11ea_a6fb_107b449f15fclevel0_row6\" class=\"row_heading level0 row6\" >документ</th> \n",
       "        <td id=\"T_a4a4413a_0229_11ea_a6fb_107b449f15fcrow6_col0\" class=\"data row6 col0\" >0.01627</td> \n",
       "    </tr>    <tr> \n",
       "        <th id=\"T_a4a4413a_0229_11ea_a6fb_107b449f15fclevel0_row7\" class=\"row_heading level0 row7\" >суд</th> \n",
       "        <td id=\"T_a4a4413a_0229_11ea_a6fb_107b449f15fcrow7_col0\" class=\"data row7 col0\" >0.01386</td> \n",
       "    </tr>    <tr> \n",
       "        <th id=\"T_a4a4413a_0229_11ea_a6fb_107b449f15fclevel0_row8\" class=\"row_heading level0 row8\" >правовой</th> \n",
       "        <td id=\"T_a4a4413a_0229_11ea_a6fb_107b449f15fcrow8_col0\" class=\"data row8 col0\" >0.01019</td> \n",
       "    </tr>    <tr> \n",
       "        <th id=\"T_a4a4413a_0229_11ea_a6fb_107b449f15fclevel0_row9\" class=\"row_heading level0 row9\" >средневековый</th> \n",
       "        <td id=\"T_a4a4413a_0229_11ea_a6fb_107b449f15fcrow9_col0\" class=\"data row9 col0\" >0.00955</td> \n",
       "    </tr></tbody> \n",
       "</table> "
      ]
     },
     "metadata": {},
     "output_type": "display_data"
    },
    {
     "data": {
      "text/html": [
       "<b> кондикция владения </b><br /> юрист денис новак о защите при неправомерном лишении владения, виндикационном и кондикционном исках и ценности владения имуществом"
      ]
     },
     "metadata": {},
     "output_type": "display_data"
    },
    {
     "data": {
      "text/html": [
       "<b> главы # король не умирает никогда </b><br /> отрывок из книги «два тела короля. исследование по средневековой политической теологии» медиевиста эрнста канторовича"
      ]
     },
     "metadata": {},
     "output_type": "display_data"
    },
    {
     "data": {
      "text/html": [
       "<style  type=\"text/css\" >\n",
       "</style>  \n",
       "<table id=\"T_a4a4413b_0229_11ea_a6fb_107b449f15fc\" style='display:inline'> \n",
       "<thead>    <tr> \n",
       "        <th class=\"blank level0\" ></th> \n",
       "        <th class=\"col_heading level0 col0\" >topic_5 @word</th> \n",
       "    </tr></thead> \n",
       "<tbody>    <tr> \n",
       "        <th id=\"T_a4a4413b_0229_11ea_a6fb_107b449f15fclevel0_row0\" class=\"row_heading level0 row0\" >звезда</th> \n",
       "        <td id=\"T_a4a4413b_0229_11ea_a6fb_107b449f15fcrow0_col0\" class=\"data row0 col0\" >0.02762</td> \n",
       "    </tr>    <tr> \n",
       "        <th id=\"T_a4a4413b_0229_11ea_a6fb_107b449f15fclevel0_row1\" class=\"row_heading level0 row1\" >земля</th> \n",
       "        <td id=\"T_a4a4413b_0229_11ea_a6fb_107b449f15fcrow1_col0\" class=\"data row1 col0\" >0.02578</td> \n",
       "    </tr>    <tr> \n",
       "        <th id=\"T_a4a4413b_0229_11ea_a6fb_107b449f15fclevel0_row2\" class=\"row_heading level0 row2\" >вселенная</th> \n",
       "        <td id=\"T_a4a4413b_0229_11ea_a6fb_107b449f15fcrow2_col0\" class=\"data row2 col0\" >0.02468</td> \n",
       "    </tr>    <tr> \n",
       "        <th id=\"T_a4a4413b_0229_11ea_a6fb_107b449f15fclevel0_row3\" class=\"row_heading level0 row3\" >галактика</th> \n",
       "        <td id=\"T_a4a4413b_0229_11ea_a6fb_107b449f15fcrow3_col0\" class=\"data row3 col0\" >0.01987</td> \n",
       "    </tr>    <tr> \n",
       "        <th id=\"T_a4a4413b_0229_11ea_a6fb_107b449f15fclevel0_row4\" class=\"row_heading level0 row4\" >планета</th> \n",
       "        <td id=\"T_a4a4413b_0229_11ea_a6fb_107b449f15fcrow4_col0\" class=\"data row4 col0\" >0.01681</td> \n",
       "    </tr>    <tr> \n",
       "        <th id=\"T_a4a4413b_0229_11ea_a6fb_107b449f15fclevel0_row5\" class=\"row_heading level0 row5\" >солнце</th> \n",
       "        <td id=\"T_a4a4413b_0229_11ea_a6fb_107b449f15fcrow5_col0\" class=\"data row5 col0\" >0.01546</td> \n",
       "    </tr>    <tr> \n",
       "        <th id=\"T_a4a4413b_0229_11ea_a6fb_107b449f15fclevel0_row6\" class=\"row_heading level0 row6\" >атмосфера</th> \n",
       "        <td id=\"T_a4a4413b_0229_11ea_a6fb_107b449f15fcrow6_col0\" class=\"data row6 col0\" >0.00898</td> \n",
       "    </tr>    <tr> \n",
       "        <th id=\"T_a4a4413b_0229_11ea_a6fb_107b449f15fclevel0_row7\" class=\"row_heading level0 row7\" >наблюдение</th> \n",
       "        <td id=\"T_a4a4413b_0229_11ea_a6fb_107b449f15fcrow7_col0\" class=\"data row7 col0\" >0.00841</td> \n",
       "    </tr>    <tr> \n",
       "        <th id=\"T_a4a4413b_0229_11ea_a6fb_107b449f15fclevel0_row8\" class=\"row_heading level0 row8\" >планет</th> \n",
       "        <td id=\"T_a4a4413b_0229_11ea_a6fb_107b449f15fcrow8_col0\" class=\"data row8 col0\" >0.0078</td> \n",
       "    </tr>    <tr> \n",
       "        <th id=\"T_a4a4413b_0229_11ea_a6fb_107b449f15fclevel0_row9\" class=\"row_heading level0 row9\" >миллиард</th> \n",
       "        <td id=\"T_a4a4413b_0229_11ea_a6fb_107b449f15fcrow9_col0\" class=\"data row9 col0\" >0.00688</td> \n",
       "    </tr></tbody> \n",
       "</table> "
      ]
     },
     "metadata": {},
     "output_type": "display_data"
    },
    {
     "data": {
      "text/html": [
       "<b> faqприрода вулканов </b><br /> физик олег мельников о самых крупных извержениях в истории земли, доисторических потоках пепла от вулканов и видах проявлений вулканизма"
      ]
     },
     "metadata": {},
     "output_type": "display_data"
    },
    {
     "data": {
      "text/html": [
       "<b> 5 мифов о солнце </b><br /> эксперты постнауки развенчивают мифы о единственной звезде нашей планетной системы"
      ]
     },
     "metadata": {},
     "output_type": "display_data"
    },
    {
     "data": {
      "text/html": [
       "<b> астероиды солнечной системы </b><br /> астроном владимир бусарев о строении вещества астероидов, их таксономических типах и источниках возникновения земной жизни"
      ]
     },
     "metadata": {},
     "output_type": "display_data"
    },
    {
     "data": {
      "text/html": [
       "<b> kepler-452bкак находят «вторые земли»? </b><br /> астроном дмитрий ионов объясняет, чем интересна новая экзопланета и может ли на ней существовать жизнь"
      ]
     },
     "metadata": {},
     "output_type": "display_data"
    },
    {
     "data": {
      "text/html": [
       "<b> главыгорячее дыхание земли </b><br /> отрывок из книги «земля. метеориты, вулканы, землетрясения» геолога николая короновского о внутреннем строении земли и наиболее опасных геологических явлениях"
      ]
     },
     "metadata": {},
     "output_type": "display_data"
    },
    {
     "data": {
      "text/html": [
       "<b> черные дыры в центрах галактик </b><br /> астрофизик ольга сильченко об открытии сверхмассивной черной дыры в туманности андромеды, исследованиях джона корменди и темных гравитирующих телах"
      ]
     },
     "metadata": {},
     "output_type": "display_data"
    },
    {
     "data": {
      "text/html": [
       "<b> формирование планет и протопланетные диски </b><br /> астрофизик сергей попов об образовании планетных систем, снеговой линии и облаке оорта"
      ]
     },
     "metadata": {},
     "output_type": "display_data"
    },
    {
     "data": {
      "text/html": [
       "<b> атмосферы экзопланет </b><br /> астрофизик сергей попов о способах изучения атмосферы, структуре внешних слоев газовой оболочки планет и горячих юпитерах"
      ]
     },
     "metadata": {},
     "output_type": "display_data"
    },
    {
     "data": {
      "text/html": [
       "<b> многообразие планет </b><br /> астрофизик сергей попов о газовых и ледяных гигантах, системах двойных звезд и одиночных планетах"
      ]
     },
     "metadata": {},
     "output_type": "display_data"
    },
    {
     "data": {
      "text/html": [
       "<b> полярные диски в галактиках </b><br /> астрофизик ольга сильченко о галактиках с полярными кольцами, холодной аккреции филаментов и химическом составе газа в полярных дисках"
      ]
     },
     "metadata": {},
     "output_type": "display_data"
    },
    {
     "data": {
      "text/html": [
       "<style  type=\"text/css\" >\n",
       "</style>  \n",
       "<table id=\"T_a4a4413c_0229_11ea_a6fb_107b449f15fc\" style='display:inline'> \n",
       "<thead>    <tr> \n",
       "        <th class=\"blank level0\" ></th> \n",
       "        <th class=\"col_heading level0 col0\" >topic_6 @word</th> \n",
       "    </tr></thead> \n",
       "<tbody>    <tr> \n",
       "        <th id=\"T_a4a4413c_0229_11ea_a6fb_107b449f15fclevel0_row0\" class=\"row_heading level0 row0\" >язык</th> \n",
       "        <td id=\"T_a4a4413c_0229_11ea_a6fb_107b449f15fcrow0_col0\" class=\"data row0 col0\" >0.06828</td> \n",
       "    </tr>    <tr> \n",
       "        <th id=\"T_a4a4413c_0229_11ea_a6fb_107b449f15fclevel0_row1\" class=\"row_heading level0 row1\" >слово</th> \n",
       "        <td id=\"T_a4a4413c_0229_11ea_a6fb_107b449f15fcrow1_col0\" class=\"data row1 col0\" >0.04342</td> \n",
       "    </tr>    <tr> \n",
       "        <th id=\"T_a4a4413c_0229_11ea_a6fb_107b449f15fclevel0_row2\" class=\"row_heading level0 row2\" >мозг</th> \n",
       "        <td id=\"T_a4a4413c_0229_11ea_a6fb_107b449f15fcrow2_col0\" class=\"data row2 col0\" >0.02426</td> \n",
       "    </tr>    <tr> \n",
       "        <th id=\"T_a4a4413c_0229_11ea_a6fb_107b449f15fclevel0_row3\" class=\"row_heading level0 row3\" >память</th> \n",
       "        <td id=\"T_a4a4413c_0229_11ea_a6fb_107b449f15fcrow3_col0\" class=\"data row3 col0\" >0.01303</td> \n",
       "    </tr>    <tr> \n",
       "        <th id=\"T_a4a4413c_0229_11ea_a6fb_107b449f15fclevel0_row4\" class=\"row_heading level0 row4\" >нейрон</th> \n",
       "        <td id=\"T_a4a4413c_0229_11ea_a6fb_107b449f15fcrow4_col0\" class=\"data row4 col0\" >0.01042</td> \n",
       "    </tr>    <tr> \n",
       "        <th id=\"T_a4a4413c_0229_11ea_a6fb_107b449f15fclevel0_row5\" class=\"row_heading level0 row5\" >говорить</th> \n",
       "        <td id=\"T_a4a4413c_0229_11ea_a6fb_107b449f15fcrow5_col0\" class=\"data row5 col0\" >0.00996</td> \n",
       "    </tr>    <tr> \n",
       "        <th id=\"T_a4a4413c_0229_11ea_a6fb_107b449f15fclevel0_row6\" class=\"row_heading level0 row6\" >словарь</th> \n",
       "        <td id=\"T_a4a4413c_0229_11ea_a6fb_107b449f15fcrow6_col0\" class=\"data row6 col0\" >0.00819</td> \n",
       "    </tr>    <tr> \n",
       "        <th id=\"T_a4a4413c_0229_11ea_a6fb_107b449f15fclevel0_row7\" class=\"row_heading level0 row7\" >речь</th> \n",
       "        <td id=\"T_a4a4413c_0229_11ea_a6fb_107b449f15fcrow7_col0\" class=\"data row7 col0\" >0.00815</td> \n",
       "    </tr>    <tr> \n",
       "        <th id=\"T_a4a4413c_0229_11ea_a6fb_107b449f15fclevel0_row8\" class=\"row_heading level0 row8\" >звук</th> \n",
       "        <td id=\"T_a4a4413c_0229_11ea_a6fb_107b449f15fcrow8_col0\" class=\"data row8 col0\" >0.00801</td> \n",
       "    </tr>    <tr> \n",
       "        <th id=\"T_a4a4413c_0229_11ea_a6fb_107b449f15fclevel0_row9\" class=\"row_heading level0 row9\" >буква</th> \n",
       "        <td id=\"T_a4a4413c_0229_11ea_a6fb_107b449f15fcrow9_col0\" class=\"data row9 col0\" >0.00801</td> \n",
       "    </tr></tbody> \n",
       "</table> "
      ]
     },
     "metadata": {},
     "output_type": "display_data"
    },
    {
     "data": {
      "text/html": [
       "<b> эмоции в музыкевосприятие расстояний в тональном поле </b><br /> нейропсихолог марина корсакова-крейн о квинтовом круге, улавливании расстояний в тональном пространстве и важности интуиции в восприятии музыки"
      ]
     },
     "metadata": {},
     "output_type": "display_data"
    },
    {
     "data": {
      "text/html": [
       "<b> падежи в языках мира </b><br /> лингвист петр аркадьев о роли падежей в русской грамматике и их аналогах в других языках"
      ]
     },
     "metadata": {},
     "output_type": "display_data"
    },
    {
     "data": {
      "text/html": [
       "<b> языковая сложность </b><br /> лингвист александр пиперски о лингвистическом изучении сложности, формализованных языковых описаниях и взаимнооднозначности соответствия между формой и значением"
      ]
     },
     "metadata": {},
     "output_type": "display_data"
    },
    {
     "data": {
      "text/html": [
       "<b> синтаксические модели </b><br /> лингвист екатерина лютикова о синтаксических категориях, частеречной характеристике слова и соотношении морфологической и синтаксической зависимостей"
      ]
     },
     "metadata": {},
     "output_type": "display_data"
    },
    {
     "data": {
      "text/html": [
       "<b> метод записи движений глаз в психолингвистике </b><br /> психолингвист ирина секерина о «привязке» движений глаз к языковой деятельности, парадигме «визуального мира» и специальных стимульных материалах"
      ]
     },
     "metadata": {},
     "output_type": "display_data"
    },
    {
     "data": {
      "text/html": [
       "<b> грамматика адыгейского языка </b><br /> лингвист петр аркадьев о полисинтетизме, особенностях абхазо-адыгских языков и грамматических уровнях"
      ]
     },
     "metadata": {},
     "output_type": "display_data"
    },
    {
     "data": {
      "text/html": [
       "<b> модели памяти в когнитивной психологии </b><br /> психолог мария фаликман о системах памяти, принципах хранения информации и причинах забывания"
      ]
     },
     "metadata": {},
     "output_type": "display_data"
    },
    {
     "data": {
      "text/html": [
       "<b> гласные русского языка </b><br /> лингвист игорь исаев об истории гласных в литературном языке, следах утраченных букв и особенностях говоров"
      ]
     },
     "metadata": {},
     "output_type": "display_data"
    },
    {
     "data": {
      "text/html": [
       "<b> двуязычные словари </b><br /> лингвист дмитрий добровольский о необходимости больших академических словарей, поливариантности немецкого языка и сложностях перевода фразеологизмов"
      ]
     },
     "metadata": {},
     "output_type": "display_data"
    },
    {
     "data": {
      "text/html": [
       "<b> лексическая сочетаемость </b><br /> лингвист александр пиперски о парадоксальных словосочетаниях, модели мешка слов и использовании логарифмов в лингвистике"
      ]
     },
     "metadata": {},
     "output_type": "display_data"
    },
    {
     "data": {
      "text/html": [
       "<style  type=\"text/css\" >\n",
       "</style>  \n",
       "<table id=\"T_a4a4413d_0229_11ea_a6fb_107b449f15fc\" style='display:inline'> \n",
       "<thead>    <tr> \n",
       "        <th class=\"blank level0\" ></th> \n",
       "        <th class=\"col_heading level0 col0\" >topic_7 @word</th> \n",
       "    </tr></thead> \n",
       "<tbody>    <tr> \n",
       "        <th id=\"T_a4a4413d_0229_11ea_a6fb_107b449f15fclevel0_row0\" class=\"row_heading level0 row0\" >церковь</th> \n",
       "        <td id=\"T_a4a4413d_0229_11ea_a6fb_107b449f15fcrow0_col0\" class=\"data row0 col0\" >0.04763</td> \n",
       "    </tr>    <tr> \n",
       "        <th id=\"T_a4a4413d_0229_11ea_a6fb_107b449f15fclevel0_row1\" class=\"row_heading level0 row1\" >христианский</th> \n",
       "        <td id=\"T_a4a4413d_0229_11ea_a6fb_107b449f15fcrow1_col0\" class=\"data row1 col0\" >0.03221</td> \n",
       "    </tr>    <tr> \n",
       "        <th id=\"T_a4a4413d_0229_11ea_a6fb_107b449f15fclevel0_row2\" class=\"row_heading level0 row2\" >христианство</th> \n",
       "        <td id=\"T_a4a4413d_0229_11ea_a6fb_107b449f15fcrow2_col0\" class=\"data row2 col0\" >0.02817</td> \n",
       "    </tr>    <tr> \n",
       "        <th id=\"T_a4a4413d_0229_11ea_a6fb_107b449f15fclevel0_row3\" class=\"row_heading level0 row3\" >мода</th> \n",
       "        <td id=\"T_a4a4413d_0229_11ea_a6fb_107b449f15fcrow3_col0\" class=\"data row3 col0\" >0.02656</td> \n",
       "    </tr>    <tr> \n",
       "        <th id=\"T_a4a4413d_0229_11ea_a6fb_107b449f15fclevel0_row4\" class=\"row_heading level0 row4\" >кавказ</th> \n",
       "        <td id=\"T_a4a4413d_0229_11ea_a6fb_107b449f15fcrow4_col0\" class=\"data row4 col0\" >0.02094</td> \n",
       "    </tr>    <tr> \n",
       "        <th id=\"T_a4a4413d_0229_11ea_a6fb_107b449f15fclevel0_row5\" class=\"row_heading level0 row5\" >рим</th> \n",
       "        <td id=\"T_a4a4413d_0229_11ea_a6fb_107b449f15fcrow5_col0\" class=\"data row5 col0\" >0.0205</td> \n",
       "    </tr>    <tr> \n",
       "        <th id=\"T_a4a4413d_0229_11ea_a6fb_107b449f15fclevel0_row6\" class=\"row_heading level0 row6\" >арабский</th> \n",
       "        <td id=\"T_a4a4413d_0229_11ea_a6fb_107b449f15fcrow6_col0\" class=\"data row6 col0\" >0.01842</td> \n",
       "    </tr>    <tr> \n",
       "        <th id=\"T_a4a4413d_0229_11ea_a6fb_107b449f15fclevel0_row7\" class=\"row_heading level0 row7\" >церковный</th> \n",
       "        <td id=\"T_a4a4413d_0229_11ea_a6fb_107b449f15fcrow7_col0\" class=\"data row7 col0\" >0.01763</td> \n",
       "    </tr>    <tr> \n",
       "        <th id=\"T_a4a4413d_0229_11ea_a6fb_107b449f15fclevel0_row8\" class=\"row_heading level0 row8\" >араб</th> \n",
       "        <td id=\"T_a4a4413d_0229_11ea_a6fb_107b449f15fcrow8_col0\" class=\"data row8 col0\" >0.01286</td> \n",
       "    </tr>    <tr> \n",
       "        <th id=\"T_a4a4413d_0229_11ea_a6fb_107b449f15fclevel0_row9\" class=\"row_heading level0 row9\" >ледник</th> \n",
       "        <td id=\"T_a4a4413d_0229_11ea_a6fb_107b449f15fcrow9_col0\" class=\"data row9 col0\" >0.01197</td> \n",
       "    </tr></tbody> \n",
       "</table> "
      ]
     },
     "metadata": {},
     "output_type": "display_data"
    },
    {
     "data": {
      "text/html": [
       "<style  type=\"text/css\" >\n",
       "</style>  \n",
       "<table id=\"T_a4a4413e_0229_11ea_a6fb_107b449f15fc\" style='display:inline'> \n",
       "<thead>    <tr> \n",
       "        <th class=\"blank level0\" ></th> \n",
       "        <th class=\"col_heading level0 col0\" >topic_8 @word</th> \n",
       "    </tr></thead> \n",
       "<tbody>    <tr> \n",
       "        <th id=\"T_a4a4413e_0229_11ea_a6fb_107b449f15fclevel0_row0\" class=\"row_heading level0 row0\" >животное</th> \n",
       "        <td id=\"T_a4a4413e_0229_11ea_a6fb_107b449f15fcrow0_col0\" class=\"data row0 col0\" >0.02025</td> \n",
       "    </tr>    <tr> \n",
       "        <th id=\"T_a4a4413e_0229_11ea_a6fb_107b449f15fclevel0_row1\" class=\"row_heading level0 row1\" >вид</th> \n",
       "        <td id=\"T_a4a4413e_0229_11ea_a6fb_107b449f15fcrow1_col0\" class=\"data row1 col0\" >0.01556</td> \n",
       "    </tr>    <tr> \n",
       "        <th id=\"T_a4a4413e_0229_11ea_a6fb_107b449f15fclevel0_row2\" class=\"row_heading level0 row2\" >женщина</th> \n",
       "        <td id=\"T_a4a4413e_0229_11ea_a6fb_107b449f15fcrow2_col0\" class=\"data row2 col0\" >0.0129</td> \n",
       "    </tr>    <tr> \n",
       "        <th id=\"T_a4a4413e_0229_11ea_a6fb_107b449f15fclevel0_row3\" class=\"row_heading level0 row3\" >растение</th> \n",
       "        <td id=\"T_a4a4413e_0229_11ea_a6fb_107b449f15fcrow3_col0\" class=\"data row3 col0\" >0.0126</td> \n",
       "    </tr>    <tr> \n",
       "        <th id=\"T_a4a4413e_0229_11ea_a6fb_107b449f15fclevel0_row4\" class=\"row_heading level0 row4\" >эволюция</th> \n",
       "        <td id=\"T_a4a4413e_0229_11ea_a6fb_107b449f15fcrow4_col0\" class=\"data row4 col0\" >0.01031</td> \n",
       "    </tr>    <tr> \n",
       "        <th id=\"T_a4a4413e_0229_11ea_a6fb_107b449f15fclevel0_row5\" class=\"row_heading level0 row5\" >поведение</th> \n",
       "        <td id=\"T_a4a4413e_0229_11ea_a6fb_107b449f15fcrow5_col0\" class=\"data row5 col0\" >0.00934</td> \n",
       "    </tr>    <tr> \n",
       "        <th id=\"T_a4a4413e_0229_11ea_a6fb_107b449f15fclevel0_row6\" class=\"row_heading level0 row6\" >мужчина</th> \n",
       "        <td id=\"T_a4a4413e_0229_11ea_a6fb_107b449f15fcrow6_col0\" class=\"data row6 col0\" >0.00901</td> \n",
       "    </tr>    <tr> \n",
       "        <th id=\"T_a4a4413e_0229_11ea_a6fb_107b449f15fclevel0_row7\" class=\"row_heading level0 row7\" >самец</th> \n",
       "        <td id=\"T_a4a4413e_0229_11ea_a6fb_107b449f15fcrow7_col0\" class=\"data row7 col0\" >0.00824</td> \n",
       "    </tr>    <tr> \n",
       "        <th id=\"T_a4a4413e_0229_11ea_a6fb_107b449f15fclevel0_row8\" class=\"row_heading level0 row8\" >птица</th> \n",
       "        <td id=\"T_a4a4413e_0229_11ea_a6fb_107b449f15fcrow8_col0\" class=\"data row8 col0\" >0.00793</td> \n",
       "    </tr>    <tr> \n",
       "        <th id=\"T_a4a4413e_0229_11ea_a6fb_107b449f15fclevel0_row9\" class=\"row_heading level0 row9\" >самка</th> \n",
       "        <td id=\"T_a4a4413e_0229_11ea_a6fb_107b449f15fcrow9_col0\" class=\"data row9 col0\" >0.00737</td> \n",
       "    </tr></tbody> \n",
       "</table> "
      ]
     },
     "metadata": {},
     "output_type": "display_data"
    },
    {
     "data": {
      "text/html": [
       "<b> главыот секса до зачатия </b><br /> отрывок из книги биолога роберта мартина «как мы делаем это» о том, что известно науке о сексе и системе половых отношений"
      ]
     },
     "metadata": {},
     "output_type": "display_data"
    },
    {
     "data": {
      "text/html": [
       "<b> «социальная моногамия совершенно не коррелирует с сексуальной моногамией» </b><br /> интервью с биологом андреем чабовским о феномене моногамии, теории конфликта полов и причинах привязанности между партнерами"
      ]
     },
     "metadata": {},
     "output_type": "display_data"
    },
    {
     "data": {
      "text/html": [
       "<b> главы # коэволюция. сплетая паутину жизни </b><br /> глава из книги \"эволюциятриумф идеи\" исследователя в yale university's morse college  карла циммера"
      ]
     },
     "metadata": {},
     "output_type": "display_data"
    },
    {
     "data": {
      "text/html": [
       "<b> главы # сексуальные привилегии </b><br /> отрывок из книги «политика у шимпанзе. власть и секс у приматов» нидерландского приматолога и этолога франса де валя"
      ]
     },
     "metadata": {},
     "output_type": "display_data"
    },
    {
     "data": {
      "text/html": [
       "<b> варвара веденина\"половой отбор не всегда противоречит естественному\" </b><br /> интервью с биологом варварой ведениной о гипотезах, объясняющих выбор самок, и генетической детерминации механизмов полового отбора"
      ]
     },
     "metadata": {},
     "output_type": "display_data"
    },
    {
     "data": {
      "text/html": [
       "<b> исследования моногамии у животных </b><br /> биолог андрей чабовский о формах взаимоотношений между полами, гормоне вазопрессин и экспресс-методах оценки моногамности"
      ]
     },
     "metadata": {},
     "output_type": "display_data"
    },
    {
     "data": {
      "text/html": [
       "<b> главы # парадокс измены </b><br /> отрывок из книги  «химия любви» профессора психиатрии медицинской школы университета эмори ларри янга и автора научно-популярных книг по биологии брайана александера"
      ]
     },
     "metadata": {},
     "output_type": "display_data"
    },
    {
     "data": {
      "text/html": [
       "<b> гендерные особенности инсомнии </b><br /> сомнолог михаил полуэктов о различиях инсомнии мужчин и женщин, социальных рисках бессонницы и проявлениях сонных расстройств при неврозах"
      ]
     },
     "metadata": {},
     "output_type": "display_data"
    },
    {
     "data": {
      "text/html": [
       "<b> архат абжанов«строение черепа птицы унаследовали от динозавров» </b><br /> биолог архат абжанов об эволюции птиц, строении их черепа и общих чертах с крокодилами"
      ]
     },
     "metadata": {},
     "output_type": "display_data"
    },
    {
     "data": {
      "text/html": [
       "<b> «в норме альтруисты должны отбраковываться, несмотря на то что они полезны для группы» </b><br /> интервью с биологом александром марковым о генах альтруизма, эволюционном отборе и отказе от размножения"
      ]
     },
     "metadata": {},
     "output_type": "display_data"
    },
    {
     "data": {
      "text/html": [
       "<style  type=\"text/css\" >\n",
       "</style>  \n",
       "<table id=\"T_a4a4413f_0229_11ea_a6fb_107b449f15fc\" style='display:inline'> \n",
       "<thead>    <tr> \n",
       "        <th class=\"blank level0\" ></th> \n",
       "        <th class=\"col_heading level0 col0\" >topic_9 @word</th> \n",
       "    </tr></thead> \n",
       "<tbody>    <tr> \n",
       "        <th id=\"T_a4a4413f_0229_11ea_a6fb_107b449f15fclevel0_row0\" class=\"row_heading level0 row0\" >государство</th> \n",
       "        <td id=\"T_a4a4413f_0229_11ea_a6fb_107b449f15fcrow0_col0\" class=\"data row0 col0\" >0.01974</td> \n",
       "    </tr>    <tr> \n",
       "        <th id=\"T_a4a4413f_0229_11ea_a6fb_107b449f15fclevel0_row1\" class=\"row_heading level0 row1\" >страна</th> \n",
       "        <td id=\"T_a4a4413f_0229_11ea_a6fb_107b449f15fcrow1_col0\" class=\"data row1 col0\" >0.01952</td> \n",
       "    </tr>    <tr> \n",
       "        <th id=\"T_a4a4413f_0229_11ea_a6fb_107b449f15fclevel0_row2\" class=\"row_heading level0 row2\" >власть</th> \n",
       "        <td id=\"T_a4a4413f_0229_11ea_a6fb_107b449f15fcrow2_col0\" class=\"data row2 col0\" >0.01643</td> \n",
       "    </tr>    <tr> \n",
       "        <th id=\"T_a4a4413f_0229_11ea_a6fb_107b449f15fclevel0_row3\" class=\"row_heading level0 row3\" >россия</th> \n",
       "        <td id=\"T_a4a4413f_0229_11ea_a6fb_107b449f15fcrow3_col0\" class=\"data row3 col0\" >0.01608</td> \n",
       "    </tr>    <tr> \n",
       "        <th id=\"T_a4a4413f_0229_11ea_a6fb_107b449f15fclevel0_row4\" class=\"row_heading level0 row4\" >общество</th> \n",
       "        <td id=\"T_a4a4413f_0229_11ea_a6fb_107b449f15fcrow4_col0\" class=\"data row4 col0\" >0.01587</td> \n",
       "    </tr>    <tr> \n",
       "        <th id=\"T_a4a4413f_0229_11ea_a6fb_107b449f15fclevel0_row5\" class=\"row_heading level0 row5\" >политический</th> \n",
       "        <td id=\"T_a4a4413f_0229_11ea_a6fb_107b449f15fcrow5_col0\" class=\"data row5 col0\" >0.01369</td> \n",
       "    </tr>    <tr> \n",
       "        <th id=\"T_a4a4413f_0229_11ea_a6fb_107b449f15fclevel0_row6\" class=\"row_heading level0 row6\" >война</th> \n",
       "        <td id=\"T_a4a4413f_0229_11ea_a6fb_107b449f15fcrow6_col0\" class=\"data row6 col0\" >0.01225</td> \n",
       "    </tr>    <tr> \n",
       "        <th id=\"T_a4a4413f_0229_11ea_a6fb_107b449f15fclevel0_row7\" class=\"row_heading level0 row7\" >политика</th> \n",
       "        <td id=\"T_a4a4413f_0229_11ea_a6fb_107b449f15fcrow7_col0\" class=\"data row7 col0\" >0.00957</td> \n",
       "    </tr>    <tr> \n",
       "        <th id=\"T_a4a4413f_0229_11ea_a6fb_107b449f15fclevel0_row8\" class=\"row_heading level0 row8\" >германия</th> \n",
       "        <td id=\"T_a4a4413f_0229_11ea_a6fb_107b449f15fcrow8_col0\" class=\"data row8 col0\" >0.00681</td> \n",
       "    </tr>    <tr> \n",
       "        <th id=\"T_a4a4413f_0229_11ea_a6fb_107b449f15fclevel0_row9\" class=\"row_heading level0 row9\" >свобода</th> \n",
       "        <td id=\"T_a4a4413f_0229_11ea_a6fb_107b449f15fcrow9_col0\" class=\"data row9 col0\" >0.00661</td> \n",
       "    </tr></tbody> \n",
       "</table> "
      ]
     },
     "metadata": {},
     "output_type": "display_data"
    },
    {
     "data": {
      "text/html": [
       "<b> выборы президента сша </b><br /> как проходят президентские выборы в соединенных штатах америки, что такое праймериз и кокусы и как работает принцип «победитель получает все»"
      ]
     },
     "metadata": {},
     "output_type": "display_data"
    },
    {
     "data": {
      "text/html": [
       "<b> арабская весна </b><br /> арабист рами эль-кальюби об истории «арабской весны», значении социальных медиа в этом процессе и последствиях протестов"
      ]
     },
     "metadata": {},
     "output_type": "display_data"
    },
    {
     "data": {
      "text/html": [
       "<b> первая мировая войнапричины и последствия </b><br /> о россии в первой мировой, ключевых событиях и этапах войны, тотальном характере и ее итогах"
      ]
     },
     "metadata": {},
     "output_type": "display_data"
    },
    {
     "data": {
      "text/html": [
       "<b> главыконституционные революции </b><br /> отрывок из книги «революции. очень краткое введение» социолога и политолога джека а. голдстоуна о революциях в америке, франции, европе (1830 и 1848 гг.) и японии эпохи мэйдзи"
      ]
     },
     "metadata": {},
     "output_type": "display_data"
    },
    {
     "data": {
      "text/html": [
       "<b> северная и южная кореяистория разделения </b><br /> историк наталья ким о последствиях колонизации кореи, влиянии ссср и сша на разделение этноса и проблемах в отношениях двух государств"
      ]
     },
     "metadata": {},
     "output_type": "display_data"
    },
    {
     "data": {
      "text/html": [
       "<b> русский анархизм </b><br /> историк александр шубин об анархистских течениях в россии, противоречиях между бакуниным и марксом и научном анархизме кропоткина"
      ]
     },
     "metadata": {},
     "output_type": "display_data"
    },
    {
     "data": {
      "text/html": [
       "<b> левый терроризм в германии </b><br /> историк илья женин о студенческих протестах 1968 года, «фракции красной армии» и трагических событиях «немецкой осени»"
      ]
     },
     "metadata": {},
     "output_type": "display_data"
    },
    {
     "data": {
      "text/html": [
       "<b> «национал-социализм сыграл роковую роль в воспитании немецкого духа» </b><br /> интервью с историком ильей жениным о веймарской республике, советско-германских отношениях и немецком коллективизме"
      ]
     },
     "metadata": {},
     "output_type": "display_data"
    },
    {
     "data": {
      "text/html": [
       "<b> диктатура монтаньяров </b><br /> историк дмитрий бовыкин о якобинском клубе, политической карьере робеспьера и падении диктатуры монтаньяров"
      ]
     },
     "metadata": {},
     "output_type": "display_data"
    },
    {
     "data": {
      "text/html": [
       "<b> патриотическая риторика в годы гражданской войны </b><br /> историк людмила новикова об антибольшевистском лагере, красной пропаганде и мифе об интервенции"
      ]
     },
     "metadata": {},
     "output_type": "display_data"
    },
    {
     "data": {
      "text/html": [
       "<style  type=\"text/css\" >\n",
       "</style>  \n",
       "<table id=\"T_a4a44140_0229_11ea_a6fb_107b449f15fc\" style='display:inline'> \n",
       "<thead>    <tr> \n",
       "        <th class=\"blank level0\" ></th> \n",
       "        <th class=\"col_heading level0 col0\" >topic_10 @word</th> \n",
       "    </tr></thead> \n",
       "<tbody>    <tr> \n",
       "        <th id=\"T_a4a44140_0229_11ea_a6fb_107b449f15fclevel0_row0\" class=\"row_heading level0 row0\" >частица</th> \n",
       "        <td id=\"T_a4a44140_0229_11ea_a6fb_107b449f15fcrow0_col0\" class=\"data row0 col0\" >0.02242</td> \n",
       "    </tr>    <tr> \n",
       "        <th id=\"T_a4a44140_0229_11ea_a6fb_107b449f15fclevel0_row1\" class=\"row_heading level0 row1\" >энергия</th> \n",
       "        <td id=\"T_a4a44140_0229_11ea_a6fb_107b449f15fcrow1_col0\" class=\"data row1 col0\" >0.01598</td> \n",
       "    </tr>    <tr> \n",
       "        <th id=\"T_a4a44140_0229_11ea_a6fb_107b449f15fclevel0_row2\" class=\"row_heading level0 row2\" >электрон</th> \n",
       "        <td id=\"T_a4a44140_0229_11ea_a6fb_107b449f15fcrow2_col0\" class=\"data row2 col0\" >0.01149</td> \n",
       "    </tr>    <tr> \n",
       "        <th id=\"T_a4a44140_0229_11ea_a6fb_107b449f15fclevel0_row3\" class=\"row_heading level0 row3\" >атом</th> \n",
       "        <td id=\"T_a4a44140_0229_11ea_a6fb_107b449f15fcrow3_col0\" class=\"data row3 col0\" >0.01136</td> \n",
       "    </tr>    <tr> \n",
       "        <th id=\"T_a4a44140_0229_11ea_a6fb_107b449f15fclevel0_row4\" class=\"row_heading level0 row4\" >кварк</th> \n",
       "        <td id=\"T_a4a44140_0229_11ea_a6fb_107b449f15fcrow4_col0\" class=\"data row4 col0\" >0.01014</td> \n",
       "    </tr>    <tr> \n",
       "        <th id=\"T_a4a44140_0229_11ea_a6fb_107b449f15fclevel0_row5\" class=\"row_heading level0 row5\" >эксперимент</th> \n",
       "        <td id=\"T_a4a44140_0229_11ea_a6fb_107b449f15fcrow5_col0\" class=\"data row5 col0\" >0.00907</td> \n",
       "    </tr>    <tr> \n",
       "        <th id=\"T_a4a44140_0229_11ea_a6fb_107b449f15fclevel0_row6\" class=\"row_heading level0 row6\" >свет</th> \n",
       "        <td id=\"T_a4a44140_0229_11ea_a6fb_107b449f15fcrow6_col0\" class=\"data row6 col0\" >0.00891</td> \n",
       "    </tr>    <tr> \n",
       "        <th id=\"T_a4a44140_0229_11ea_a6fb_107b449f15fclevel0_row7\" class=\"row_heading level0 row7\" >свойство</th> \n",
       "        <td id=\"T_a4a44140_0229_11ea_a6fb_107b449f15fcrow7_col0\" class=\"data row7 col0\" >0.00834</td> \n",
       "    </tr>    <tr> \n",
       "        <th id=\"T_a4a44140_0229_11ea_a6fb_107b449f15fclevel0_row8\" class=\"row_heading level0 row8\" >фотон</th> \n",
       "        <td id=\"T_a4a44140_0229_11ea_a6fb_107b449f15fcrow8_col0\" class=\"data row8 col0\" >0.00806</td> \n",
       "    </tr>    <tr> \n",
       "        <th id=\"T_a4a44140_0229_11ea_a6fb_107b449f15fclevel0_row9\" class=\"row_heading level0 row9\" >физика</th> \n",
       "        <td id=\"T_a4a44140_0229_11ea_a6fb_107b449f15fcrow9_col0\" class=\"data row9 col0\" >0.00771</td> \n",
       "    </tr></tbody> \n",
       "</table> "
      ]
     },
     "metadata": {},
     "output_type": "display_data"
    },
    {
     "data": {
      "text/html": [
       "<b> лептоны и нейтрино </b><br /> физик дмитрий казаков о трех поколениях лептонов, эффекте нейтринных осцилляций и роли нейтрино в космологии"
      ]
     },
     "metadata": {},
     "output_type": "display_data"
    },
    {
     "data": {
      "text/html": [
       "<b> история ускорителей атомных ядер </b><br /> физик григорий трубников об эволюции ускорителей, их видах и перспективах работы большого адронного коллайдера"
      ]
     },
     "metadata": {},
     "output_type": "display_data"
    },
    {
     "data": {
      "text/html": [
       "<b> элементарные частицы </b><br /> физик дмитрий казаков об истории открытия, свойствах и классификации элементарных частиц"
      ]
     },
     "metadata": {},
     "output_type": "display_data"
    },
    {
     "data": {
      "text/html": [
       "<b> faqтоп-кварк </b><br /> 7 фактов о наиболее массивной частице стандартной модели"
      ]
     },
     "metadata": {},
     "output_type": "display_data"
    },
    {
     "data": {
      "text/html": [
       "<b> faqкварки </b><br /> 5 фактов о поколениях фундаментальных частиц стандартной модели и появлении «очарованной физики», обьясняющей взаимодействие элементарных частиц"
      ]
     },
     "metadata": {},
     "output_type": "display_data"
    },
    {
     "data": {
      "text/html": [
       "<b> адроны </b><br /> физик дмитрий казаков о мире мезонов и барионов, свойствах кварков и адронных резонансах"
      ]
     },
     "metadata": {},
     "output_type": "display_data"
    },
    {
     "data": {
      "text/html": [
       "<b> faqвакуум как дуальный сверхпроводник </b><br /> 5 фактов о теории сильных взаимодействий"
      ]
     },
     "metadata": {},
     "output_type": "display_data"
    },
    {
     "data": {
      "text/html": [
       "<b> faqcp-нарушение в кварках </b><br /> 7 фактов о смешивании поколений кварков, экспериментах на бак и асимметрии в мире элементарных частиц"
      ]
     },
     "metadata": {},
     "output_type": "display_data"
    },
    {
     "data": {
      "text/html": [
       "<b> faqальтернативные механизмы сверхпроводимости </b><br /> 5 фактов о высокотемпературной сверхпроводимости и возможности ее достижения"
      ]
     },
     "metadata": {},
     "output_type": "display_data"
    },
    {
     "data": {
      "text/html": [
       "<b> симметрии в мире элементарных частиц </b><br /> физик дмитрий казаков о типах преобразований в физике частиц, лоренц-инвариантности и нарушениях симметрии"
      ]
     },
     "metadata": {},
     "output_type": "display_data"
    },
    {
     "data": {
      "text/html": [
       "<style  type=\"text/css\" >\n",
       "</style>  \n",
       "<table id=\"T_a4a44141_0229_11ea_a6fb_107b449f15fc\" style='display:inline'> \n",
       "<thead>    <tr> \n",
       "        <th class=\"blank level0\" ></th> \n",
       "        <th class=\"col_heading level0 col0\" >topic_11 @word</th> \n",
       "    </tr></thead> \n",
       "<tbody>    <tr> \n",
       "        <th id=\"T_a4a44141_0229_11ea_a6fb_107b449f15fclevel0_row0\" class=\"row_heading level0 row0\" >понятие</th> \n",
       "        <td id=\"T_a4a44141_0229_11ea_a6fb_107b449f15fcrow0_col0\" class=\"data row0 col0\" >0.01048</td> \n",
       "    </tr>    <tr> \n",
       "        <th id=\"T_a4a44141_0229_11ea_a6fb_107b449f15fclevel0_row1\" class=\"row_heading level0 row1\" >отношение</th> \n",
       "        <td id=\"T_a4a44141_0229_11ea_a6fb_107b449f15fcrow1_col0\" class=\"data row1 col0\" >0.00968</td> \n",
       "    </tr>    <tr> \n",
       "        <th id=\"T_a4a44141_0229_11ea_a6fb_107b449f15fclevel0_row2\" class=\"row_heading level0 row2\" >являться</th> \n",
       "        <td id=\"T_a4a44141_0229_11ea_a6fb_107b449f15fcrow2_col0\" class=\"data row2 col0\" >0.00914</td> \n",
       "    </tr>    <tr> \n",
       "        <th id=\"T_a4a44141_0229_11ea_a6fb_107b449f15fclevel0_row3\" class=\"row_heading level0 row3\" >философия</th> \n",
       "        <td id=\"T_a4a44141_0229_11ea_a6fb_107b449f15fcrow3_col0\" class=\"data row3 col0\" >0.00785</td> \n",
       "    </tr>    <tr> \n",
       "        <th id=\"T_a4a44141_0229_11ea_a6fb_107b449f15fclevel0_row4\" class=\"row_heading level0 row4\" >представление</th> \n",
       "        <td id=\"T_a4a44141_0229_11ea_a6fb_107b449f15fcrow4_col0\" class=\"data row4 col0\" >0.00722</td> \n",
       "    </tr>    <tr> \n",
       "        <th id=\"T_a4a44141_0229_11ea_a6fb_107b449f15fclevel0_row5\" class=\"row_heading level0 row5\" >социальный</th> \n",
       "        <td id=\"T_a4a44141_0229_11ea_a6fb_107b449f15fcrow5_col0\" class=\"data row5 col0\" >0.00683</td> \n",
       "    </tr>    <tr> \n",
       "        <th id=\"T_a4a44141_0229_11ea_a6fb_107b449f15fclevel0_row6\" class=\"row_heading level0 row6\" >социология</th> \n",
       "        <td id=\"T_a4a44141_0229_11ea_a6fb_107b449f15fcrow6_col0\" class=\"data row6 col0\" >0.00666</td> \n",
       "    </tr>    <tr> \n",
       "        <th id=\"T_a4a44141_0229_11ea_a6fb_107b449f15fclevel0_row7\" class=\"row_heading level0 row7\" >действие</th> \n",
       "        <td id=\"T_a4a44141_0229_11ea_a6fb_107b449f15fcrow7_col0\" class=\"data row7 col0\" >0.00649</td> \n",
       "    </tr>    <tr> \n",
       "        <th id=\"T_a4a44141_0229_11ea_a6fb_107b449f15fclevel0_row8\" class=\"row_heading level0 row8\" >смысл</th> \n",
       "        <td id=\"T_a4a44141_0229_11ea_a6fb_107b449f15fcrow8_col0\" class=\"data row8 col0\" >0.0063</td> \n",
       "    </tr>    <tr> \n",
       "        <th id=\"T_a4a44141_0229_11ea_a6fb_107b449f15fclevel0_row9\" class=\"row_heading level0 row9\" >знание</th> \n",
       "        <td id=\"T_a4a44141_0229_11ea_a6fb_107b449f15fcrow9_col0\" class=\"data row9 col0\" >0.0063</td> \n",
       "    </tr></tbody> \n",
       "</table> "
      ]
     },
     "metadata": {},
     "output_type": "display_data"
    },
    {
     "data": {
      "text/html": [
       "<b> социологическая теория познанияшколы и направления </b><br /> социолог виктор вахштайн о ключевых фигурах, вопросах и главных спорах эпистемологии"
      ]
     },
     "metadata": {},
     "output_type": "display_data"
    },
    {
     "data": {
      "text/html": [
       "<b> к логике демаркации«зеленая линия» социальных наук </b><br /> где проходит граница между прикладным и теоретическим в социологии, и как она конструируется?"
      ]
     },
     "metadata": {},
     "output_type": "display_data"
    },
    {
     "data": {
      "text/html": [
       "<b> теория действия в социологии </b><br /> о доминирующих подходах к пониманию социального действия, истории исследований, природе действия и теории сингулярной каузальности"
      ]
     },
     "metadata": {},
     "output_type": "display_data"
    },
    {
     "data": {
      "text/html": [
       "<b> инциденты на дисциплинарных границах </b><br /> каковы «языковые» и «жанровые» отличия социологии от социальной антропологии?"
      ]
     },
     "metadata": {},
     "output_type": "display_data"
    },
    {
     "data": {
      "text/html": [
       "<b> главы # общественные науки и легитимность согласия </b><br /> отрывок из книги социологов люка болтански и лорана тевено \"критика и обоснование справедливостиочерки социологии градов\""
      ]
     },
     "metadata": {},
     "output_type": "display_data"
    },
    {
     "data": {
      "text/html": [
       "<b> к социологической «теории относительности» </b><br /> события шредингерапример блефа в игре в покер"
      ]
     },
     "metadata": {},
     "output_type": "display_data"
    },
    {
     "data": {
      "text/html": [
       "<b> формула сообщества </b><br /> почему понятие сообщества утрачивает значение?"
      ]
     },
     "metadata": {},
     "output_type": "display_data"
    },
    {
     "data": {
      "text/html": [
       "<b> американская историческая социология об изменчивости и специфичности прошлого </b><br /> историк ирина савельева о проблеме междисциплинарности, «историческом повороте» и отношениях между историками и социологами"
      ]
     },
     "metadata": {},
     "output_type": "display_data"
    },
    {
     "data": {
      "text/html": [
       "<b> 5 книг о посткритической социологии </b><br /> что читать о критике социологии как науки, рекомендует кандидат социологических наук виктор вахштайн"
      ]
     },
     "metadata": {},
     "output_type": "display_data"
    },
    {
     "data": {
      "text/html": [
       "<b> главная проблема философии шеллинга </b><br /> философ петр резвых о единстве шеллинговской философии, интеллектуальном созерцании и методическом антропоморфизме"
      ]
     },
     "metadata": {},
     "output_type": "display_data"
    },
    {
     "data": {
      "text/html": [
       "<style  type=\"text/css\" >\n",
       "</style>  \n",
       "<table id=\"T_a4a44142_0229_11ea_a6fb_107b449f15fc\" style='display:inline'> \n",
       "<thead>    <tr> \n",
       "        <th class=\"blank level0\" ></th> \n",
       "        <th class=\"col_heading level0 col0\" >topic_12 @word</th> \n",
       "    </tr></thead> \n",
       "<tbody>    <tr> \n",
       "        <th id=\"T_a4a44142_0229_11ea_a6fb_107b449f15fclevel0_row0\" class=\"row_heading level0 row0\" >бог</th> \n",
       "        <td id=\"T_a4a44142_0229_11ea_a6fb_107b449f15fcrow0_col0\" class=\"data row0 col0\" >0.01185</td> \n",
       "    </tr>    <tr> \n",
       "        <th id=\"T_a4a44142_0229_11ea_a6fb_107b449f15fclevel0_row1\" class=\"row_heading level0 row1\" >имя</th> \n",
       "        <td id=\"T_a4a44142_0229_11ea_a6fb_107b449f15fcrow1_col0\" class=\"data row1 col0\" >0.01137</td> \n",
       "    </tr>    <tr> \n",
       "        <th id=\"T_a4a44142_0229_11ea_a6fb_107b449f15fclevel0_row2\" class=\"row_heading level0 row2\" >территория</th> \n",
       "        <td id=\"T_a4a44142_0229_11ea_a6fb_107b449f15fcrow2_col0\" class=\"data row2 col0\" >0.0102</td> \n",
       "    </tr>    <tr> \n",
       "        <th id=\"T_a4a44142_0229_11ea_a6fb_107b449f15fclevel0_row3\" class=\"row_heading level0 row3\" >остров</th> \n",
       "        <td id=\"T_a4a44142_0229_11ea_a6fb_107b449f15fcrow3_col0\" class=\"data row3 col0\" >0.00837</td> \n",
       "    </tr>    <tr> \n",
       "        <th id=\"T_a4a44142_0229_11ea_a6fb_107b449f15fclevel0_row4\" class=\"row_heading level0 row4\" >народ</th> \n",
       "        <td id=\"T_a4a44142_0229_11ea_a6fb_107b449f15fcrow4_col0\" class=\"data row4 col0\" >0.00776</td> \n",
       "    </tr>    <tr> \n",
       "        <th id=\"T_a4a44142_0229_11ea_a6fb_107b449f15fclevel0_row5\" class=\"row_heading level0 row5\" >царь</th> \n",
       "        <td id=\"T_a4a44142_0229_11ea_a6fb_107b449f15fcrow5_col0\" class=\"data row5 col0\" >0.00736</td> \n",
       "    </tr>    <tr> \n",
       "        <th id=\"T_a4a44142_0229_11ea_a6fb_107b449f15fclevel0_row6\" class=\"row_heading level0 row6\" >король</th> \n",
       "        <td id=\"T_a4a44142_0229_11ea_a6fb_107b449f15fcrow6_col0\" class=\"data row6 col0\" >0.00697</td> \n",
       "    </tr>    <tr> \n",
       "        <th id=\"T_a4a44142_0229_11ea_a6fb_107b449f15fclevel0_row7\" class=\"row_heading level0 row7\" >миф</th> \n",
       "        <td id=\"T_a4a44142_0229_11ea_a6fb_107b449f15fcrow7_col0\" class=\"data row7 col0\" >0.00682</td> \n",
       "    </tr>    <tr> \n",
       "        <th id=\"T_a4a44142_0229_11ea_a6fb_107b449f15fclevel0_row8\" class=\"row_heading level0 row8\" >восток</th> \n",
       "        <td id=\"T_a4a44142_0229_11ea_a6fb_107b449f15fcrow8_col0\" class=\"data row8 col0\" >0.00536</td> \n",
       "    </tr>    <tr> \n",
       "        <th id=\"T_a4a44142_0229_11ea_a6fb_107b449f15fclevel0_row9\" class=\"row_heading level0 row9\" >традиция</th> \n",
       "        <td id=\"T_a4a44142_0229_11ea_a6fb_107b449f15fcrow9_col0\" class=\"data row9 col0\" >0.00528</td> \n",
       "    </tr></tbody> \n",
       "</table> "
      ]
     },
     "metadata": {},
     "output_type": "display_data"
    },
    {
     "data": {
      "text/html": [
       "<b> главы # антропоморфная пластика, происходящая из святилищ кавказа </b><br /> отрывок из книги \"древняя бронзовая антропоморфная пластика кавказа\" историка ольги брилевой"
      ]
     },
     "metadata": {},
     "output_type": "display_data"
    },
    {
     "data": {
      "text/html": [
       "<b> главы # страницы истории </b><br /> отрывок из монографии доктора исторических наук в.в. наумкина «острова архипелага сокотра (экспедиции 1974–2010 гг.)»"
      ]
     },
     "metadata": {},
     "output_type": "display_data"
    },
    {
     "data": {
      "text/html": [
       "<b> главыбильгамес в истории </b><br /> отрывок из книги «гильгамеш. биография легенды» шумеролога владимира емельянова о роли фигуры гильгамеша в мировой истории и культуре"
      ]
     },
     "metadata": {},
     "output_type": "display_data"
    },
    {
     "data": {
      "text/html": [
       "<b> «с момента крещения руси каждый князь рюрикович обладал как минимум двумя именами» </b><br /> интервью с филологом федором успенским о традиции династических имен рюриковичей, системе двуименности и судьбе сыновей владимира святого"
      ]
     },
     "metadata": {},
     "output_type": "display_data"
    },
    {
     "data": {
      "text/html": [
       "<b> гильгамеш исторический и культовый </b><br /> историк владимир емельянов о происхождении, культе и трансформации героического образа гильгамеша"
      ]
     },
     "metadata": {},
     "output_type": "display_data"
    },
    {
     "data": {
      "text/html": [
       "<b> язык династических имен в домонгольской руси </b><br /> какими принципами руководствовались княжеские семьи при выборе родовых имен?"
      ]
     },
     "metadata": {},
     "output_type": "display_data"
    },
    {
     "data": {
      "text/html": [
       "<b> главы # территория украиныисторическое ядро и позднейшие приращения </b><br /> отрывок из книги «очерки истории украины в средние века и раннее новое время» профессора киево-могилянской академии наталии яковенко"
      ]
     },
     "metadata": {},
     "output_type": "display_data"
    },
    {
     "data": {
      "text/html": [
       "<b> открытие черного моря греками </b><br /> историк аскольд иванчик о великой греческой колонизации, космологическом значении океана и мифах о черном море"
      ]
     },
     "metadata": {},
     "output_type": "display_data"
    },
    {
     "data": {
      "text/html": [
       "<b> faqмиф о короле артуре </b><br /> 5 фактов об одной из самых загадочных и противоречивых фигур v–vi веков"
      ]
     },
     "metadata": {},
     "output_type": "display_data"
    },
    {
     "data": {
      "text/html": [
       "<b> царские курганы скифов </b><br /> историк аскольд иванчик об археологических источниках культуры скифов, символах погребений и признаках легитимности царской власти"
      ]
     },
     "metadata": {},
     "output_type": "display_data"
    },
    {
     "data": {
      "text/html": [
       "<style  type=\"text/css\" >\n",
       "</style>  \n",
       "<table id=\"T_a4a44143_0229_11ea_a6fb_107b449f15fc\" style='display:inline'> \n",
       "<thead>    <tr> \n",
       "        <th class=\"blank level0\" ></th> \n",
       "        <th class=\"col_heading level0 col0\" >topic_13 @word</th> \n",
       "    </tr></thead> \n",
       "<tbody>    <tr> \n",
       "        <th id=\"T_a4a44143_0229_11ea_a6fb_107b449f15fclevel0_row0\" class=\"row_heading level0 row0\" >город</th> \n",
       "        <td id=\"T_a4a44143_0229_11ea_a6fb_107b449f15fcrow0_col0\" class=\"data row0 col0\" >0.04356</td> \n",
       "    </tr>    <tr> \n",
       "        <th id=\"T_a4a44143_0229_11ea_a6fb_107b449f15fclevel0_row1\" class=\"row_heading level0 row1\" >технология</th> \n",
       "        <td id=\"T_a4a44143_0229_11ea_a6fb_107b449f15fcrow1_col0\" class=\"data row1 col0\" >0.02561</td> \n",
       "    </tr>    <tr> \n",
       "        <th id=\"T_a4a44143_0229_11ea_a6fb_107b449f15fclevel0_row2\" class=\"row_heading level0 row2\" >пространство</th> \n",
       "        <td id=\"T_a4a44143_0229_11ea_a6fb_107b449f15fcrow2_col0\" class=\"data row2 col0\" >0.02271</td> \n",
       "    </tr>    <tr> \n",
       "        <th id=\"T_a4a44143_0229_11ea_a6fb_107b449f15fclevel0_row3\" class=\"row_heading level0 row3\" >компьютер</th> \n",
       "        <td id=\"T_a4a44143_0229_11ea_a6fb_107b449f15fcrow3_col0\" class=\"data row3 col0\" >0.02024</td> \n",
       "    </tr>    <tr> \n",
       "        <th id=\"T_a4a44143_0229_11ea_a6fb_107b449f15fclevel0_row4\" class=\"row_heading level0 row4\" >сеть</th> \n",
       "        <td id=\"T_a4a44143_0229_11ea_a6fb_107b449f15fcrow4_col0\" class=\"data row4 col0\" >0.01956</td> \n",
       "    </tr>    <tr> \n",
       "        <th id=\"T_a4a44143_0229_11ea_a6fb_107b449f15fclevel0_row5\" class=\"row_heading level0 row5\" >задача</th> \n",
       "        <td id=\"T_a4a44143_0229_11ea_a6fb_107b449f15fcrow5_col0\" class=\"data row5 col0\" >0.01239</td> \n",
       "    </tr>    <tr> \n",
       "        <th id=\"T_a4a44143_0229_11ea_a6fb_107b449f15fclevel0_row6\" class=\"row_heading level0 row6\" >устройство</th> \n",
       "        <td id=\"T_a4a44143_0229_11ea_a6fb_107b449f15fcrow6_col0\" class=\"data row6 col0\" >0.01207</td> \n",
       "    </tr>    <tr> \n",
       "        <th id=\"T_a4a44143_0229_11ea_a6fb_107b449f15fclevel0_row7\" class=\"row_heading level0 row7\" >использовать</th> \n",
       "        <td id=\"T_a4a44143_0229_11ea_a6fb_107b449f15fcrow7_col0\" class=\"data row7 col0\" >0.01154</td> \n",
       "    </tr>    <tr> \n",
       "        <th id=\"T_a4a44143_0229_11ea_a6fb_107b449f15fclevel0_row8\" class=\"row_heading level0 row8\" >машина</th> \n",
       "        <td id=\"T_a4a44143_0229_11ea_a6fb_107b449f15fcrow8_col0\" class=\"data row8 col0\" >0.01081</td> \n",
       "    </tr>    <tr> \n",
       "        <th id=\"T_a4a44143_0229_11ea_a6fb_107b449f15fclevel0_row9\" class=\"row_heading level0 row9\" >алгоритм</th> \n",
       "        <td id=\"T_a4a44143_0229_11ea_a6fb_107b449f15fcrow9_col0\" class=\"data row9 col0\" >0.00841</td> \n",
       "    </tr></tbody> \n",
       "</table> "
      ]
     },
     "metadata": {},
     "output_type": "display_data"
    },
    {
     "data": {
      "text/html": [
       "<b> стандарты беспроводных сетей </b><br /> it-специалист евгений хоров о гибкости сетевых протоколов, телекоммуникационных стандартах и причинах успеха wi-fi"
      ]
     },
     "metadata": {},
     "output_type": "display_data"
    },
    {
     "data": {
      "text/html": [
       "<b> faqатомная энергетика сегодня </b><br /> 7 фактов о перспективах развития атомной промышленности в современном мире"
      ]
     },
     "metadata": {},
     "output_type": "display_data"
    },
    {
     "data": {
      "text/html": [
       "<style  type=\"text/css\" >\n",
       "</style>  \n",
       "<table id=\"T_a4a44144_0229_11ea_a6fb_107b449f15fc\" style='display:inline'> \n",
       "<thead>    <tr> \n",
       "        <th class=\"blank level0\" ></th> \n",
       "        <th class=\"col_heading level0 col0\" >topic_14 @word</th> \n",
       "    </tr></thead> \n",
       "<tbody>    <tr> \n",
       "        <th id=\"T_a4a44144_0229_11ea_a6fb_107b449f15fclevel0_row0\" class=\"row_heading level0 row0\" >экономика</th> \n",
       "        <td id=\"T_a4a44144_0229_11ea_a6fb_107b449f15fcrow0_col0\" class=\"data row0 col0\" >0.02009</td> \n",
       "    </tr>    <tr> \n",
       "        <th id=\"T_a4a44144_0229_11ea_a6fb_107b449f15fclevel0_row1\" class=\"row_heading level0 row1\" >компания</th> \n",
       "        <td id=\"T_a4a44144_0229_11ea_a6fb_107b449f15fcrow1_col0\" class=\"data row1 col0\" >0.01392</td> \n",
       "    </tr>    <tr> \n",
       "        <th id=\"T_a4a44144_0229_11ea_a6fb_107b449f15fclevel0_row2\" class=\"row_heading level0 row2\" >рынок</th> \n",
       "        <td id=\"T_a4a44144_0229_11ea_a6fb_107b449f15fcrow2_col0\" class=\"data row2 col0\" >0.01157</td> \n",
       "    </tr>    <tr> \n",
       "        <th id=\"T_a4a44144_0229_11ea_a6fb_107b449f15fclevel0_row3\" class=\"row_heading level0 row3\" >цена</th> \n",
       "        <td id=\"T_a4a44144_0229_11ea_a6fb_107b449f15fcrow3_col0\" class=\"data row3 col0\" >0.01038</td> \n",
       "    </tr>    <tr> \n",
       "        <th id=\"T_a4a44144_0229_11ea_a6fb_107b449f15fclevel0_row4\" class=\"row_heading level0 row4\" >экономист</th> \n",
       "        <td id=\"T_a4a44144_0229_11ea_a6fb_107b449f15fcrow4_col0\" class=\"data row4 col0\" >0.00829</td> \n",
       "    </tr>    <tr> \n",
       "        <th id=\"T_a4a44144_0229_11ea_a6fb_107b449f15fclevel0_row5\" class=\"row_heading level0 row5\" >деньга</th> \n",
       "        <td id=\"T_a4a44144_0229_11ea_a6fb_107b449f15fcrow5_col0\" class=\"data row5 col0\" >0.00823</td> \n",
       "    </tr>    <tr> \n",
       "        <th id=\"T_a4a44144_0229_11ea_a6fb_107b449f15fclevel0_row6\" class=\"row_heading level0 row6\" >экономический</th> \n",
       "        <td id=\"T_a4a44144_0229_11ea_a6fb_107b449f15fcrow6_col0\" class=\"data row6 col0\" >0.00805</td> \n",
       "    </tr>    <tr> \n",
       "        <th id=\"T_a4a44144_0229_11ea_a6fb_107b449f15fclevel0_row7\" class=\"row_heading level0 row7\" >сша</th> \n",
       "        <td id=\"T_a4a44144_0229_11ea_a6fb_107b449f15fcrow7_col0\" class=\"data row7 col0\" >0.00778</td> \n",
       "    </tr>    <tr> \n",
       "        <th id=\"T_a4a44144_0229_11ea_a6fb_107b449f15fclevel0_row8\" class=\"row_heading level0 row8\" >кризис</th> \n",
       "        <td id=\"T_a4a44144_0229_11ea_a6fb_107b449f15fcrow8_col0\" class=\"data row8 col0\" >0.00706</td> \n",
       "    </tr>    <tr> \n",
       "        <th id=\"T_a4a44144_0229_11ea_a6fb_107b449f15fclevel0_row9\" class=\"row_heading level0 row9\" >бизнес</th> \n",
       "        <td id=\"T_a4a44144_0229_11ea_a6fb_107b449f15fcrow9_col0\" class=\"data row9 col0\" >0.00675</td> \n",
       "    </tr></tbody> \n",
       "</table> "
      ]
     },
     "metadata": {},
     "output_type": "display_data"
    },
    {
     "data": {
      "text/html": [
       "<b> faqкурсы валют </b><br /> 7 фактов о причинах роста и падения валют на финансовом рынке"
      ]
     },
     "metadata": {},
     "output_type": "display_data"
    },
    {
     "data": {
      "text/html": [
       "<b> главы # от пузыря к пузырю </b><br /> отрывок из книги «линии разломаскрытые трещины, все еще угрожающие мировой экономике» профессора чикагского университета рагурама раджана"
      ]
     },
     "metadata": {},
     "output_type": "display_data"
    },
    {
     "data": {
      "text/html": [
       "<b> главы # инфляция и гиперинфляция </b><br /> глава из книги \"развязка. конец долгового суперцикла и его последствия\"  финансистов джона молдина и джонатана теппера"
      ]
     },
     "metadata": {},
     "output_type": "display_data"
    },
    {
     "data": {
      "text/html": [
       "<b> демпинг в одношаговых аукционах </b><br /> как функционирует один из механизмов государственных и частных конкурсных процедур?"
      ]
     },
     "metadata": {},
     "output_type": "display_data"
    },
    {
     "data": {
      "text/html": [
       "<b> как взаимодействуют фискальная и монетарная политика? </b><br /> экономист сергей пекарский о макроэкономическом анализе, борьбе с инфляцией и контроле обменного курса"
      ]
     },
     "metadata": {},
     "output_type": "display_data"
    },
    {
     "data": {
      "text/html": [
       "<b> инфляция и дефляциякак это работает? </b><br /> экономист сергей пекарский о механизмах роста и падения цен, измерении темпов инфляции и дефляции и их влиянии на экономику"
      ]
     },
     "metadata": {},
     "output_type": "display_data"
    },
    {
     "data": {
      "text/html": [
       "<b> государственно-частное партнерство </b><br /> экономист александр беленький о привлечении частного капитала, теории игр и поиске квалифицированных партнеров"
      ]
     },
     "metadata": {},
     "output_type": "display_data"
    },
    {
     "data": {
      "text/html": [
       "<b> от чего зависит цена на нефть? </b><br /> экономист леонид григорьев о причинах колебания цен на нефть и ее роли в современном мире"
      ]
     },
     "metadata": {},
     "output_type": "display_data"
    },
    {
     "data": {
      "text/html": [
       "<b> главы # новые альянсы </b><br /> глава из книги \"карта роста\" экономиста, автора аббревиатуры брик джима о’нила"
      ]
     },
     "metadata": {},
     "output_type": "display_data"
    },
    {
     "data": {
      "text/html": [
       "<b> faqвзаимоотношения вто и россии </b><br /> 5 фактов о конкурентоспособности страны, сырьевой модели экономики и экологическом демпинге"
      ]
     },
     "metadata": {},
     "output_type": "display_data"
    },
    {
     "data": {
      "text/html": [
       "<style  type=\"text/css\" >\n",
       "</style>  \n",
       "<table id=\"T_a4a44145_0229_11ea_a6fb_107b449f15fc\" style='display:inline'> \n",
       "<thead>    <tr> \n",
       "        <th class=\"blank level0\" ></th> \n",
       "        <th class=\"col_heading level0 col0\" >bcg_15 @word</th> \n",
       "    </tr></thead> \n",
       "<tbody>    <tr> \n",
       "        <th id=\"T_a4a44145_0229_11ea_a6fb_107b449f15fclevel0_row0\" class=\"row_heading level0 row0\" >говорить</th> \n",
       "        <td id=\"T_a4a44145_0229_11ea_a6fb_107b449f15fcrow0_col0\" class=\"data row0 col0\" >0.00476</td> \n",
       "    </tr>    <tr> \n",
       "        <th id=\"T_a4a44145_0229_11ea_a6fb_107b449f15fclevel0_row1\" class=\"row_heading level0 row1\" >большой</th> \n",
       "        <td id=\"T_a4a44145_0229_11ea_a6fb_107b449f15fcrow1_col0\" class=\"data row1 col0\" >0.00453</td> \n",
       "    </tr>    <tr> \n",
       "        <th id=\"T_a4a44145_0229_11ea_a6fb_107b449f15fclevel0_row2\" class=\"row_heading level0 row2\" >являться</th> \n",
       "        <td id=\"T_a4a44145_0229_11ea_a6fb_107b449f15fcrow2_col0\" class=\"data row2 col0\" >0.00426</td> \n",
       "    </tr>    <tr> \n",
       "        <th id=\"T_a4a44145_0229_11ea_a6fb_107b449f15fclevel0_row3\" class=\"row_heading level0 row3\" >образ</th> \n",
       "        <td id=\"T_a4a44145_0229_11ea_a6fb_107b449f15fcrow3_col0\" class=\"data row3 col0\" >0.00418</td> \n",
       "    </tr>    <tr> \n",
       "        <th id=\"T_a4a44145_0229_11ea_a6fb_107b449f15fclevel0_row4\" class=\"row_heading level0 row4\" >существовать</th> \n",
       "        <td id=\"T_a4a44145_0229_11ea_a6fb_107b449f15fcrow4_col0\" class=\"data row4 col0\" >0.00414</td> \n",
       "    </tr>    <tr> \n",
       "        <th id=\"T_a4a44145_0229_11ea_a6fb_107b449f15fclevel0_row5\" class=\"row_heading level0 row5\" >должный</th> \n",
       "        <td id=\"T_a4a44145_0229_11ea_a6fb_107b449f15fcrow5_col0\" class=\"data row5 col0\" >0.00363</td> \n",
       "    </tr>    <tr> \n",
       "        <th id=\"T_a4a44145_0229_11ea_a6fb_107b449f15fclevel0_row6\" class=\"row_heading level0 row6\" >система</th> \n",
       "        <td id=\"T_a4a44145_0229_11ea_a6fb_107b449f15fcrow6_col0\" class=\"data row6 col0\" >0.00359</td> \n",
       "    </tr>    <tr> \n",
       "        <th id=\"T_a4a44145_0229_11ea_a6fb_107b449f15fclevel0_row7\" class=\"row_heading level0 row7\" >происходить</th> \n",
       "        <td id=\"T_a4a44145_0229_11ea_a6fb_107b449f15fcrow7_col0\" class=\"data row7 col0\" >0.00351</td> \n",
       "    </tr>    <tr> \n",
       "        <th id=\"T_a4a44145_0229_11ea_a6fb_107b449f15fclevel0_row8\" class=\"row_heading level0 row8\" >стать</th> \n",
       "        <td id=\"T_a4a44145_0229_11ea_a6fb_107b449f15fcrow8_col0\" class=\"data row8 col0\" >0.00343</td> \n",
       "    </tr>    <tr> \n",
       "        <th id=\"T_a4a44145_0229_11ea_a6fb_107b449f15fclevel0_row9\" class=\"row_heading level0 row9\" >называть</th> \n",
       "        <td id=\"T_a4a44145_0229_11ea_a6fb_107b449f15fcrow9_col0\" class=\"data row9 col0\" >0.00343</td> \n",
       "    </tr></tbody> \n",
       "</table> "
      ]
     },
     "metadata": {},
     "output_type": "display_data"
    },
    {
     "data": {
      "text/html": [
       "<b> палеопочвы </b><br /> палеоботаник сергей наугольных об изученности палеопочв, процессе изучения и поисках палеопочв"
      ]
     },
     "metadata": {},
     "output_type": "display_data"
    },
    {
     "data": {
      "text/html": [
       "<b> телепортация </b><br /> физик юджин ползик о законах квантовой механики, постоянной планка и измерении квантовых состояний"
      ]
     },
     "metadata": {},
     "output_type": "display_data"
    },
    {
     "data": {
      "text/html": [
       "<b> биосемиотика и специфика жизни </b><br /> биолог елена гороховская о теории витализма, органицизме и молекулярной биологии"
      ]
     },
     "metadata": {},
     "output_type": "display_data"
    },
    {
     "data": {
      "text/html": [
       "<b> математика американских выборов </b><br /> математик александр беленький о коллегии выборщиков, палате представителей и задачах маршрутизации"
      ]
     },
     "metadata": {},
     "output_type": "display_data"
    },
    {
     "data": {
      "text/html": [
       "<b> основы фундаментальной физики </b><br /> 10 лекций об основных понятиях и проблемах современной физики, отобранных физиком эмилем ахмедовым"
      ]
     },
     "metadata": {},
     "output_type": "display_data"
    },
    {
     "data": {
      "text/html": [
       "<b> средний класс </b><br /> экономист леонид григорьев о характеристиках, сфере деятельности и политических воззрениях среднего класса"
      ]
     },
     "metadata": {},
     "output_type": "display_data"
    },
    {
     "data": {
      "text/html": [
       "<b> молекулярное моделирование </b><br /> биохимик антон чугунов об исследовании in silico, открытии альфа-спирали и компьютерном моделировании"
      ]
     },
     "metadata": {},
     "output_type": "display_data"
    },
    {
     "data": {
      "text/html": [
       "<b> задачи эпидемиологического перехода </b><br /> демограф анатолий вишневский о эндогенных и экзогенных причинах смерти, изменении системы ценностей и смертности в россии"
      ]
     },
     "metadata": {},
     "output_type": "display_data"
    },
    {
     "data": {
      "text/html": [
       "<b> фальсификация экспертности </b><br /> социолог дмитрий рогозин о контексте экспертности, статусе эксперта и конверсационном анализе"
      ]
     },
     "metadata": {},
     "output_type": "display_data"
    },
    {
     "data": {
      "text/html": [
       "<b> ведомственная культура </b><br /> культуролог кирилл разлогов о министерских рамках, проблеме массовой культуры и  хроническом конфликте"
      ]
     },
     "metadata": {},
     "output_type": "display_data"
    }
   ],
   "source": [
    "from IPython.display import display_html, display\n",
    "from topicnet.cooking_machine.dataset import get_modality_vw\n",
    "\n",
    "\n",
    "n=None\n",
    "for line, topic_docs in list(zip(first_model_html, first_model_top_doc))[:n]:\n",
    "    display_html(line, raw=True)\n",
    "    for doc_id in topic_docs:\n",
    "        doc_vw = dataset.get_vw_document(doc_id).values[0][0]\n",
    "        doc_title = get_modality_vw(doc_vw, \"@title\")\n",
    "        doc_snippet = get_modality_vw(doc_vw, \"@snippet\")\n",
    "        display_html(f\"<b>{doc_title}</b><br />{doc_snippet}\", raw=True)\n",
    "\n"
   ]
  },
  {
   "cell_type": "markdown",
   "metadata": {},
   "source": [
    "There are several interesting things to note:\n",
    "\n",
    "* The topics are sparse. `topic_3` has only single document. The Theta matrix for `topic_7` is empty. That isn't something one is likely to see when working with LDA (which tends to make topics smooth)\n",
    "* The last topic is `bcg_15`: this is a backgraound topic. The top-tokens of this topic are very common and not very informative words: \"say\", \"big\", \"exist\", \"happen\", \"become\"... The top documents of this topic do not fit together. This is expected: the background topic is a place for tokens and documents not belonging elsewhere.\n"
   ]
  },
  {
   "cell_type": "code",
   "execution_count": null,
   "metadata": {},
   "outputs": [],
   "source": []
  }
 ],
 "metadata": {
  "kernelspec": {
   "display_name": "Python 3",
   "language": "python",
   "name": "python3"
  },
  "language_info": {
   "codemirror_mode": {
    "name": "ipython",
    "version": 3
   },
   "file_extension": ".py",
   "mimetype": "text/x-python",
   "name": "python",
   "nbconvert_exporter": "python",
   "pygments_lexer": "ipython3",
   "version": "3.6.7"
  }
 },
 "nbformat": 4,
 "nbformat_minor": 2
}
