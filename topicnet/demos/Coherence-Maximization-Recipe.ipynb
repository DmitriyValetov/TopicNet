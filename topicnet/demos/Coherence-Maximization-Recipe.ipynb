{
 "cells": [
  {
   "cell_type": "markdown",
   "metadata": {},
   "source": [
    "# Coherence Maximization Recipe Demo\n",
    "\n",
    "The notebook describes how one can use the Coherence maximization recipe to build an experiment and train such a model which has high coherence value.\n",
    "\n",
    "* Recipes in TopicNet: [recipes](https://github.com/machine-intelligence-laboratory/TopicNet/tree/master/topicnet/cooking_machine/recipes)\n",
    "* Paper about coherence which is used in the recipe: [Intra-Text Coherence as a Measure of Topic Models' Interpretability](http://www.dialog-21.ru/media/4281/alekseevva.pdf)"
   ]
  },
  {
   "cell_type": "markdown",
   "metadata": {},
   "source": [
    "# Contents<a id=\"contents\"></a>\n",
    "\n",
    "* [Loading the Recipe](#loading-recipe)\n",
    "* [Data](#data)\n",
    "* [Formatting the Recipe](#formatting)\n",
    "* [Experiment](#experiment)\n",
    "* [Best Model](#best-model)\n",
    "    * [Exploring Best Model](#investigating)"
   ]
  },
  {
   "cell_type": "code",
   "execution_count": null,
   "metadata": {},
   "outputs": [],
   "source": [
    "import os\n",
    "import numpy as np\n",
    "import shutil\n",
    "\n",
    "import matplotlib.pyplot as plt\n",
    "from matplotlib import cm\n",
    "\n",
    "%matplotlib inline"
   ]
  },
  {
   "cell_type": "code",
   "execution_count": null,
   "metadata": {},
   "outputs": [],
   "source": [
    "from IPython.display import display_html, HTML"
   ]
  },
  {
   "cell_type": "code",
   "execution_count": null,
   "metadata": {},
   "outputs": [],
   "source": [
    "from topicnet.cooking_machine import Dataset\n",
    "from topicnet.cooking_machine.dataset import get_modality_vw\n",
    "from topicnet.cooking_machine.pretty_output import make_notebook_pretty\n",
    "from topicnet.cooking_machine.config_parser import build_experiment_environment_from_yaml_config\n",
    "from topicnet.viewers.top_tokens_viewer import TopTokensViewer\n",
    "from topicnet.viewers.top_documents_viewer import TopDocumentsViewer"
   ]
  },
  {
   "cell_type": "code",
   "execution_count": null,
   "metadata": {},
   "outputs": [
    {
     "data": {
      "text/html": [
       "<style>\n",
       "    div.output_html {\n",
       "        white-space: nowrap;\n",
       "    }\n",
       "    div .output_subarea > pre {\n",
       "        white-space: pre;\n",
       "        word-wrap: normal;\n",
       "    }\n",
       "    div .output_stdout > pre {\n",
       "        white-space: pre-wrap !important;\n",
       "        word-wrap:  break-word !important;\n",
       "    }\n",
       "    </style>"
      ],
      "text/plain": [
       "<IPython.core.display.HTML object>"
      ]
     },
     "metadata": {},
     "output_type": "display_data"
    }
   ],
   "source": [
    "make_notebook_pretty()"
   ]
  },
  {
   "cell_type": "markdown",
   "metadata": {},
   "source": [
    "## Loading the Recipe<a id=\"loading-recipe\"></a>\n",
    "\n",
    "<div style=\"text-align: right\">Back to <a href=#contents>Contents</a></div>"
   ]
  },
  {
   "cell_type": "markdown",
   "metadata": {},
   "source": [
    "Let's look what is inside the recipes folder"
   ]
  },
  {
   "cell_type": "code",
   "execution_count": null,
   "metadata": {},
   "outputs": [],
   "source": [
    "RECIPES_FOLDER_PATH = os.path.join('..', 'cooking_machine', 'recipes')"
   ]
  },
  {
   "cell_type": "code",
   "execution_count": null,
   "metadata": {},
   "outputs": [
    {
     "data": {
      "text/plain": [
       "['topic_number_search.yml',\n",
       " 'README.md',\n",
       " 'intratext_coherence_maximization.yml',\n",
       " '__init__.py']"
      ]
     },
     "execution_count": null,
     "metadata": {},
     "output_type": "execute_result"
    }
   ],
   "source": [
    "os.listdir(RECIPES_FOLDER_PATH)"
   ]
  },
  {
   "cell_type": "markdown",
   "metadata": {},
   "source": [
    "We need `intratext_coherence_maximization.yml`"
   ]
  },
  {
   "cell_type": "code",
   "execution_count": null,
   "metadata": {},
   "outputs": [],
   "source": [
    "RECIPE_FILE_NAME = 'intratext_coherence_maximization.yml'\n",
    "RECIPY_FILE_PATH = os.path.join(\n",
    "    '..',\n",
    "    'cooking_machine',\n",
    "    'recipes',\n",
    "    RECIPE_FILE_NAME\n",
    ")"
   ]
  },
  {
   "cell_type": "markdown",
   "metadata": {},
   "source": [
    "Reading the recipe as a string which is to be formatted further."
   ]
  },
  {
   "cell_type": "code",
   "execution_count": null,
   "metadata": {},
   "outputs": [],
   "source": [
    "with open(RECIPY_FILE_PATH, \"r\") as f:\n",
    "    YAML_CONFIG = f.read()"
   ]
  },
  {
   "cell_type": "markdown",
   "metadata": {},
   "source": [
    "## Data<a id=\"data\"></a>\n",
    "\n",
    "<div style=\"text-align: right\">Back to <a href=#contents>Contents</a></div>"
   ]
  },
  {
   "cell_type": "markdown",
   "metadata": {},
   "source": [
    "Let us have the data in the following folder:"
   ]
  },
  {
   "cell_type": "code",
   "execution_count": null,
   "metadata": {},
   "outputs": [],
   "source": [
    "DATA_FOLDER_PATH = os.path.join('..', 'data')"
   ]
  },
  {
   "cell_type": "code",
   "execution_count": null,
   "metadata": {},
   "outputs": [
    {
     "data": {
      "text/plain": [
       "['Post_Science']"
      ]
     },
     "execution_count": null,
     "metadata": {},
     "output_type": "execute_result"
    }
   ],
   "source": [
    "os.listdir(DATA_FOLDER_PATH)"
   ]
  },
  {
   "cell_type": "code",
   "execution_count": null,
   "metadata": {},
   "outputs": [],
   "source": [
    "DATASET_NAME = 'Post_Science'\n",
    "DATASET_FOLDER_PATH = os.path.join(DATA_FOLDER_PATH, DATASET_NAME)"
   ]
  },
  {
   "cell_type": "code",
   "execution_count": null,
   "metadata": {},
   "outputs": [
    {
     "data": {
      "text/plain": [
       "['PScience__internals', 'PScience_batches', 'PScience.csv', 'PScience.csv.zip']"
      ]
     },
     "execution_count": null,
     "metadata": {},
     "output_type": "execute_result"
    }
   ],
   "source": [
    "os.listdir(DATASET_FOLDER_PATH)"
   ]
  },
  {
   "cell_type": "markdown",
   "metadata": {},
   "source": [
    "File in .csv format — is the actual dataset that TopicNet needs."
   ]
  },
  {
   "cell_type": "code",
   "execution_count": null,
   "metadata": {},
   "outputs": [],
   "source": [
    "DATASET_FILE_PATH = os.path.join(\n",
    "    DATASET_FOLDER_PATH, 'PScience.csv'\n",
    ")\n",
    "DATASET_INTERNALS_FOLDER_PATH = os.path.join(\n",
    "    DATASET_FOLDER_PATH, 'PScience__internals'\n",
    ")"
   ]
  },
  {
   "cell_type": "markdown",
   "metadata": {},
   "source": [
    "Let's see how big the dataset is"
   ]
  },
  {
   "cell_type": "code",
   "execution_count": null,
   "metadata": {},
   "outputs": [],
   "source": [
    "dataset = Dataset(\n",
    "    DATASET_FILE_PATH,\n",
    "    internals_folder_path=DATASET_INTERNALS_FOLDER_PATH\n",
    ")"
   ]
  },
  {
   "cell_type": "code",
   "execution_count": null,
   "metadata": {},
   "outputs": [
    {
     "data": {
      "text/plain": [
       "artm.Dictionary(name=a06fda3e-7156-4fb3-b3fd-d88c9864e946, num_entries=53095)"
      ]
     },
     "execution_count": null,
     "metadata": {},
     "output_type": "execute_result"
    }
   ],
   "source": [
    "dataset.get_dictionary()"
   ]
  },
  {
   "cell_type": "code",
   "execution_count": null,
   "metadata": {},
   "outputs": [
    {
     "data": {
      "text/plain": [
       "(3404, 3)"
      ]
     },
     "execution_count": null,
     "metadata": {},
     "output_type": "execute_result"
    }
   ],
   "source": [
    "dataset._data.shape"
   ]
  },
  {
   "cell_type": "markdown",
   "metadata": {},
   "source": [
    "Nearly 3000 documents — seems not many."
   ]
  },
  {
   "cell_type": "code",
   "execution_count": null,
   "metadata": {},
   "outputs": [
    {
     "data": {
      "text/html": [
       "<div>\n",
       "<style scoped>\n",
       "    .dataframe tbody tr th:only-of-type {\n",
       "        vertical-align: middle;\n",
       "    }\n",
       "\n",
       "    .dataframe tbody tr th {\n",
       "        vertical-align: top;\n",
       "    }\n",
       "\n",
       "    .dataframe thead th {\n",
       "        text-align: right;\n",
       "    }\n",
       "</style>\n",
       "<table border=\"1\" class=\"dataframe\">\n",
       "  <thead>\n",
       "    <tr style=\"text-align: right;\">\n",
       "      <th></th>\n",
       "      <th>id</th>\n",
       "      <th>vw_text</th>\n",
       "      <th>raw_text</th>\n",
       "    </tr>\n",
       "    <tr>\n",
       "      <th>id</th>\n",
       "      <th></th>\n",
       "      <th></th>\n",
       "      <th></th>\n",
       "    </tr>\n",
       "  </thead>\n",
       "  <tbody>\n",
       "    <tr>\n",
       "      <th>1.txt</th>\n",
       "      <td>1.txt</td>\n",
       "      <td>1.txt |@author fuchs preobrazhensky tabachniko...</td>\n",
       "      <td>@title Автограф # «Математический дивертисмент...</td>\n",
       "    </tr>\n",
       "    <tr>\n",
       "      <th>2.txt</th>\n",
       "      <td>2.txt</td>\n",
       "      <td>2.txt |@word книга:2 лекция:3 рассматриваться:...</td>\n",
       "      <td>@title Главы: Маскулинности в российском конте...</td>\n",
       "    </tr>\n",
       "    <tr>\n",
       "      <th>3.txt</th>\n",
       "      <td>3.txt</td>\n",
       "      <td>3.txt |@word развитие появляться пиджина:4 бел...</td>\n",
       "      <td>@title Пиджины и креольские языки | @snippet Л...</td>\n",
       "    </tr>\n",
       "    <tr>\n",
       "      <th>4.txt</th>\n",
       "      <td>4.txt</td>\n",
       "      <td>4.txt |@word стандартный задача:3 состоять:4 р...</td>\n",
       "      <td>@title FAQ: Физиология микроводорослей | @snip...</td>\n",
       "    </tr>\n",
       "    <tr>\n",
       "      <th>5.txt</th>\n",
       "      <td>5.txt</td>\n",
       "      <td>5.txt |@2gramm повседневный_практика государст...</td>\n",
       "      <td>@title Русская государственная идеология | @sn...</td>\n",
       "    </tr>\n",
       "  </tbody>\n",
       "</table>\n",
       "</div>"
      ],
      "text/plain": [
       "          id                                            vw_text  \\\n",
       "id                                                                \n",
       "1.txt  1.txt  1.txt |@author fuchs preobrazhensky tabachniko...   \n",
       "2.txt  2.txt  2.txt |@word книга:2 лекция:3 рассматриваться:...   \n",
       "3.txt  3.txt  3.txt |@word развитие появляться пиджина:4 бел...   \n",
       "4.txt  4.txt  4.txt |@word стандартный задача:3 состоять:4 р...   \n",
       "5.txt  5.txt  5.txt |@2gramm повседневный_практика государст...   \n",
       "\n",
       "                                                raw_text  \n",
       "id                                                        \n",
       "1.txt  @title Автограф # «Математический дивертисмент...  \n",
       "2.txt  @title Главы: Маскулинности в российском конте...  \n",
       "3.txt  @title Пиджины и креольские языки | @snippet Л...  \n",
       "4.txt  @title FAQ: Физиология микроводорослей | @snip...  \n",
       "5.txt  @title Русская государственная идеология | @sn...  "
      ]
     },
     "execution_count": null,
     "metadata": {},
     "output_type": "execute_result"
    }
   ],
   "source": [
    "dataset._data.head()"
   ]
  },
  {
   "cell_type": "markdown",
   "metadata": {},
   "source": [
    "## Formatting the Recipe<a id=\"formatting\"></a>\n",
    "\n",
    "<div style=\"text-align: right\">Back to <a href=#contents>Contents</a></div>"
   ]
  },
  {
   "cell_type": "markdown",
   "metadata": {},
   "source": [
    "Let's use the flag below to reduce memory consumption in some places"
   ]
  },
  {
   "cell_type": "code",
   "execution_count": null,
   "metadata": {},
   "outputs": [],
   "source": [
    "LOW_MEMORY = True"
   ]
  },
  {
   "cell_type": "markdown",
   "metadata": {},
   "source": [
    "Below is the main part: replacement of the placeholders in the recipe string with the real values."
   ]
  },
  {
   "cell_type": "code",
   "execution_count": null,
   "metadata": {},
   "outputs": [],
   "source": [
    "specific_topics = [\n",
    "    f'topic_{i}' for i in range(15)\n",
    "]\n",
    "background_topics = [\n",
    "    f'bcg_{i}' for i in range(len(specific_topics), len(specific_topics) + 1)\n",
    "]\n",
    "\n",
    "num_documents_to_compute_coherence = 100  # not many — in order to speed up a bit \n",
    "total_num_documents = dataset._data.shape[0]\n",
    "documents_fraction = num_documents_to_compute_coherence / total_num_documents\n",
    "\n",
    "yaml_config = YAML_CONFIG.format(\n",
    "    modality_names=['@word'],\n",
    "    main_modality='@word',\n",
    "    dataset_path=DATASET_FILE_PATH,\n",
    "    keep_dataset_in_memory=True,  # better try keep this True for quicker computation\n",
    "    keep_dataset=not LOW_MEMORY,\n",
    "    documents_fraction=documents_fraction, \n",
    "    specific_topics=specific_topics,\n",
    "    background_topics=background_topics,\n",
    "    one_stage_num_iter=20,\n",
    "    verbose=True,\n",
    ")"
   ]
  },
  {
   "cell_type": "code",
   "execution_count": null,
   "metadata": {},
   "outputs": [
    {
     "name": "stdout",
     "output_type": "stream",
     "text": [
      "# The recipe mainly consists of basic cube stages,\n",
      "# such as Decorrelation, Sparsing and Smoothing.\n",
      "# In this way it is similar to ARTM baseline recipe.\n",
      "# The core difference is that models selected based on their IntratextCoherenceScore\n",
      "# (which is one of the scores included in TopicNet).\n",
      "# PerplexityScore is also calculated to assure that models don't have high perplexity,\n",
      "# but the main criteria is IntratextCoherenceScore.\n",
      "#\n",
      "# For more details about IntratextCoherence\n",
      "# one may see the article http://www.dialog-21.ru/media/4281/alekseevva.pdf\n",
      "#\n",
      "# Recipe usage sample:\n",
      "#   file_contents_as_string = file_contents_as_string.format(\n",
      "#     modality_names=modality_names,\n",
      "#     main_modality=main_modality,\n",
      "#     dataset_path=dataset_file_path,\n",
      "#     keep_dataset_in_memory=True,\n",
      "#     keep_dataset=False,\n",
      "#     documents_fraction=documents_fraction,\n",
      "#     specific_topics=specific_topic_names,\n",
      "#     background_topics=background_topic_names,\n",
      "#     one_stage_num_iter=20,\n",
      "#     verbose=True,\n",
      "#   )\n",
      "#   experiment, dataset = build_experiment_environment_from_yaml_config(\n",
      "#     file_contents_as_string,\n",
      "#     experiment_id='experiment_maximize_intratext',\n",
      "#     save_path=save_path,\n",
      "#   )\n",
      "#\n",
      "#   There will be five stages, each with nearly 5-values-grid search.\n",
      "#   One such search lasts `one_stage_num_iter` iterations with coherence computation\n",
      "#   in the end.\n",
      "#   So, there is going to be `one_stage_num_iter` * 5 * 5 training iterations (not slow)\n",
      "#   and 5 * 5 coherence computations (here may be slow if `documents_fraction` is high)\n",
      "\n",
      "topics:\n",
      "    specific_topics: ['topic_0', 'topic_1', 'topic_2', 'topic_3', 'topic_4', 'topic_5', 'topic_6', 'topic_7', 'topic_8', 'topic_9', 'topic_10', 'topic_11', 'topic_12', 'topic_13', 'topic_14']\n",
      "    background_topics: ['bcg_15']\n",
      "\n",
      "regularizers:\n",
      "    - DecorrelatorPhiRegularizer:\n",
      "        name: decorrelate_phi\n",
      "        topic_names: specific_topics\n",
      "\n",
      "    - SmoothSparsePhiRegularizer:\n",
      "        name: sparse_phi_specific\n",
      "        topic_names: specific_topics\n",
      "\n",
      "    - SmoothSparsePhiRegularizer:\n",
      "        name: smooth_phi_background\n",
      "        topic_names: background_topics\n",
      "\n",
      "    - SmoothSparsePhiRegularizer:\n",
      "        name: smooth_phi_specific\n",
      "        topic_names: specific_topics\n",
      "\n",
      "scores:\n",
      "    - IntratextCoherenceScore:\n",
      "        dataset: ../data/Post_Science/PScience.csv\n",
      "        keep_dataset_in_memory: True\n",
      "        keep_dataset: False\n",
      "        documents_fraction: 0.02937720329024677\n",
      "        start_fit_iteration: -1  # TODO: need this, because can't set fit_iteration_step = num_iter - 1 in .yml config\n",
      "        fit_iteration_step: 20\n",
      "        verbose: True\n",
      "\n",
      "model:\n",
      "    dataset_path: ../data/Post_Science/PScience.csv\n",
      "    modalities_to_use: ['@word']\n",
      "    main_modality: '@word'\n",
      "\n",
      "stages:\n",
      "    - RegularizersModifierCube:\n",
      "        num_iter: 20\n",
      "        reg_search: mul\n",
      "        regularizer_parameters:\n",
      "            name: decorrelate_phi\n",
      "        selection:\n",
      "            - PerplexityScore@all < 1.1 * MINIMUM(PerplexityScore@all) and IntratextCoherenceScore -> max\n",
      "        strategy: PerplexityStrategy\n",
      "        strategy_params:\n",
      "            start_point: 0.025\n",
      "            step: 2\n",
      "            max_len: 6\n",
      "        tracked_score_function: PerplexityScore@all\n",
      "        verbose: false\n",
      "        use_relative_coefficients: true\n",
      "\n",
      "    - RegularizersModifierCube:\n",
      "        num_iter: 20\n",
      "        reg_search: add\n",
      "        regularizer_parameters:\n",
      "            name: sparse_phi_specific\n",
      "        selection:\n",
      "          - PerplexityScore@all < 1.1 * MINIMUM(PerplexityScore@all) and IntratextCoherenceScore -> max\n",
      "        strategy: PerplexityStrategy\n",
      "        strategy_params:\n",
      "            start_point: -0.00001\n",
      "            step: -0.1\n",
      "            max_len: 5\n",
      "        tracked_score_function: PerplexityScore@all\n",
      "        verbose: false\n",
      "        use_relative_coefficients: true\n",
      "\n",
      "    - RegularizersModifierCube:\n",
      "        num_iter: 20\n",
      "        reg_search: add\n",
      "        regularizer_parameters:\n",
      "            name: smooth_phi_background\n",
      "        selection:\n",
      "          - PerplexityScore@all < 1.1 * MINIMUM(PerplexityScore@all) and IntratextCoherenceScore -> max\n",
      "        strategy: PerplexityStrategy\n",
      "        strategy_params:\n",
      "            start_point: 0.00001\n",
      "            step: 0.1\n",
      "            max_len: 5\n",
      "        tracked_score_function: PerplexityScore@all\n",
      "        verbose: false\n",
      "        use_relative_coefficients: true\n",
      "\n",
      "    - RegularizersModifierCube:\n",
      "        num_iter: 20\n",
      "        reg_search: mul\n",
      "        regularizer_parameters:\n",
      "            name: decorrelate_phi\n",
      "        selection:\n",
      "          - PerplexityScore@all < 1.1 * MINIMUM(PerplexityScore@all) and IntratextCoherenceScore -> max\n",
      "        strategy: PerplexityStrategy\n",
      "        strategy_params:\n",
      "            start_point: 0.025\n",
      "            step: 2\n",
      "            max_len: 6\n",
      "        tracked_score_function: PerplexityScore@all\n",
      "        verbose: false\n",
      "        use_relative_coefficients: true\n",
      "\n",
      "    - RegularizersModifierCube:\n",
      "        num_iter: 20\n",
      "        reg_search: mul\n",
      "        regularizer_parameters:\n",
      "            name: smooth_phi_specific\n",
      "        selection:\n",
      "          - PerplexityScore@all < 1.1 * MINIMUM(PerplexityScore@all) and IntratextCoherenceScore -> max\n",
      "        strategy: PerplexityStrategy\n",
      "        strategy_params:\n",
      "            start_point: 0.00001\n",
      "            step: 10\n",
      "            max_len: 2\n",
      "        tracked_score_function: PerplexityScore@all\n",
      "        verbose: false\n",
      "        use_relative_coefficients: true\n",
      "\n"
     ]
    }
   ],
   "source": [
    "print(yaml_config)"
   ]
  },
  {
   "cell_type": "markdown",
   "metadata": {},
   "source": [
    "## Experiment<a id=\"experiment\"></a>\n",
    "\n",
    "<div style=\"text-align: right\">Back to <a href=#contents>Contents</a></div>"
   ]
  },
  {
   "cell_type": "markdown",
   "metadata": {},
   "source": [
    "Folder for future experiment"
   ]
  },
  {
   "cell_type": "code",
   "execution_count": null,
   "metadata": {},
   "outputs": [],
   "source": [
    "EXPERIMENTS_FOLDER_PATH = os.path.join('..', 'experiments')"
   ]
  },
  {
   "cell_type": "code",
   "execution_count": null,
   "metadata": {},
   "outputs": [],
   "source": [
    "os.makedirs(EXPERIMENTS_FOLDER_PATH, exist_ok=True)"
   ]
  },
  {
   "cell_type": "code",
   "execution_count": null,
   "metadata": {},
   "outputs": [
    {
     "data": {
      "text/plain": [
       "['Maximize_Coherence']"
      ]
     },
     "execution_count": null,
     "metadata": {},
     "output_type": "execute_result"
    }
   ],
   "source": [
    "os.listdir(EXPERIMENTS_FOLDER_PATH)"
   ]
  },
  {
   "cell_type": "code",
   "execution_count": null,
   "metadata": {},
   "outputs": [],
   "source": [
    "EXPERIMENT_ID = 'Maximize_Coherence'"
   ]
  },
  {
   "cell_type": "markdown",
   "metadata": {},
   "source": [
    "Removing the folder with the chosen experiment ID if it exists"
   ]
  },
  {
   "cell_type": "code",
   "execution_count": null,
   "metadata": {},
   "outputs": [],
   "source": [
    "! rm -r ../experiments/$EXPERIMENT_ID"
   ]
  },
  {
   "cell_type": "code",
   "execution_count": null,
   "metadata": {},
   "outputs": [
    {
     "name": "stdout",
     "output_type": "stream",
     "text": [
      "CPU times: user 3.53 s, sys: 404 ms, total: 3.94 s\n",
      "Wall time: 3.1 s\n"
     ]
    }
   ],
   "source": [
    "%%time\n",
    "\n",
    "experiment, dataset = build_experiment_environment_from_yaml_config(\n",
    "    yaml_config,\n",
    "    experiment_id=EXPERIMENT_ID,\n",
    "    save_path=EXPERIMENTS_FOLDER_PATH,\n",
    ")"
   ]
  },
  {
   "cell_type": "code",
   "execution_count": null,
   "metadata": {},
   "outputs": [
    {
     "data": {
      "text/plain": [
       "artm.Dictionary(name=60bbf9fb-6a2b-4754-b7ee-0e5815a853f2, num_entries=53095)"
      ]
     },
     "execution_count": null,
     "metadata": {},
     "output_type": "execute_result"
    }
   ],
   "source": [
    "dataset.get_dictionary()"
   ]
  },
  {
   "cell_type": "markdown",
   "metadata": {},
   "source": [
    "There are too many words in the dictionary.\n",
    "Let's filter it (otherwise Phi matrix will be very huge)."
   ]
  },
  {
   "cell_type": "code",
   "execution_count": null,
   "metadata": {},
   "outputs": [],
   "source": [
    "dictionary = dataset.get_dictionary()\n",
    "dictionary.filter(min_df_rate=0.01, max_df_rate=0.9)\n",
    "dataset._cached_dict = dictionary"
   ]
  },
  {
   "cell_type": "code",
   "execution_count": null,
   "metadata": {},
   "outputs": [
    {
     "data": {
      "text/plain": [
       "artm.Dictionary(name=60bbf9fb-6a2b-4754-b7ee-0e5815a853f2, num_entries=5441)"
      ]
     },
     "execution_count": null,
     "metadata": {},
     "output_type": "execute_result"
    }
   ],
   "source": [
    "dataset.get_dictionary()"
   ]
  },
  {
   "cell_type": "markdown",
   "metadata": {},
   "source": [
    "Experiment's `low_memory` mode:"
   ]
  },
  {
   "cell_type": "code",
   "execution_count": null,
   "metadata": {},
   "outputs": [],
   "source": [
    "experiment._low_memory = LOW_MEMORY"
   ]
  },
  {
   "cell_type": "code",
   "execution_count": null,
   "metadata": {},
   "outputs": [
    {
     "data": {
      "text/plain": [
       "True"
      ]
     },
     "execution_count": null,
     "metadata": {},
     "output_type": "execute_result"
    }
   ],
   "source": [
    "experiment._low_memory"
   ]
  },
  {
   "cell_type": "markdown",
   "metadata": {},
   "source": [
    "Go!"
   ]
  },
  {
   "cell_type": "code",
   "execution_count": null,
   "metadata": {},
   "outputs": [
    {
     "name": "stdout",
     "output_type": "stream",
     "text": [
      "100%|██████████| 103/103 [00:20<00:00,  4.99it/s]\n",
      "100%|██████████| 103/103 [00:20<00:00,  4.94it/s]\n",
      "100%|██████████| 103/103 [00:20<00:00,  4.98it/s]\n",
      "100%|██████████| 103/103 [00:20<00:00,  5.07it/s]\n",
      "100%|██████████| 103/103 [00:20<00:00,  5.06it/s]\n",
      "100%|██████████| 103/103 [00:20<00:00,  5.09it/s]\n",
      "100%|██████████| 103/103 [00:20<00:00,  5.13it/s]\n"
     ]
    },
    {
     "name": "stderr",
     "output_type": "stream",
     "text": [
      "../../topicnet/cooking_machine/cubes/base_cube.py:219: UserWarning: Perplexity is too high for threshold 1.05\n",
      "  warnings.warn(warning_message)\n"
     ]
    },
    {
     "name": "stdout",
     "output_type": "stream",
     "text": [
      "100%|██████████| 103/103 [00:20<00:00,  4.96it/s]\n",
      "100%|██████████| 103/103 [00:20<00:00,  5.01it/s]\n",
      "100%|██████████| 103/103 [00:20<00:00,  5.15it/s]\n",
      "100%|██████████| 103/103 [00:19<00:00,  5.18it/s]\n",
      "100%|██████████| 103/103 [00:20<00:00,  5.08it/s]\n",
      "100%|██████████| 103/103 [00:20<00:00,  5.10it/s]\n"
     ]
    },
    {
     "name": "stderr",
     "output_type": "stream",
     "text": [
      "../../topicnet/cooking_machine/cubes/base_cube.py:219: UserWarning: Max progression length exceeded\n",
      "  warnings.warn(warning_message)\n"
     ]
    },
    {
     "name": "stdout",
     "output_type": "stream",
     "text": [
      "PATH: ../experiments/Maximize_Coherence/<<<<<<<<<<<root>>>>>>>>>>>\n",
      "100%|██████████| 103/103 [00:20<00:00,  4.97it/s]\n",
      "100%|██████████| 103/103 [00:20<00:00,  4.96it/s]\n",
      "100%|██████████| 103/103 [00:20<00:00,  5.04it/s]\n"
     ]
    },
    {
     "name": "stderr",
     "output_type": "stream",
     "text": [
      "../../topicnet/cooking_machine/models/dummy_topic_model.py:163: UserWarning: Already dummy\n",
      "  warnings.warn(WARNING_ALREADY_DUMMY, UserWarning)\n"
     ]
    },
    {
     "name": "stdout",
     "output_type": "stream",
     "text": [
      "100%|██████████| 103/103 [00:20<00:00,  4.96it/s]\n",
      "100%|██████████| 103/103 [00:20<00:00,  5.01it/s]\n",
      "100%|██████████| 103/103 [00:21<00:00,  4.90it/s]\n",
      "100%|██████████| 103/103 [00:20<00:00,  4.91it/s]\n",
      "100%|██████████| 103/103 [00:20<00:00,  5.08it/s]\n",
      "100%|██████████| 103/103 [00:20<00:00,  5.02it/s]\n",
      "100%|██████████| 103/103 [00:20<00:00,  5.02it/s]\n",
      "CPU times: user 2min 45s, sys: 2min 36s, total: 5min 21s\n",
      "Wall time: 18min 53s\n"
     ]
    },
    {
     "data": {
      "text/plain": [
       "{Model(id=##20h15m43s_06d04m2020y###, parent_id=##20h12m00s_06d04m2020y###, experiment_id=Maximize_Coherence)}"
      ]
     },
     "execution_count": null,
     "metadata": {},
     "output_type": "execute_result"
    }
   ],
   "source": [
    "%%time\n",
    "\n",
    "experiment.run(dataset)"
   ]
  },
  {
   "cell_type": "markdown",
   "metadata": {},
   "source": [
    "## Best Model<a id=\"best-model\"></a>\n",
    "\n",
    "<div style=\"text-align: right\">Back to <a href=#contents>Contents</a></div>"
   ]
  },
  {
   "cell_type": "markdown",
   "metadata": {},
   "source": [
    "Let's find the best model of all (not only from the last stage of the experiment)."
   ]
  },
  {
   "cell_type": "code",
   "execution_count": null,
   "metadata": {},
   "outputs": [
    {
     "name": "stderr",
     "output_type": "stream",
     "text": [
      "../../topicnet/cooking_machine/routine.py:455: UserWarning: Model \"Model(id=<<<<<<<<<<<root>>>>>>>>>>>, parent_id=None, experiment_id=Maximize_Coherence)\" has empty value list for score \"IntratextCoherenceScore\"\n",
      "  f'Model \\\"{acceptable_model}\\\" has empty value list for score \\\"{metric}\\\"')\n",
      "../../topicnet/cooking_machine/routine.py:484: UserWarning: Can't return the requested number of models:\n",
      "  warnings.warn(W_RETURN_FEWER_MODELS.format(models_num, len(result_models)))\n"
     ]
    }
   ],
   "source": [
    "score_name = 'IntratextCoherenceScore'\n",
    "\n",
    "best_model = None\n",
    "levels = range(1, len(experiment.cubes) + 1)\n",
    "\n",
    "for level in levels:\n",
    "    best_model_candidates = experiment.select(\n",
    "        f'{score_name} -> max',\n",
    "        level=level\n",
    "    )\n",
    "\n",
    "    if len(best_model_candidates) == 0:\n",
    "        continue\n",
    "\n",
    "    best_model_candidate = best_model_candidates[0]\n",
    "\n",
    "    if (best_model is None or\n",
    "            best_model.scores[score_name][-1] <\n",
    "            best_model_candidate.scores[score_name][-1]):\n",
    "\n",
    "        best_model = best_model_candidate"
   ]
  },
  {
   "cell_type": "code",
   "execution_count": null,
   "metadata": {},
   "outputs": [
    {
     "data": {
      "text/plain": [
       "Model(id=##20h14m28s_06d04m2020y###, parent_id=##20h10m14s_06d04m2020y###, experiment_id=Maximize_Coherence)"
      ]
     },
     "execution_count": null,
     "metadata": {},
     "output_type": "execute_result"
    }
   ],
   "source": [
    "best_model"
   ]
  },
  {
   "cell_type": "markdown",
   "metadata": {},
   "source": [
    "All other models (excluding the Root one):"
   ]
  },
  {
   "cell_type": "code",
   "execution_count": null,
   "metadata": {},
   "outputs": [],
   "source": [
    "models_to_compare_with = [\n",
    "    m for m in experiment.models.values()\n",
    "    if len(m.scores[score_name]) > 0\n",
    "]"
   ]
  },
  {
   "cell_type": "code",
   "execution_count": null,
   "metadata": {},
   "outputs": [
    {
     "data": {
      "text/plain": [
       "23"
      ]
     },
     "execution_count": null,
     "metadata": {},
     "output_type": "execute_result"
    }
   ],
   "source": [
    "len(models_to_compare_with)"
   ]
  },
  {
   "cell_type": "code",
   "execution_count": null,
   "metadata": {},
   "outputs": [
    {
     "data": {
      "text/plain": [
       "24"
      ]
     },
     "execution_count": null,
     "metadata": {},
     "output_type": "execute_result"
    }
   ],
   "source": [
    "len(experiment.models)  # plus Root"
   ]
  },
  {
   "cell_type": "markdown",
   "metadata": {},
   "source": [
    "Best model's ID and its score value"
   ]
  },
  {
   "cell_type": "code",
   "execution_count": null,
   "metadata": {},
   "outputs": [
    {
     "name": "stdout",
     "output_type": "stream",
     "text": [
      "         ID: ##20h14m28s_06d04m2020y###\n",
      "Score value: 0.00988\n"
     ]
    }
   ],
   "source": [
    "print(f'         ID: {best_model.model_id}')\n",
    "print(f'Score value: {best_model.scores[score_name][-1]:.5f}')"
   ]
  },
  {
   "cell_type": "markdown",
   "metadata": {},
   "source": [
    "Other models' score value:"
   ]
  },
  {
   "cell_type": "code",
   "execution_count": null,
   "metadata": {},
   "outputs": [
    {
     "name": "stdout",
     "output_type": "stream",
     "text": [
      "Level: 1\n",
      "<<<<<<<<<<<root>>>>>>>>>>>: nan\n",
      "\n",
      "Level: 2\n",
      "##19h59m58s_06d04m2020y###: 0.00130\n",
      "##20h00m37s_06d04m2020y###: 0.00125\n",
      "##20h01m17s_06d04m2020y###: 0.00109\n",
      "##20h01m57s_06d04m2020y###: 0.00116\n",
      "##20h02m37s_06d04m2020y###: 0.00097\n",
      "##20h03m18s_06d04m2020y###: 0.00108\n",
      "##20h04m01s_06d04m2020y###: 0.00019\n",
      "\n",
      "Level: 3\n",
      "##20h04m52s_06d04m2020y###: 0.00191\n",
      "##20h05m33s_06d04m2020y###: 0.00191\n",
      "##20h06m15s_06d04m2020y###: 0.00478\n",
      "##20h06m59s_06d04m2020y###: 0.00736\n",
      "##20h07m43s_06d04m2020y###: 0.00734\n",
      "##20h08m29s_06d04m2020y###: 0.00722\n",
      "\n",
      "Level: 4\n",
      "##20h09m28s_06d04m2020y###: 0.00741\n",
      "##20h10m14s_06d04m2020y###: 0.00741\n",
      "##20h11m00s_06d04m2020y###: 0.00702\n",
      "\n",
      "Level: 5\n",
      "##20h12m00s_06d04m2020y###: 0.00756\n",
      "##20h12m48s_06d04m2020y###: 0.00677\n",
      "##20h13m38s_06d04m2020y###: 0.00713\n",
      "##20h14m28s_06d04m2020y###: 0.00988\n",
      "\n",
      "Level: 6\n",
      "##20h15m43s_06d04m2020y###: 0.00800\n",
      "##20h16m36s_06d04m2020y###: 0.00800\n",
      "##20h17m30s_06d04m2020y###: 0.00799\n",
      "\n"
     ]
    }
   ],
   "source": [
    "for level in levels:\n",
    "    print('Level:', level)\n",
    "    \n",
    "    current_models = experiment.select(\n",
    "        '',\n",
    "        level=level\n",
    "    )\n",
    "    \n",
    "    for m in current_models:\n",
    "        if len(m.scores[score_name]) == 0:\n",
    "            score_value = float('nan')\n",
    "        else:\n",
    "            score_value = m.scores[score_name][-1]\n",
    "\n",
    "        print(f'{m.model_id}: {score_value:.5f}')\n",
    "    \n",
    "    print()"
   ]
  },
  {
   "cell_type": "markdown",
   "metadata": {},
   "source": [
    "## Exploring Best Model<a id=\"investigating\"></a>\n",
    "\n",
    "<div style=\"text-align: right\">Back to <a href=#contents>Contents</a></div>\n",
    "\n",
    "More detailed description of the best model goes here."
   ]
  },
  {
   "cell_type": "code",
   "execution_count": null,
   "metadata": {},
   "outputs": [
    {
     "data": {
      "text/html": [
       "<div>\n",
       "<style scoped>\n",
       "    .dataframe tbody tr th:only-of-type {\n",
       "        vertical-align: middle;\n",
       "    }\n",
       "\n",
       "    .dataframe tbody tr th {\n",
       "        vertical-align: top;\n",
       "    }\n",
       "\n",
       "    .dataframe thead th {\n",
       "        text-align: right;\n",
       "    }\n",
       "</style>\n",
       "<table border=\"1\" class=\"dataframe\">\n",
       "  <thead>\n",
       "    <tr style=\"text-align: right;\">\n",
       "      <th></th>\n",
       "      <th></th>\n",
       "      <th>tau</th>\n",
       "      <th>gamma</th>\n",
       "      <th>class_ids</th>\n",
       "    </tr>\n",
       "    <tr>\n",
       "      <th>model_id</th>\n",
       "      <th>regularizer_name</th>\n",
       "      <th></th>\n",
       "      <th></th>\n",
       "      <th></th>\n",
       "    </tr>\n",
       "  </thead>\n",
       "  <tbody>\n",
       "    <tr>\n",
       "      <th rowspan=\"6\" valign=\"top\">##20h14m28s_06d04m2020y###</th>\n",
       "      <th>decorrelate_phi</th>\n",
       "      <td>0.100000</td>\n",
       "      <td>0.0</td>\n",
       "      <td>[]</td>\n",
       "    </tr>\n",
       "    <tr>\n",
       "      <th>smooth_phi_background</th>\n",
       "      <td>0.002459</td>\n",
       "      <td>NaN</td>\n",
       "      <td>[]</td>\n",
       "    </tr>\n",
       "    <tr>\n",
       "      <th>smooth_phi_bcg</th>\n",
       "      <td>0.000000</td>\n",
       "      <td>NaN</td>\n",
       "      <td>[@word]</td>\n",
       "    </tr>\n",
       "    <tr>\n",
       "      <th>smooth_phi_specific</th>\n",
       "      <td>1.000000</td>\n",
       "      <td>NaN</td>\n",
       "      <td>[]</td>\n",
       "    </tr>\n",
       "    <tr>\n",
       "      <th>smooth_theta_bcg</th>\n",
       "      <td>0.000000</td>\n",
       "      <td>NaN</td>\n",
       "      <td>None</td>\n",
       "    </tr>\n",
       "    <tr>\n",
       "      <th>sparse_phi_specific</th>\n",
       "      <td>-2.731980</td>\n",
       "      <td>NaN</td>\n",
       "      <td>[]</td>\n",
       "    </tr>\n",
       "  </tbody>\n",
       "</table>\n",
       "</div>"
      ],
      "text/plain": [
       "                                                       tau  gamma class_ids\n",
       "model_id                   regularizer_name                                \n",
       "##20h14m28s_06d04m2020y### decorrelate_phi        0.100000    0.0        []\n",
       "                           smooth_phi_background  0.002459    NaN        []\n",
       "                           smooth_phi_bcg         0.000000    NaN   [@word]\n",
       "                           smooth_phi_specific    1.000000    NaN        []\n",
       "                           smooth_theta_bcg       0.000000    NaN      None\n",
       "                           sparse_phi_specific   -2.731980    NaN        []"
      ]
     },
     "execution_count": null,
     "metadata": {},
     "output_type": "execute_result"
    }
   ],
   "source": [
    "best_model.describe_regularizers()"
   ]
  },
  {
   "cell_type": "code",
   "execution_count": null,
   "metadata": {},
   "outputs": [
    {
     "data": {
      "text/html": [
       "<div>\n",
       "<style scoped>\n",
       "    .dataframe tbody tr th:only-of-type {\n",
       "        vertical-align: middle;\n",
       "    }\n",
       "\n",
       "    .dataframe tbody tr th {\n",
       "        vertical-align: top;\n",
       "    }\n",
       "\n",
       "    .dataframe thead th {\n",
       "        text-align: right;\n",
       "    }\n",
       "</style>\n",
       "<table border=\"1\" class=\"dataframe\">\n",
       "  <thead>\n",
       "    <tr style=\"text-align: right;\">\n",
       "      <th></th>\n",
       "      <th></th>\n",
       "      <th>last_value</th>\n",
       "    </tr>\n",
       "    <tr>\n",
       "      <th>model_id</th>\n",
       "      <th>score_name</th>\n",
       "      <th></th>\n",
       "    </tr>\n",
       "  </thead>\n",
       "  <tbody>\n",
       "    <tr>\n",
       "      <th rowspan=\"9\" valign=\"top\">##20h14m28s_06d04m2020y###</th>\n",
       "      <th>PerplexityScore@all</th>\n",
       "      <td>3902.82</td>\n",
       "    </tr>\n",
       "    <tr>\n",
       "      <th>SparsityThetaScore</th>\n",
       "      <td>0.318082</td>\n",
       "    </tr>\n",
       "    <tr>\n",
       "      <th>SparsityPhiScore@word</th>\n",
       "      <td>0.895063</td>\n",
       "    </tr>\n",
       "    <tr>\n",
       "      <th>PerplexityScore@word</th>\n",
       "      <td>3902.82</td>\n",
       "    </tr>\n",
       "    <tr>\n",
       "      <th>TopicKernel@word.average_coherence</th>\n",
       "      <td>0</td>\n",
       "    </tr>\n",
       "    <tr>\n",
       "      <th>TopicKernel@word.average_contrast</th>\n",
       "      <td>0.678895</td>\n",
       "    </tr>\n",
       "    <tr>\n",
       "      <th>TopicKernel@word.average_purity</th>\n",
       "      <td>0.752459</td>\n",
       "    </tr>\n",
       "    <tr>\n",
       "      <th>TopicKernel@word.average_size</th>\n",
       "      <td>1390.25</td>\n",
       "    </tr>\n",
       "    <tr>\n",
       "      <th>IntratextCoherenceScore</th>\n",
       "      <td>0.00988121</td>\n",
       "    </tr>\n",
       "  </tbody>\n",
       "</table>\n",
       "</div>"
      ],
      "text/plain": [
       "                                                               last_value\n",
       "model_id                   score_name                                    \n",
       "##20h14m28s_06d04m2020y### PerplexityScore@all                    3902.82\n",
       "                           SparsityThetaScore                    0.318082\n",
       "                           SparsityPhiScore@word                 0.895063\n",
       "                           PerplexityScore@word                   3902.82\n",
       "                           TopicKernel@word.average_coherence           0\n",
       "                           TopicKernel@word.average_contrast     0.678895\n",
       "                           TopicKernel@word.average_purity       0.752459\n",
       "                           TopicKernel@word.average_size          1390.25\n",
       "                           IntratextCoherenceScore             0.00988121"
      ]
     },
     "execution_count": null,
     "metadata": {},
     "output_type": "execute_result"
    }
   ],
   "source": [
    "best_model.describe_scores()"
   ]
  },
  {
   "cell_type": "markdown",
   "metadata": {},
   "source": [
    "Let's use some viewers:"
   ]
  },
  {
   "cell_type": "code",
   "execution_count": null,
   "metadata": {},
   "outputs": [],
   "source": [
    "toptok_viewer = TopTokensViewer(best_model, num_top_tokens=10, method='phi')\n",
    "topdoc_viewer = TopDocumentsViewer(best_model, dataset=dataset)"
   ]
  },
  {
   "cell_type": "code",
   "execution_count": null,
   "metadata": {},
   "outputs": [],
   "source": [
    "topic_html_strings = toptok_viewer.view_from_jupyter(output=False)"
   ]
  },
  {
   "cell_type": "code",
   "execution_count": null,
   "metadata": {},
   "outputs": [],
   "source": [
    "top_documents = topdoc_viewer.view()"
   ]
  },
  {
   "cell_type": "code",
   "execution_count": null,
   "metadata": {},
   "outputs": [
    {
     "data": {
      "text/html": [
       "<style  type=\"text/css\" >\n",
       "</style><table id=\"T_b6406d64_7855_11ea_8ffc_3207db5affc5\" style='display:inline'><thead>    <tr>        <th class=\"blank\" ></th>        <th class=\"blank level0\" ></th>        <th class=\"col_heading level0 col0\" >topic_0</th>    </tr>    <tr>        <th class=\"index_name level0\" >modality</th>        <th class=\"index_name level1\" >token</th>        <th class=\"blank\" ></th>    </tr></thead><tbody>\n",
       "                <tr>\n",
       "                        <th id=\"T_b6406d64_7855_11ea_8ffc_3207db5affc5level0_row0\" class=\"row_heading level0 row0\" rowspan=10>@word</th>\n",
       "                        <th id=\"T_b6406d64_7855_11ea_8ffc_3207db5affc5level1_row0\" class=\"row_heading level1 row0\" >фильм</th>\n",
       "                        <td id=\"T_b6406d64_7855_11ea_8ffc_3207db5affc5row0_col0\" class=\"data row0 col0\" >0.108220</td>\n",
       "            </tr>\n",
       "            <tr>\n",
       "                                <th id=\"T_b6406d64_7855_11ea_8ffc_3207db5affc5level1_row1\" class=\"row_heading level1 row1\" >герой</th>\n",
       "                        <td id=\"T_b6406d64_7855_11ea_8ffc_3207db5affc5row1_col0\" class=\"data row1 col0\" >0.064080</td>\n",
       "            </tr>\n",
       "            <tr>\n",
       "                                <th id=\"T_b6406d64_7855_11ea_8ffc_3207db5affc5level1_row2\" class=\"row_heading level1 row2\" >кино</th>\n",
       "                        <td id=\"T_b6406d64_7855_11ea_8ffc_3207db5affc5row2_col0\" class=\"data row2 col0\" >0.040810</td>\n",
       "            </tr>\n",
       "            <tr>\n",
       "                                <th id=\"T_b6406d64_7855_11ea_8ffc_3207db5affc5level1_row3\" class=\"row_heading level1 row3\" >жанр</th>\n",
       "                        <td id=\"T_b6406d64_7855_11ea_8ffc_3207db5affc5row3_col0\" class=\"data row3 col0\" >0.039060</td>\n",
       "            </tr>\n",
       "            <tr>\n",
       "                                <th id=\"T_b6406d64_7855_11ea_8ffc_3207db5affc5level1_row4\" class=\"row_heading level1 row4\" >испытуемый</th>\n",
       "                        <td id=\"T_b6406d64_7855_11ea_8ffc_3207db5affc5row4_col0\" class=\"data row4 col0\" >0.031660</td>\n",
       "            </tr>\n",
       "            <tr>\n",
       "                                <th id=\"T_b6406d64_7855_11ea_8ffc_3207db5affc5level1_row5\" class=\"row_heading level1 row5\" >зритель</th>\n",
       "                        <td id=\"T_b6406d64_7855_11ea_8ffc_3207db5affc5row5_col0\" class=\"data row5 col0\" >0.030040</td>\n",
       "            </tr>\n",
       "            <tr>\n",
       "                                <th id=\"T_b6406d64_7855_11ea_8ffc_3207db5affc5level1_row6\" class=\"row_heading level1 row6\" >сцена</th>\n",
       "                        <td id=\"T_b6406d64_7855_11ea_8ffc_3207db5affc5row6_col0\" class=\"data row6 col0\" >0.030040</td>\n",
       "            </tr>\n",
       "            <tr>\n",
       "                                <th id=\"T_b6406d64_7855_11ea_8ffc_3207db5affc5level1_row7\" class=\"row_heading level1 row7\" >персонаж</th>\n",
       "                        <td id=\"T_b6406d64_7855_11ea_8ffc_3207db5affc5row7_col0\" class=\"data row7 col0\" >0.026140</td>\n",
       "            </tr>\n",
       "            <tr>\n",
       "                                <th id=\"T_b6406d64_7855_11ea_8ffc_3207db5affc5level1_row8\" class=\"row_heading level1 row8\" >кинематограф</th>\n",
       "                        <td id=\"T_b6406d64_7855_11ea_8ffc_3207db5affc5row8_col0\" class=\"data row8 col0\" >0.021830</td>\n",
       "            </tr>\n",
       "            <tr>\n",
       "                                <th id=\"T_b6406d64_7855_11ea_8ffc_3207db5affc5level1_row9\" class=\"row_heading level1 row9\" >экран</th>\n",
       "                        <td id=\"T_b6406d64_7855_11ea_8ffc_3207db5affc5row9_col0\" class=\"data row9 col0\" >0.016720</td>\n",
       "            </tr>\n",
       "    </tbody></table>&nbsp;<style  type=\"text/css\" >\n",
       "</style><table id=\"T_b6406d65_7855_11ea_8ffc_3207db5affc5\" style='display:inline'><thead>    <tr>        <th class=\"blank\" ></th>        <th class=\"blank level0\" ></th>        <th class=\"col_heading level0 col0\" >topic_1</th>    </tr>    <tr>        <th class=\"index_name level0\" >modality</th>        <th class=\"index_name level1\" >token</th>        <th class=\"blank\" ></th>    </tr></thead><tbody>\n",
       "                <tr>\n",
       "                        <th id=\"T_b6406d65_7855_11ea_8ffc_3207db5affc5level0_row0\" class=\"row_heading level0 row0\" rowspan=10>@word</th>\n",
       "                        <th id=\"T_b6406d65_7855_11ea_8ffc_3207db5affc5level1_row0\" class=\"row_heading level1 row0\" >культура</th>\n",
       "                        <td id=\"T_b6406d65_7855_11ea_8ffc_3207db5affc5row0_col0\" class=\"data row0 col0\" >0.011710</td>\n",
       "            </tr>\n",
       "            <tr>\n",
       "                                <th id=\"T_b6406d65_7855_11ea_8ffc_3207db5affc5level1_row1\" class=\"row_heading level1 row1\" >история</th>\n",
       "                        <td id=\"T_b6406d65_7855_11ea_8ffc_3207db5affc5row1_col0\" class=\"data row1 col0\" >0.011420</td>\n",
       "            </tr>\n",
       "            <tr>\n",
       "                                <th id=\"T_b6406d65_7855_11ea_8ffc_3207db5affc5level1_row2\" class=\"row_heading level1 row2\" >общество</th>\n",
       "                        <td id=\"T_b6406d65_7855_11ea_8ffc_3207db5affc5row2_col0\" class=\"data row2 col0\" >0.010780</td>\n",
       "            </tr>\n",
       "            <tr>\n",
       "                                <th id=\"T_b6406d65_7855_11ea_8ffc_3207db5affc5level1_row3\" class=\"row_heading level1 row3\" >пространство</th>\n",
       "                        <td id=\"T_b6406d65_7855_11ea_8ffc_3207db5affc5row3_col0\" class=\"data row3 col0\" >0.010010</td>\n",
       "            </tr>\n",
       "            <tr>\n",
       "                                <th id=\"T_b6406d65_7855_11ea_8ffc_3207db5affc5level1_row4\" class=\"row_heading level1 row4\" >отношение</th>\n",
       "                        <td id=\"T_b6406d65_7855_11ea_8ffc_3207db5affc5row4_col0\" class=\"data row4 col0\" >0.009880</td>\n",
       "            </tr>\n",
       "            <tr>\n",
       "                                <th id=\"T_b6406d65_7855_11ea_8ffc_3207db5affc5level1_row5\" class=\"row_heading level1 row5\" >понятие</th>\n",
       "                        <td id=\"T_b6406d65_7855_11ea_8ffc_3207db5affc5row5_col0\" class=\"data row5 col0\" >0.009590</td>\n",
       "            </tr>\n",
       "            <tr>\n",
       "                                <th id=\"T_b6406d65_7855_11ea_8ffc_3207db5affc5level1_row6\" class=\"row_heading level1 row6\" >представление</th>\n",
       "                        <td id=\"T_b6406d65_7855_11ea_8ffc_3207db5affc5row6_col0\" class=\"data row6 col0\" >0.008900</td>\n",
       "            </tr>\n",
       "            <tr>\n",
       "                                <th id=\"T_b6406d65_7855_11ea_8ffc_3207db5affc5level1_row7\" class=\"row_heading level1 row7\" >метр</th>\n",
       "                        <td id=\"T_b6406d65_7855_11ea_8ffc_3207db5affc5row7_col0\" class=\"data row7 col0\" >0.007420</td>\n",
       "            </tr>\n",
       "            <tr>\n",
       "                                <th id=\"T_b6406d65_7855_11ea_8ffc_3207db5affc5level1_row8\" class=\"row_heading level1 row8\" >смысл</th>\n",
       "                        <td id=\"T_b6406d65_7855_11ea_8ffc_3207db5affc5row8_col0\" class=\"data row8 col0\" >0.007140</td>\n",
       "            </tr>\n",
       "            <tr>\n",
       "                                <th id=\"T_b6406d65_7855_11ea_8ffc_3207db5affc5level1_row9\" class=\"row_heading level1 row9\" >социальный</th>\n",
       "                        <td id=\"T_b6406d65_7855_11ea_8ffc_3207db5affc5row9_col0\" class=\"data row9 col0\" >0.007090</td>\n",
       "            </tr>\n",
       "    </tbody></table>&nbsp;<style  type=\"text/css\" >\n",
       "</style><table id=\"T_b6406d67_7855_11ea_8ffc_3207db5affc5\" style='display:inline'><thead>    <tr>        <th class=\"blank\" ></th>        <th class=\"blank level0\" ></th>        <th class=\"col_heading level0 col0\" >topic_3</th>    </tr>    <tr>        <th class=\"index_name level0\" >modality</th>        <th class=\"index_name level1\" >token</th>        <th class=\"blank\" ></th>    </tr></thead><tbody>\n",
       "                <tr>\n",
       "                        <th id=\"T_b6406d67_7855_11ea_8ffc_3207db5affc5level0_row0\" class=\"row_heading level0 row0\" rowspan=10>@word</th>\n",
       "                        <th id=\"T_b6406d67_7855_11ea_8ffc_3207db5affc5level1_row0\" class=\"row_heading level1 row0\" >язык</th>\n",
       "                        <td id=\"T_b6406d67_7855_11ea_8ffc_3207db5affc5row0_col0\" class=\"data row0 col0\" >0.055610</td>\n",
       "            </tr>\n",
       "            <tr>\n",
       "                                <th id=\"T_b6406d67_7855_11ea_8ffc_3207db5affc5level1_row1\" class=\"row_heading level1 row1\" >слово</th>\n",
       "                        <td id=\"T_b6406d67_7855_11ea_8ffc_3207db5affc5row1_col0\" class=\"data row1 col0\" >0.039900</td>\n",
       "            </tr>\n",
       "            <tr>\n",
       "                                <th id=\"T_b6406d67_7855_11ea_8ffc_3207db5affc5level1_row2\" class=\"row_heading level1 row2\" >книга</th>\n",
       "                        <td id=\"T_b6406d67_7855_11ea_8ffc_3207db5affc5row2_col0\" class=\"data row2 col0\" >0.039320</td>\n",
       "            </tr>\n",
       "            <tr>\n",
       "                                <th id=\"T_b6406d67_7855_11ea_8ffc_3207db5affc5level1_row3\" class=\"row_heading level1 row3\" >текст</th>\n",
       "                        <td id=\"T_b6406d67_7855_11ea_8ffc_3207db5affc5row3_col0\" class=\"data row3 col0\" >0.023260</td>\n",
       "            </tr>\n",
       "            <tr>\n",
       "                                <th id=\"T_b6406d67_7855_11ea_8ffc_3207db5affc5level1_row4\" class=\"row_heading level1 row4\" >говорить</th>\n",
       "                        <td id=\"T_b6406d67_7855_11ea_8ffc_3207db5affc5row4_col0\" class=\"data row4 col0\" >0.020140</td>\n",
       "            </tr>\n",
       "            <tr>\n",
       "                                <th id=\"T_b6406d67_7855_11ea_8ffc_3207db5affc5level1_row5\" class=\"row_heading level1 row5\" >русский</th>\n",
       "                        <td id=\"T_b6406d67_7855_11ea_8ffc_3207db5affc5row5_col0\" class=\"data row5 col0\" >0.017160</td>\n",
       "            </tr>\n",
       "            <tr>\n",
       "                                <th id=\"T_b6406d67_7855_11ea_8ffc_3207db5affc5level1_row6\" class=\"row_heading level1 row6\" >писать</th>\n",
       "                        <td id=\"T_b6406d67_7855_11ea_8ffc_3207db5affc5row6_col0\" class=\"data row6 col0\" >0.016400</td>\n",
       "            </tr>\n",
       "            <tr>\n",
       "                                <th id=\"T_b6406d67_7855_11ea_8ffc_3207db5affc5level1_row7\" class=\"row_heading level1 row7\" >автор</th>\n",
       "                        <td id=\"T_b6406d67_7855_11ea_8ffc_3207db5affc5row7_col0\" class=\"data row7 col0\" >0.015460</td>\n",
       "            </tr>\n",
       "            <tr>\n",
       "                                <th id=\"T_b6406d67_7855_11ea_8ffc_3207db5affc5level1_row8\" class=\"row_heading level1 row8\" >написать</th>\n",
       "                        <td id=\"T_b6406d67_7855_11ea_8ffc_3207db5affc5row8_col0\" class=\"data row8 col0\" >0.012540</td>\n",
       "            </tr>\n",
       "            <tr>\n",
       "                                <th id=\"T_b6406d67_7855_11ea_8ffc_3207db5affc5level1_row9\" class=\"row_heading level1 row9\" >литература</th>\n",
       "                        <td id=\"T_b6406d67_7855_11ea_8ffc_3207db5affc5row9_col0\" class=\"data row9 col0\" >0.010400</td>\n",
       "            </tr>\n",
       "    </tbody></table>"
      ],
      "text/plain": [
       "<IPython.core.display.HTML object>"
      ]
     },
     "execution_count": null,
     "metadata": {},
     "output_type": "execute_result"
    }
   ],
   "source": [
    "HTML(\n",
    "    topic_html_strings[0]\n",
    "    + '&nbsp;' + topic_html_strings[1]\n",
    "    + '&nbsp;' + topic_html_strings[3]\n",
    ")"
   ]
  },
  {
   "cell_type": "code",
   "execution_count": null,
   "metadata": {},
   "outputs": [
    {
     "data": {
      "text/html": [
       "<style  type=\"text/css\" >\n",
       "</style><table id=\"T_ef35530e_7846_11ea_8ffc_3207db5affc5\" style='display:inline'><thead>    <tr>        <th class=\"blank\" ></th>        <th class=\"blank level0\" ></th>        <th class=\"col_heading level0 col0\" >topic_4</th>    </tr>    <tr>        <th class=\"index_name level0\" >modality</th>        <th class=\"index_name level1\" >token</th>        <th class=\"blank\" ></th>    </tr></thead><tbody>\n",
       "                <tr>\n",
       "                        <th id=\"T_ef35530e_7846_11ea_8ffc_3207db5affc5level0_row0\" class=\"row_heading level0 row0\" rowspan=10>@word</th>\n",
       "                        <th id=\"T_ef35530e_7846_11ea_8ffc_3207db5affc5level1_row0\" class=\"row_heading level1 row0\" >право</th>\n",
       "                        <td id=\"T_ef35530e_7846_11ea_8ffc_3207db5affc5row0_col0\" class=\"data row0 col0\" >0.047470</td>\n",
       "            </tr>\n",
       "            <tr>\n",
       "                                <th id=\"T_ef35530e_7846_11ea_8ffc_3207db5affc5level1_row1\" class=\"row_heading level1 row1\" >бог</th>\n",
       "                        <td id=\"T_ef35530e_7846_11ea_8ffc_3207db5affc5row1_col0\" class=\"data row1 col0\" >0.026280</td>\n",
       "            </tr>\n",
       "            <tr>\n",
       "                                <th id=\"T_ef35530e_7846_11ea_8ffc_3207db5affc5level1_row2\" class=\"row_heading level1 row2\" >закон</th>\n",
       "                        <td id=\"T_ef35530e_7846_11ea_8ffc_3207db5affc5row2_col0\" class=\"data row2 col0\" >0.024220</td>\n",
       "            </tr>\n",
       "            <tr>\n",
       "                                <th id=\"T_ef35530e_7846_11ea_8ffc_3207db5affc5level1_row3\" class=\"row_heading level1 row3\" >король</th>\n",
       "                        <td id=\"T_ef35530e_7846_11ea_8ffc_3207db5affc5row3_col0\" class=\"data row3 col0\" >0.017980</td>\n",
       "            </tr>\n",
       "            <tr>\n",
       "                                <th id=\"T_ef35530e_7846_11ea_8ffc_3207db5affc5level1_row4\" class=\"row_heading level1 row4\" >церковь</th>\n",
       "                        <td id=\"T_ef35530e_7846_11ea_8ffc_3207db5affc5row4_col0\" class=\"data row4 col0\" >0.015860</td>\n",
       "            </tr>\n",
       "            <tr>\n",
       "                                <th id=\"T_ef35530e_7846_11ea_8ffc_3207db5affc5level1_row5\" class=\"row_heading level1 row5\" >религия</th>\n",
       "                        <td id=\"T_ef35530e_7846_11ea_8ffc_3207db5affc5row5_col0\" class=\"data row5 col0\" >0.012610</td>\n",
       "            </tr>\n",
       "            <tr>\n",
       "                                <th id=\"T_ef35530e_7846_11ea_8ffc_3207db5affc5level1_row6\" class=\"row_heading level1 row6\" >религиозный</th>\n",
       "                        <td id=\"T_ef35530e_7846_11ea_8ffc_3207db5affc5row6_col0\" class=\"data row6 col0\" >0.012540</td>\n",
       "            </tr>\n",
       "            <tr>\n",
       "                                <th id=\"T_ef35530e_7846_11ea_8ffc_3207db5affc5level1_row7\" class=\"row_heading level1 row7\" >император</th>\n",
       "                        <td id=\"T_ef35530e_7846_11ea_8ffc_3207db5affc5row7_col0\" class=\"data row7 col0\" >0.010980</td>\n",
       "            </tr>\n",
       "            <tr>\n",
       "                                <th id=\"T_ef35530e_7846_11ea_8ffc_3207db5affc5level1_row8\" class=\"row_heading level1 row8\" >суд</th>\n",
       "                        <td id=\"T_ef35530e_7846_11ea_8ffc_3207db5affc5row8_col0\" class=\"data row8 col0\" >0.010930</td>\n",
       "            </tr>\n",
       "            <tr>\n",
       "                                <th id=\"T_ef35530e_7846_11ea_8ffc_3207db5affc5level1_row9\" class=\"row_heading level1 row9\" >христианский</th>\n",
       "                        <td id=\"T_ef35530e_7846_11ea_8ffc_3207db5affc5row9_col0\" class=\"data row9 col0\" >0.010690</td>\n",
       "            </tr>\n",
       "    </tbody></table>&nbsp;<style  type=\"text/css\" >\n",
       "</style><table id=\"T_ef35530f_7846_11ea_8ffc_3207db5affc5\" style='display:inline'><thead>    <tr>        <th class=\"blank\" ></th>        <th class=\"blank level0\" ></th>        <th class=\"col_heading level0 col0\" >topic_5</th>    </tr>    <tr>        <th class=\"index_name level0\" >modality</th>        <th class=\"index_name level1\" >token</th>        <th class=\"blank\" ></th>    </tr></thead><tbody>\n",
       "                <tr>\n",
       "                        <th id=\"T_ef35530f_7846_11ea_8ffc_3207db5affc5level0_row0\" class=\"row_heading level0 row0\" rowspan=10>@word</th>\n",
       "                        <th id=\"T_ef35530f_7846_11ea_8ffc_3207db5affc5level1_row0\" class=\"row_heading level1 row0\" >пациент</th>\n",
       "                        <td id=\"T_ef35530f_7846_11ea_8ffc_3207db5affc5row0_col0\" class=\"data row0 col0\" >0.025620</td>\n",
       "            </tr>\n",
       "            <tr>\n",
       "                                <th id=\"T_ef35530f_7846_11ea_8ffc_3207db5affc5level1_row1\" class=\"row_heading level1 row1\" >бактерия</th>\n",
       "                        <td id=\"T_ef35530f_7846_11ea_8ffc_3207db5affc5row1_col0\" class=\"data row1 col0\" >0.023850</td>\n",
       "            </tr>\n",
       "            <tr>\n",
       "                                <th id=\"T_ef35530f_7846_11ea_8ffc_3207db5affc5level1_row2\" class=\"row_heading level1 row2\" >болезнь</th>\n",
       "                        <td id=\"T_ef35530f_7846_11ea_8ffc_3207db5affc5row2_col0\" class=\"data row2 col0\" >0.023850</td>\n",
       "            </tr>\n",
       "            <tr>\n",
       "                                <th id=\"T_ef35530f_7846_11ea_8ffc_3207db5affc5level1_row3\" class=\"row_heading level1 row3\" >заболевание</th>\n",
       "                        <td id=\"T_ef35530f_7846_11ea_8ffc_3207db5affc5row3_col0\" class=\"data row3 col0\" >0.019720</td>\n",
       "            </tr>\n",
       "            <tr>\n",
       "                                <th id=\"T_ef35530f_7846_11ea_8ffc_3207db5affc5level1_row4\" class=\"row_heading level1 row4\" >врач</th>\n",
       "                        <td id=\"T_ef35530f_7846_11ea_8ffc_3207db5affc5row4_col0\" class=\"data row4 col0\" >0.019440</td>\n",
       "            </tr>\n",
       "            <tr>\n",
       "                                <th id=\"T_ef35530f_7846_11ea_8ffc_3207db5affc5level1_row5\" class=\"row_heading level1 row5\" >препарат</th>\n",
       "                        <td id=\"T_ef35530f_7846_11ea_8ffc_3207db5affc5row5_col0\" class=\"data row5 col0\" >0.016490</td>\n",
       "            </tr>\n",
       "            <tr>\n",
       "                                <th id=\"T_ef35530f_7846_11ea_8ffc_3207db5affc5level1_row6\" class=\"row_heading level1 row6\" >медицина</th>\n",
       "                        <td id=\"T_ef35530f_7846_11ea_8ffc_3207db5affc5row6_col0\" class=\"data row6 col0\" >0.016380</td>\n",
       "            </tr>\n",
       "            <tr>\n",
       "                                <th id=\"T_ef35530f_7846_11ea_8ffc_3207db5affc5level1_row7\" class=\"row_heading level1 row7\" >сон</th>\n",
       "                        <td id=\"T_ef35530f_7846_11ea_8ffc_3207db5affc5row7_col0\" class=\"data row7 col0\" >0.015810</td>\n",
       "            </tr>\n",
       "            <tr>\n",
       "                                <th id=\"T_ef35530f_7846_11ea_8ffc_3207db5affc5level1_row8\" class=\"row_heading level1 row8\" >микроорганизм</th>\n",
       "                        <td id=\"T_ef35530f_7846_11ea_8ffc_3207db5affc5row8_col0\" class=\"data row8 col0\" >0.015630</td>\n",
       "            </tr>\n",
       "            <tr>\n",
       "                                <th id=\"T_ef35530f_7846_11ea_8ffc_3207db5affc5level1_row9\" class=\"row_heading level1 row9\" >вирус</th>\n",
       "                        <td id=\"T_ef35530f_7846_11ea_8ffc_3207db5affc5row9_col0\" class=\"data row9 col0\" >0.015270</td>\n",
       "            </tr>\n",
       "    </tbody></table>&nbsp;<style  type=\"text/css\" >\n",
       "</style><table id=\"T_ef355310_7846_11ea_8ffc_3207db5affc5\" style='display:inline'><thead>    <tr>        <th class=\"blank\" ></th>        <th class=\"blank level0\" ></th>        <th class=\"col_heading level0 col0\" >topic_6</th>    </tr>    <tr>        <th class=\"index_name level0\" >modality</th>        <th class=\"index_name level1\" >token</th>        <th class=\"blank\" ></th>    </tr></thead><tbody>\n",
       "                <tr>\n",
       "                        <th id=\"T_ef355310_7846_11ea_8ffc_3207db5affc5level0_row0\" class=\"row_heading level0 row0\" rowspan=10>@word</th>\n",
       "                        <th id=\"T_ef355310_7846_11ea_8ffc_3207db5affc5level1_row0\" class=\"row_heading level1 row0\" >клетка</th>\n",
       "                        <td id=\"T_ef355310_7846_11ea_8ffc_3207db5affc5row0_col0\" class=\"data row0 col0\" >0.030750</td>\n",
       "            </tr>\n",
       "            <tr>\n",
       "                                <th id=\"T_ef355310_7846_11ea_8ffc_3207db5affc5level1_row1\" class=\"row_heading level1 row1\" >мозг</th>\n",
       "                        <td id=\"T_ef355310_7846_11ea_8ffc_3207db5affc5row1_col0\" class=\"data row1 col0\" >0.021500</td>\n",
       "            </tr>\n",
       "            <tr>\n",
       "                                <th id=\"T_ef355310_7846_11ea_8ffc_3207db5affc5level1_row2\" class=\"row_heading level1 row2\" >ген</th>\n",
       "                        <td id=\"T_ef355310_7846_11ea_8ffc_3207db5affc5row2_col0\" class=\"data row2 col0\" >0.018970</td>\n",
       "            </tr>\n",
       "            <tr>\n",
       "                                <th id=\"T_ef355310_7846_11ea_8ffc_3207db5affc5level1_row3\" class=\"row_heading level1 row3\" >организм</th>\n",
       "                        <td id=\"T_ef355310_7846_11ea_8ffc_3207db5affc5row3_col0\" class=\"data row3 col0\" >0.016400</td>\n",
       "            </tr>\n",
       "            <tr>\n",
       "                                <th id=\"T_ef355310_7846_11ea_8ffc_3207db5affc5level1_row4\" class=\"row_heading level1 row4\" >использовать</th>\n",
       "                        <td id=\"T_ef355310_7846_11ea_8ffc_3207db5affc5row4_col0\" class=\"data row4 col0\" >0.015920</td>\n",
       "            </tr>\n",
       "            <tr>\n",
       "                                <th id=\"T_ef355310_7846_11ea_8ffc_3207db5affc5level1_row5\" class=\"row_heading level1 row5\" >метод</th>\n",
       "                        <td id=\"T_ef355310_7846_11ea_8ffc_3207db5affc5row5_col0\" class=\"data row5 col0\" >0.014080</td>\n",
       "            </tr>\n",
       "            <tr>\n",
       "                                <th id=\"T_ef355310_7846_11ea_8ffc_3207db5affc5level1_row6\" class=\"row_heading level1 row6\" >система</th>\n",
       "                        <td id=\"T_ef355310_7846_11ea_8ffc_3207db5affc5row6_col0\" class=\"data row6 col0\" >0.014020</td>\n",
       "            </tr>\n",
       "            <tr>\n",
       "                                <th id=\"T_ef355310_7846_11ea_8ffc_3207db5affc5level1_row7\" class=\"row_heading level1 row7\" >память</th>\n",
       "                        <td id=\"T_ef355310_7846_11ea_8ffc_3207db5affc5row7_col0\" class=\"data row7 col0\" >0.013780</td>\n",
       "            </tr>\n",
       "            <tr>\n",
       "                                <th id=\"T_ef355310_7846_11ea_8ffc_3207db5affc5level1_row8\" class=\"row_heading level1 row8\" >процесс</th>\n",
       "                        <td id=\"T_ef355310_7846_11ea_8ffc_3207db5affc5row8_col0\" class=\"data row8 col0\" >0.013670</td>\n",
       "            </tr>\n",
       "            <tr>\n",
       "                                <th id=\"T_ef355310_7846_11ea_8ffc_3207db5affc5level1_row9\" class=\"row_heading level1 row9\" >молекула</th>\n",
       "                        <td id=\"T_ef355310_7846_11ea_8ffc_3207db5affc5row9_col0\" class=\"data row9 col0\" >0.012690</td>\n",
       "            </tr>\n",
       "    </tbody></table>"
      ],
      "text/plain": [
       "<IPython.core.display.HTML object>"
      ]
     },
     "execution_count": null,
     "metadata": {},
     "output_type": "execute_result"
    }
   ],
   "source": [
    "HTML(\n",
    "    topic_html_strings[4]\n",
    "    + '&nbsp;' + topic_html_strings[5]\n",
    "    + '&nbsp;' + topic_html_strings[6]\n",
    ")"
   ]
  },
  {
   "cell_type": "markdown",
   "metadata": {},
   "source": [
    "And the background topic (not meaningful):"
   ]
  },
  {
   "cell_type": "code",
   "execution_count": null,
   "metadata": {},
   "outputs": [
    {
     "data": {
      "text/html": [
       "<style  type=\"text/css\" >\n",
       "</style><table id=\"T_ef355319_7846_11ea_8ffc_3207db5affc5\" style='display:inline'><thead>    <tr>        <th class=\"blank\" ></th>        <th class=\"blank level0\" ></th>        <th class=\"col_heading level0 col0\" >bcg_15</th>    </tr>    <tr>        <th class=\"index_name level0\" >modality</th>        <th class=\"index_name level1\" >token</th>        <th class=\"blank\" ></th>    </tr></thead><tbody>\n",
       "                <tr>\n",
       "                        <th id=\"T_ef355319_7846_11ea_8ffc_3207db5affc5level0_row0\" class=\"row_heading level0 row0\" rowspan=10>@word</th>\n",
       "                        <th id=\"T_ef355319_7846_11ea_8ffc_3207db5affc5level1_row0\" class=\"row_heading level1 row0\" >должный</th>\n",
       "                        <td id=\"T_ef355319_7846_11ea_8ffc_3207db5affc5row0_col0\" class=\"data row0 col0\" >0.004300</td>\n",
       "            </tr>\n",
       "            <tr>\n",
       "                                <th id=\"T_ef355319_7846_11ea_8ffc_3207db5affc5level1_row1\" class=\"row_heading level1 row1\" >большой</th>\n",
       "                        <td id=\"T_ef355319_7846_11ea_8ffc_3207db5affc5row1_col0\" class=\"data row1 col0\" >0.004240</td>\n",
       "            </tr>\n",
       "            <tr>\n",
       "                                <th id=\"T_ef355319_7846_11ea_8ffc_3207db5affc5level1_row2\" class=\"row_heading level1 row2\" >являться</th>\n",
       "                        <td id=\"T_ef355319_7846_11ea_8ffc_3207db5affc5row2_col0\" class=\"data row2 col0\" >0.004170</td>\n",
       "            </tr>\n",
       "            <tr>\n",
       "                                <th id=\"T_ef355319_7846_11ea_8ffc_3207db5affc5level1_row3\" class=\"row_heading level1 row3\" >существовать</th>\n",
       "                        <td id=\"T_ef355319_7846_11ea_8ffc_3207db5affc5row3_col0\" class=\"data row3 col0\" >0.003890</td>\n",
       "            </tr>\n",
       "            <tr>\n",
       "                                <th id=\"T_ef355319_7846_11ea_8ffc_3207db5affc5level1_row4\" class=\"row_heading level1 row4\" >говорить</th>\n",
       "                        <td id=\"T_ef355319_7846_11ea_8ffc_3207db5affc5row4_col0\" class=\"data row4 col0\" >0.003850</td>\n",
       "            </tr>\n",
       "            <tr>\n",
       "                                <th id=\"T_ef355319_7846_11ea_8ffc_3207db5affc5level1_row5\" class=\"row_heading level1 row5\" >работа</th>\n",
       "                        <td id=\"T_ef355319_7846_11ea_8ffc_3207db5affc5row5_col0\" class=\"data row5 col0\" >0.003820</td>\n",
       "            </tr>\n",
       "            <tr>\n",
       "                                <th id=\"T_ef355319_7846_11ea_8ffc_3207db5affc5level1_row6\" class=\"row_heading level1 row6\" >образ</th>\n",
       "                        <td id=\"T_ef355319_7846_11ea_8ffc_3207db5affc5row6_col0\" class=\"data row6 col0\" >0.003700</td>\n",
       "            </tr>\n",
       "            <tr>\n",
       "                                <th id=\"T_ef355319_7846_11ea_8ffc_3207db5affc5level1_row7\" class=\"row_heading level1 row7\" >стать</th>\n",
       "                        <td id=\"T_ef355319_7846_11ea_8ffc_3207db5affc5row7_col0\" class=\"data row7 col0\" >0.003360</td>\n",
       "            </tr>\n",
       "            <tr>\n",
       "                                <th id=\"T_ef355319_7846_11ea_8ffc_3207db5affc5level1_row8\" class=\"row_heading level1 row8\" >важный</th>\n",
       "                        <td id=\"T_ef355319_7846_11ea_8ffc_3207db5affc5row8_col0\" class=\"data row8 col0\" >0.003320</td>\n",
       "            </tr>\n",
       "            <tr>\n",
       "                                <th id=\"T_ef355319_7846_11ea_8ffc_3207db5affc5level1_row9\" class=\"row_heading level1 row9\" >сторона</th>\n",
       "                        <td id=\"T_ef355319_7846_11ea_8ffc_3207db5affc5row9_col0\" class=\"data row9 col0\" >0.003320</td>\n",
       "            </tr>\n",
       "    </tbody></table>"
      ],
      "text/plain": [
       "<IPython.core.display.HTML object>"
      ]
     },
     "execution_count": null,
     "metadata": {},
     "output_type": "execute_result"
    }
   ],
   "source": [
    "HTML(topic_html_strings[-1])"
   ]
  },
  {
   "cell_type": "markdown",
   "metadata": {},
   "source": [
    "Topic and parts of its top documents:"
   ]
  },
  {
   "cell_type": "code",
   "execution_count": null,
   "metadata": {},
   "outputs": [
    {
     "data": {
      "text/html": [
       "<style  type=\"text/css\" >\n",
       "</style><table id=\"T_b6406d6e_7855_11ea_8ffc_3207db5affc5\" style='display:inline'><thead>    <tr>        <th class=\"blank\" ></th>        <th class=\"blank level0\" ></th>        <th class=\"col_heading level0 col0\" >topic_10</th>    </tr>    <tr>        <th class=\"index_name level0\" >modality</th>        <th class=\"index_name level1\" >token</th>        <th class=\"blank\" ></th>    </tr></thead><tbody>\n",
       "                <tr>\n",
       "                        <th id=\"T_b6406d6e_7855_11ea_8ffc_3207db5affc5level0_row0\" class=\"row_heading level0 row0\" rowspan=10>@word</th>\n",
       "                        <th id=\"T_b6406d6e_7855_11ea_8ffc_3207db5affc5level1_row0\" class=\"row_heading level1 row0\" >частица</th>\n",
       "                        <td id=\"T_b6406d6e_7855_11ea_8ffc_3207db5affc5row0_col0\" class=\"data row0 col0\" >0.014020</td>\n",
       "            </tr>\n",
       "            <tr>\n",
       "                                <th id=\"T_b6406d6e_7855_11ea_8ffc_3207db5affc5level1_row1\" class=\"row_heading level1 row1\" >звезда</th>\n",
       "                        <td id=\"T_b6406d6e_7855_11ea_8ffc_3207db5affc5row1_col0\" class=\"data row1 col0\" >0.012260</td>\n",
       "            </tr>\n",
       "            <tr>\n",
       "                                <th id=\"T_b6406d6e_7855_11ea_8ffc_3207db5affc5level1_row2\" class=\"row_heading level1 row2\" >земля</th>\n",
       "                        <td id=\"T_b6406d6e_7855_11ea_8ffc_3207db5affc5row2_col0\" class=\"data row2 col0\" >0.011420</td>\n",
       "            </tr>\n",
       "            <tr>\n",
       "                                <th id=\"T_b6406d6e_7855_11ea_8ffc_3207db5affc5level1_row3\" class=\"row_heading level1 row3\" >вселенная</th>\n",
       "                        <td id=\"T_b6406d6e_7855_11ea_8ffc_3207db5affc5row3_col0\" class=\"data row3 col0\" >0.010960</td>\n",
       "            </tr>\n",
       "            <tr>\n",
       "                                <th id=\"T_b6406d6e_7855_11ea_8ffc_3207db5affc5level1_row4\" class=\"row_heading level1 row4\" >энергия</th>\n",
       "                        <td id=\"T_b6406d6e_7855_11ea_8ffc_3207db5affc5row4_col0\" class=\"data row4 col0\" >0.010520</td>\n",
       "            </tr>\n",
       "            <tr>\n",
       "                                <th id=\"T_b6406d6e_7855_11ea_8ffc_3207db5affc5level1_row5\" class=\"row_heading level1 row5\" >вещество</th>\n",
       "                        <td id=\"T_b6406d6e_7855_11ea_8ffc_3207db5affc5row5_col0\" class=\"data row5 col0\" >0.010130</td>\n",
       "            </tr>\n",
       "            <tr>\n",
       "                                <th id=\"T_b6406d6e_7855_11ea_8ffc_3207db5affc5level1_row6\" class=\"row_heading level1 row6\" >галактика</th>\n",
       "                        <td id=\"T_b6406d6e_7855_11ea_8ffc_3207db5affc5row6_col0\" class=\"data row6 col0\" >0.008780</td>\n",
       "            </tr>\n",
       "            <tr>\n",
       "                                <th id=\"T_b6406d6e_7855_11ea_8ffc_3207db5affc5level1_row7\" class=\"row_heading level1 row7\" >масса</th>\n",
       "                        <td id=\"T_b6406d6e_7855_11ea_8ffc_3207db5affc5row7_col0\" class=\"data row7 col0\" >0.008310</td>\n",
       "            </tr>\n",
       "            <tr>\n",
       "                                <th id=\"T_b6406d6e_7855_11ea_8ffc_3207db5affc5level1_row8\" class=\"row_heading level1 row8\" >планета</th>\n",
       "                        <td id=\"T_b6406d6e_7855_11ea_8ffc_3207db5affc5row8_col0\" class=\"data row8 col0\" >0.007560</td>\n",
       "            </tr>\n",
       "            <tr>\n",
       "                                <th id=\"T_b6406d6e_7855_11ea_8ffc_3207db5affc5level1_row9\" class=\"row_heading level1 row9\" >электрон</th>\n",
       "                        <td id=\"T_b6406d6e_7855_11ea_8ffc_3207db5affc5row9_col0\" class=\"data row9 col0\" >0.007180</td>\n",
       "            </tr>\n",
       "    </tbody></table>"
      ]
     },
     "metadata": {},
     "output_type": "display_data"
    },
    {
     "data": {
      "text/html": [
       "<b> материя и антиматерия во вселенной </b><br/> физик валерий рубаков о ранней вселенной, стабильности вещества и барионном заряде"
      ]
     },
     "metadata": {},
     "output_type": "display_data"
    },
    {
     "data": {
      "text/html": [
       "<b> метаматериалы </b><br/> физик владимир шалаев об отрицательном показателе преломления, оптической черной дыре и плаще гарри поттера"
      ]
     },
     "metadata": {},
     "output_type": "display_data"
    },
    {
     "data": {
      "text/html": [
       "<b> фотонные кристаллы </b><br/> физик сергей никитов о корпускулярно-волновом дуализме, запрещённой зоне и фононных кристаллах"
      ]
     },
     "metadata": {},
     "output_type": "display_data"
    },
    {
     "data": {
      "text/html": [
       "<b> инфракрасное небо </b><br/> физик анатолий засов об открытии гершеля, излучении межзвездной пыли и обсерватории"
      ]
     },
     "metadata": {},
     "output_type": "display_data"
    },
    {
     "data": {
      "text/html": [
       "<b> астрохимия </b><br/> астроном дмитрий вибе о радиоастрономии, межзвездных молекулах и астрохимических базах данных"
      ]
     },
     "metadata": {},
     "output_type": "display_data"
    },
    {
     "data": {
      "text/html": [
       "<b> многообразие планет </b><br/> астрофизик сергей попов о газовых и ледяных гигантах, системах двойных звезд и одиночных планетах"
      ]
     },
     "metadata": {},
     "output_type": "display_data"
    },
    {
     "data": {
      "text/html": [
       "<b> нейтрино </b><br/> физик дмитрий казаков о частице с нулевым электрическим зарядом, нейтринных осцилляциях и темной материи"
      ]
     },
     "metadata": {},
     "output_type": "display_data"
    },
    {
     "data": {
      "text/html": [
       "<b> измерение расстояний в астрономии </b><br/> астроном алексей расторгуев о расстояниях в пределах солнечной системы, околоземных спутниках и изучении сверхновых звезд"
      ]
     },
     "metadata": {},
     "output_type": "display_data"
    },
    {
     "data": {
      "text/html": [
       "<b> скорости компактных объектов </b><br/> астрофизик сергей попов об убегающих звездах, взрыве сверхновой и скоростях, которые позволяют улететь из галактики"
      ]
     },
     "metadata": {},
     "output_type": "display_data"
    },
    {
     "data": {
      "text/html": [
       "<b> аттосекундная физика </b><br/> физик андрей савельев-трофимов об аттосекундных импульсах, процессе туннельной ионизации и генерации высоких гармоник"
      ]
     },
     "metadata": {},
     "output_type": "display_data"
    }
   ],
   "source": [
    "topic_number = 10\n",
    "\n",
    "display_html(topic_html_strings[topic_number], raw=True)\n",
    "\n",
    "for doc_id in top_documents[topic_number]:\n",
    "    doc_vw = dataset.get_vw_document(doc_id).values[0][0]\n",
    "    doc_title = get_modality_vw(doc_vw, \"@title\")\n",
    "    doc_snippet = get_modality_vw(doc_vw, \"@snippet\")\n",
    "    display_html(f\"<b>{doc_title}</b><br/>{doc_snippet}\", raw=True)"
   ]
  }
 ],
 "metadata": {
  "kernelspec": {
   "display_name": "Python 3",
   "language": "python",
   "name": "python3"
  },
  "language_info": {
   "codemirror_mode": {
    "name": "ipython",
    "version": 3
   },
   "file_extension": ".py",
   "mimetype": "text/x-python",
   "name": "python",
   "nbconvert_exporter": "python",
   "pygments_lexer": "ipython3",
   "version": "3.6.9"
  }
 },
 "nbformat": 4,
 "nbformat_minor": 2
}
