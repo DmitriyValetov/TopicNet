{
 "cells": [
  {
   "cell_type": "markdown",
   "metadata": {},
   "source": [
    "# Topic Prior Regularizer Tutorial \n",
    "\n",
    "The notebook contains the application and impact of `TopicPriorRegularizer` and its version with sampling a priori probabilities $\\varphi_t$ from the Dirichlet distribution.\n",
    "\n",
    "---\n",
    "\n",
    "# Пример работы с TopicPriorRegularizer.\n",
    "\n",
    "В ноутбуке рассматривается применение и влияние на тематические модели регуляризатора `TopicPriorRegularizer` и его версии с семплированием априорных вероятностей $\\varphi_t$ из распределения Дирихле."
   ]
  },
  {
   "cell_type": "markdown",
   "metadata": {},
   "source": [
    "# Contents<a id=\"contents\"></a>\n",
    "\n",
    "* [Formula](#formula)\n",
    "* [Data Loading](#data-loading)\n",
    "* [Model Training](#model-training)\n",
    "* [Looging at the Models](#exploring-models)\n",
    "    * [Plots](#plots)\n",
    "    * [Viewers](#viewers)\n",
    "* [Semantic Radius Score Computation](#semantic-radius-score)"
   ]
  },
  {
   "cell_type": "code",
   "execution_count": 1,
   "metadata": {},
   "outputs": [],
   "source": [
    "import numpy as np\n",
    "import pandas as pd\n",
    "\n",
    "from numpy import random\n",
    "from matplotlib import pyplot as plt"
   ]
  },
  {
   "cell_type": "code",
   "execution_count": 2,
   "metadata": {},
   "outputs": [],
   "source": [
    "import artm\n",
    "\n",
    "from topicnet.cooking_machine.dataset import Dataset\n",
    "\n",
    "from topicnet.cooking_machine.models import TopicModel\n",
    "from topicnet.cooking_machine.models.semantic_radius_score import SemanticRadiusScore\n",
    "from topicnet.cooking_machine.models.topic_prior_regularizer import TopicPriorRegularizer\n",
    "from topicnet.cooking_machine.models.topic_prior_regularizer import TopicPriorSampledRegularizer\n",
    "\n",
    "from topicnet.viewers.top_documents_viewer import TopDocumentsViewer\n",
    "from topicnet.viewers.top_tokens_viewer import TopTokensViewer"
   ]
  },
  {
   "cell_type": "markdown",
   "metadata": {},
   "source": [
    "## Formula<a id=\"formula\"></a>\n",
    "\n",
    "<div style=\"text-align: right\">Back to <a href=#contents>Contents</a></div>\n",
    "\n",
    "$$R(\\Phi,\\Theta) = \\sum_t\\sum_w\\beta_t\\ln\\phi_{wt}$$\n",
    "$$\\frac{\\partial R}{\\partial\\Phi_{wt}} = \\frac{\\beta_t}{\\varphi_{wt}}$$"
   ]
  },
  {
   "cell_type": "markdown",
   "metadata": {},
   "source": [
    "## Data Loading<a id=\"data-loading\"></a>\n",
    "\n",
    "<div style=\"text-align: right\">Back to <a href=#contents>Contents</a></div>"
   ]
  },
  {
   "cell_type": "markdown",
   "metadata": {},
   "source": [
    "The collection to be used for modeling contains 1000 documents on the topic \"Business\" and 100 documents on the topic \"Music\"."
   ]
  },
  {
   "cell_type": "code",
   "execution_count": 3,
   "metadata": {},
   "outputs": [],
   "source": [
    "DATA_PATH = 'data/lenta_1000_100.csv'\n",
    "\n",
    "dataset_lenta = Dataset(DATA_PATH, batch_size=10)\n",
    "dictionary_lenta = dataset_lenta.get_dictionary()\n",
    "batch_vectorizer_lenta = dataset_lenta.get_batch_vectorizer()"
   ]
  },
  {
   "cell_type": "code",
   "execution_count": 4,
   "metadata": {},
   "outputs": [
    {
     "data": {
      "text/plain": [
       "tags\n",
       "Бизнес    1000\n",
       "Музыка     100\n",
       "Name: id, dtype: int64"
      ]
     },
     "execution_count": 4,
     "metadata": {},
     "output_type": "execute_result"
    }
   ],
   "source": [
    "pd.read_csv(DATA_PATH).groupby('tags').count()['id']"
   ]
  },
  {
   "cell_type": "markdown",
   "metadata": {},
   "source": [
    "## Model Training<a id=\"model-training\"></a>\n",
    "\n",
    "<div style=\"text-align: right\">Back to <a href=#contents>Contents</a></div>\n",
    "\n",
    "With 2 topics"
   ]
  },
  {
   "cell_type": "code",
   "execution_count": 5,
   "metadata": {},
   "outputs": [
    {
     "data": {
      "text/html": [
       "<div>\n",
       "<style scoped>\n",
       "    .dataframe tbody tr th:only-of-type {\n",
       "        vertical-align: middle;\n",
       "    }\n",
       "\n",
       "    .dataframe tbody tr th {\n",
       "        vertical-align: top;\n",
       "    }\n",
       "\n",
       "    .dataframe thead th {\n",
       "        text-align: right;\n",
       "    }\n",
       "</style>\n",
       "<table border=\"1\" class=\"dataframe\">\n",
       "  <thead>\n",
       "    <tr style=\"text-align: right;\">\n",
       "      <th></th>\n",
       "      <th>Unnamed: 0</th>\n",
       "      <th>Unnamed: 0.1</th>\n",
       "      <th>url</th>\n",
       "      <th>title</th>\n",
       "      <th>text</th>\n",
       "      <th>topic</th>\n",
       "      <th>id</th>\n",
       "      <th>raw_lemmatized</th>\n",
       "      <th>lemmatized</th>\n",
       "      <th>ngramms</th>\n",
       "      <th>vw_text</th>\n",
       "    </tr>\n",
       "    <tr>\n",
       "      <th>tags</th>\n",
       "      <th></th>\n",
       "      <th></th>\n",
       "      <th></th>\n",
       "      <th></th>\n",
       "      <th></th>\n",
       "      <th></th>\n",
       "      <th></th>\n",
       "      <th></th>\n",
       "      <th></th>\n",
       "      <th></th>\n",
       "      <th></th>\n",
       "    </tr>\n",
       "  </thead>\n",
       "  <tbody>\n",
       "    <tr>\n",
       "      <th>Бизнес</th>\n",
       "      <td>1000</td>\n",
       "      <td>1000</td>\n",
       "      <td>1000</td>\n",
       "      <td>1000</td>\n",
       "      <td>1000</td>\n",
       "      <td>1000</td>\n",
       "      <td>1000</td>\n",
       "      <td>1000</td>\n",
       "      <td>1000</td>\n",
       "      <td>1000</td>\n",
       "      <td>1000</td>\n",
       "    </tr>\n",
       "    <tr>\n",
       "      <th>Музыка</th>\n",
       "      <td>100</td>\n",
       "      <td>100</td>\n",
       "      <td>100</td>\n",
       "      <td>100</td>\n",
       "      <td>100</td>\n",
       "      <td>100</td>\n",
       "      <td>100</td>\n",
       "      <td>100</td>\n",
       "      <td>100</td>\n",
       "      <td>100</td>\n",
       "      <td>100</td>\n",
       "    </tr>\n",
       "  </tbody>\n",
       "</table>\n",
       "</div>"
      ],
      "text/plain": [
       "        Unnamed: 0  Unnamed: 0.1   url  title  text  topic    id  \\\n",
       "tags                                                               \n",
       "Бизнес        1000          1000  1000   1000  1000   1000  1000   \n",
       "Музыка         100           100   100    100   100    100   100   \n",
       "\n",
       "        raw_lemmatized  lemmatized  ngramms  vw_text  \n",
       "tags                                                  \n",
       "Бизнес            1000        1000     1000     1000  \n",
       "Музыка             100         100      100      100  "
      ]
     },
     "execution_count": 5,
     "metadata": {},
     "output_type": "execute_result"
    }
   ],
   "source": [
    "pd.read_csv('data/lenta_1000_100.csv').groupby('tags').count()"
   ]
  },
  {
   "cell_type": "code",
   "execution_count": 6,
   "metadata": {},
   "outputs": [],
   "source": [
    "topic_prior_reg = TopicPriorRegularizer(name='topic_prior', tau=5, num_topics=2, beta=[10, 1])"
   ]
  },
  {
   "cell_type": "code",
   "execution_count": 7,
   "metadata": {},
   "outputs": [],
   "source": [
    "model_lenta = artm.ARTM(num_topics=2, cache_theta=True)\n",
    "model_lenta.scores.add(artm.scores.PerplexityScore(name='perplexity'))\n",
    "model_lenta.initialize(dictionary_lenta)\n",
    "\n",
    "model_lenta_unbalanced = artm.ARTM(num_topics=2, cache_theta=True)\n",
    "model_lenta_unbalanced.scores.add(artm.scores.PerplexityScore(name='perplexity'))\n",
    "model_lenta_unbalanced.initialize(dictionary_lenta)"
   ]
  },
  {
   "cell_type": "code",
   "execution_count": 8,
   "metadata": {},
   "outputs": [],
   "source": [
    "topic_model_lenta = TopicModel(artm_model=model_lenta, model_id='model_lenta')\n",
    "topic_model_lenta_unbalanced = TopicModel(artm_model=model_lenta_unbalanced, model_id='model_lenta_unbalanced')"
   ]
  },
  {
   "cell_type": "code",
   "execution_count": 9,
   "metadata": {},
   "outputs": [],
   "source": [
    "topic_model_lenta._fit(batch_vectorizer_lenta, 10, custom_regularizers={topic_prior_reg.name: topic_prior_reg})\n",
    "\n",
    "topic_model_lenta_unbalanced._fit(batch_vectorizer_lenta, 10)"
   ]
  },
  {
   "cell_type": "markdown",
   "metadata": {},
   "source": [
    "## Looging at the Models<a id=\"exploring-models\"></a>\n",
    "\n",
    "<div style=\"text-align: right\">Back to <a href=#contents>Contents</a></div>"
   ]
  },
  {
   "cell_type": "code",
   "execution_count": 10,
   "metadata": {},
   "outputs": [
    {
     "name": "stdout",
     "output_type": "stream",
     "text": [
      "Balance of documents in a model WITH a regularizer:\n",
      "topic_1    1048\n",
      "topic_0      52\n",
      "dtype: int64\n",
      "\n",
      "Balance of documents in a model WITHOUT a regularizer:\n",
      "topic_0    634\n",
      "topic_1    466\n",
      "dtype: int64\n"
     ]
    }
   ],
   "source": [
    "print('Balance of documents in a model WITH a regularizer:\\n{}\\n'.format(\n",
    "    topic_model_lenta.get_theta().idxmax().value_counts()\n",
    "))\n",
    "\n",
    "print('Balance of documents in a model WITHOUT a regularizer:\\n{}'.format(\n",
    "    topic_model_lenta_unbalanced.get_theta().idxmax().value_counts()\n",
    "))"
   ]
  },
  {
   "cell_type": "markdown",
   "metadata": {},
   "source": [
    "### Plots<a id=\"plots\"></a>\n",
    "\n",
    "<div style=\"text-align: right\">Back to <a href=#contents>Contents</a></div>"
   ]
  },
  {
   "cell_type": "code",
   "execution_count": 11,
   "metadata": {},
   "outputs": [
    {
     "data": {
      "text/plain": [
       "[<matplotlib.lines.Line2D at 0x7f4d38f48898>]"
      ]
     },
     "execution_count": 11,
     "metadata": {},
     "output_type": "execute_result"
    },
    {
     "data": {
      "image/png": "[encoded data removed]",
      "text/plain": [
       "<Figure size 1008x288 with 2 Axes>"
      ]
     },
     "metadata": {},
     "output_type": "display_data"
    }
   ],
   "source": [
    "plt.figure(figsize=(14,4))\n",
    "\n",
    "plt.subplot(1,2,1)\n",
    "values = np.array(model_lenta.score_tracker['perplexity'].value)\n",
    "med = np.median(values)\n",
    "values[values > 5 * med] = np.nan\n",
    "\n",
    "plt.title('Perplexity for the model WITH a regularizer')\n",
    "plt.plot(values)\n",
    "\n",
    "plt.subplot(1,2,2)\n",
    "values = np.array(model_lenta_unbalanced.score_tracker['perplexity'].value)\n",
    "med = np.median(values)\n",
    "values[values > 5 * med] = np.nan\n",
    "\n",
    "plt.title('Perplexity for the model WITHOUT a regularizer')\n",
    "plt.plot(values)"
   ]
  },
  {
   "cell_type": "markdown",
   "metadata": {},
   "source": [
    "### Viewers<a id=\"viewers\"></a>\n",
    "\n",
    "<div style=\"text-align: right\">Back to <a href=#contents>Contents</a></div>"
   ]
  },
  {
   "cell_type": "markdown",
   "metadata": {},
   "source": [
    "Top-tokens for models' topics:"
   ]
  },
  {
   "cell_type": "code",
   "execution_count": 12,
   "metadata": {
    "scrolled": true
   },
   "outputs": [
    {
     "name": "stdout",
     "output_type": "stream",
     "text": [
      "Topic 0:\n",
      "\n",
      "Top ngramms: рок_группа, студийный_альбом, лидер_группа, <person>_бибер, музыкант_<person>_<person>, причина_смерть, певица_<person>, джей_зи, музыкальный_премия, ляпис_<person>\n",
      "\n",
      "Top words: альбом, музыкант, певица, песня, концерт, музыкальный, фестиваль, артист, песнь, выступление\n",
      "\n",
      "\n",
      "Topic 1:\n",
      "\n",
      "Top ngramms: <person>_<person>, миллиард_рубль, миллиард_доллар, миллион_доллар, процент_акция, пресс_релиз, миллион_рубль, российский_компания, прошлое_год, генеральный_директор\n",
      "\n",
      "Top words: ., <person>, год, компания, что, В, быть, процент, миллиард, рубль\n",
      "\n",
      "\n"
     ]
    }
   ],
   "source": [
    "tokens_viewer = TopTokensViewer(model=topic_model_lenta, num_top_tokens=10)\n",
    "top_tokens_dict = tokens_viewer.view()\n",
    "    \n",
    "for topic_id, topic in enumerate(top_tokens_dict.values()):\n",
    "    print('Topic {}:\\n\\nTop ngramms: {}\\n\\nTop words: {}\\n\\n'.format(\n",
    "        str(topic_id), ', '.join(topic['ngramms'].keys()), ', '.join(topic['text'].keys())\n",
    "         ))"
   ]
  },
  {
   "cell_type": "code",
   "execution_count": 13,
   "metadata": {},
   "outputs": [
    {
     "name": "stdout",
     "output_type": "stream",
     "text": [
      "Topic 0:\n",
      "\n",
      "Top ngramms: миллиард_рубль, <person>_<person>, миллиард_доллар, миллион_доллар, процент_акция, миллион_рубль, пресс_релиз, совет_директор, ценный_бумага, прошлое_год\n",
      "\n",
      "Top words: ., <person>, год, компания, что, процент, В, быть, миллиард, рубль\n",
      "\n",
      "\n",
      "Topic 1:\n",
      "\n",
      "Top ngramms: <person>_<person>, пресс_релиз, миллиард_кубометр, пресс_служба, российский_компания, тысяча_рубль, турецкий_поток, миллиард_доллар, миллион_рубль, санкт_петербург\n",
      "\n",
      "Top words: ., <person>, что, год, быть, В, компания, российский, россия, газпром\n",
      "\n",
      "\n"
     ]
    }
   ],
   "source": [
    "tokens_viewer_unbalanced = TopTokensViewer(model=topic_model_lenta_unbalanced, num_top_tokens=10)\n",
    "top_tokens_dict_unbalanced = tokens_viewer_unbalanced.view()\n",
    "    \n",
    "for topic_id, topic in enumerate(top_tokens_dict_unbalanced.values()):\n",
    "    print('Topic {}:\\n\\nTop ngramms: {}\\n\\nTop words: {}\\n\\n'.format(\n",
    "        str(topic_id), ', '.join(topic['ngramms'].keys()), ', '.join(topic['text'].keys())\n",
    "         ))"
   ]
  },
  {
   "cell_type": "markdown",
   "metadata": {},
   "source": [
    "## Semantic Radius Score Computation<a id=\"semantic-radius-score\"></a>\n",
    "\n",
    "<div style=\"text-align: right\">Back to <a href=#contents>Contents</a></div>\n",
    "\n",
    "* Source file: [semantic_radius_score.py](https://github.com/machine-intelligence-laboratory/TopicNet/blob/master/topicnet/cooking_machine/models/semantic_radius_score.py)"
   ]
  },
  {
   "cell_type": "code",
   "execution_count": 14,
   "metadata": {},
   "outputs": [],
   "source": [
    "# Computing the radii of semantic homogeneity takes time!\n",
    "\n",
    "score = SemanticRadiusScore(batch_vectorizer=batch_vectorizer_lenta)"
   ]
  },
  {
   "cell_type": "code",
   "execution_count": 15,
   "metadata": {},
   "outputs": [
    {
     "name": "stdout",
     "output_type": "stream",
     "text": [
      "CPU times: user 3min 13s, sys: 46 s, total: 3min 59s\n",
      "Wall time: 2min 33s\n"
     ]
    },
    {
     "data": {
      "text/plain": [
       "[115.3279217051616, 850.0191702090277]"
      ]
     },
     "execution_count": 15,
     "metadata": {},
     "output_type": "execute_result"
    }
   ],
   "source": [
    "%%time\n",
    "\n",
    "score.call(topic_model_lenta)"
   ]
  },
  {
   "cell_type": "code",
   "execution_count": 16,
   "metadata": {},
   "outputs": [
    {
     "name": "stdout",
     "output_type": "stream",
     "text": [
      "CPU times: user 2min 50s, sys: 44.2 s, total: 3min 34s\n",
      "Wall time: 2min 11s\n"
     ]
    },
    {
     "data": {
      "text/plain": [
       "[574.0395802870606, 448.1119428664679]"
      ]
     },
     "execution_count": 16,
     "metadata": {},
     "output_type": "execute_result"
    }
   ],
   "source": [
    "%%time\n",
    "\n",
    "score.call(topic_model_lenta_unbalanced)"
   ]
  }
 ],
 "metadata": {
  "kernelspec": {
   "display_name": "Python 3",
   "language": "python",
   "name": "python3"
  },
  "language_info": {
   "codemirror_mode": {
    "name": "ipython",
    "version": 3
   },
   "file_extension": ".py",
   "mimetype": "text/x-python",
   "name": "python",
   "nbconvert_exporter": "python",
   "pygments_lexer": "ipython3",
   "version": "3.6.9"
  }
 },
 "nbformat": 4,
 "nbformat_minor": 2
}
