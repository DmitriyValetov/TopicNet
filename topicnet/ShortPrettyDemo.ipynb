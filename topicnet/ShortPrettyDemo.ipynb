{
 "cells": [
  {
   "cell_type": "code",
   "execution_count": 1,
   "metadata": {
    "slideshow": {
     "slide_type": "skip"
    }
   },
   "outputs": [],
   "source": [
    "import numpy as np\n",
    "import pandas as pd\n",
    "import matplotlib.pyplot as plt\n",
    "%matplotlib inline\n",
    "\n",
    "import artm\n",
    "\n",
    "# change log style\n",
    "lc = artm.messages.ConfigureLoggingArgs()\n",
    "lc.minloglevel = 3\n",
    "lib = artm.wrapper.LibArtm(logging_config=lc)\n",
    "\n",
    "import warnings\n",
    "warnings.filterwarnings(\"ignore\", category=DeprecationWarning) "
   ]
  },
  {
   "cell_type": "code",
   "execution_count": 2,
   "metadata": {
    "slideshow": {
     "slide_type": "skip"
    }
   },
   "outputs": [],
   "source": [
    "from copy import deepcopy\n",
    "from topicnet.cooking_machine.models.topic_model import TopicModel\n",
    "from topicnet.cooking_machine.cubes import RegularizersModifierCube\n",
    "from topicnet.cooking_machine.experiment import Experiment\n",
    "from topicnet.cooking_machine.cubes import *\n",
    "from topicnet.cooking_machine.dataset import Dataset\n",
    "\n",
    "%load_ext autoreload\n",
    "%autoreload 2"
   ]
  },
  {
   "cell_type": "code",
   "execution_count": 3,
   "metadata": {
    "slideshow": {
     "slide_type": "skip"
    }
   },
   "outputs": [],
   "source": [
    "! rm -r topicnet/experiments/"
   ]
  },
  {
   "cell_type": "code",
   "execution_count": 4,
   "metadata": {
    "slideshow": {
     "slide_type": "skip"
    }
   },
   "outputs": [
    {
     "data": {
      "text/html": [
       "<style>.container { width:90% !important; }</style>"
      ],
      "text/plain": [
       "<IPython.core.display.HTML object>"
      ]
     },
     "metadata": {},
     "output_type": "display_data"
    }
   ],
   "source": [
    "from IPython.core.display import display, HTML\n",
    "from IPython.display import clear_output, display_html\n",
    "display(HTML(\"<style>.container { width:90% !important; }</style>\"))"
   ]
  },
  {
   "cell_type": "code",
   "execution_count": 19,
   "metadata": {},
   "outputs": [
    {
     "data": {
      "text/html": [
       "<style>\n",
       "div .output_subarea > pre {\n",
       "  white-space: pre;\n",
       "  word-wrap: normal;\n",
       "}\n",
       "</style>"
      ],
      "text/plain": [
       "<IPython.core.display.HTML object>"
      ]
     },
     "metadata": {},
     "output_type": "display_data"
    }
   ],
   "source": [
    "display(HTML(\"\"\"<style>\n",
    "div .output_subarea > pre {\n",
    "  white-space: pre;\n",
    "  word-wrap: normal;\n",
    "}\n",
    "</style>\"\"\"))"
   ]
  },
  {
   "cell_type": "markdown",
   "metadata": {
    "slideshow": {
     "slide_type": "slide"
    }
   },
   "source": [
    "## Инициализация модели\n",
    "\n",
    "Создаем `ARTM` модель:"
   ]
  },
  {
   "cell_type": "code",
   "execution_count": 5,
   "metadata": {
    "slideshow": {
     "slide_type": "subslide"
    }
   },
   "outputs": [],
   "source": [
    "DATA_PATH_SCI = 'topicnet/PScience.csv'\n",
    "\n",
    "dataset_sci = Dataset(DATA_PATH_SCI)\n",
    "dictionary_sci = dataset_sci.get_dictionary()"
   ]
  },
  {
   "cell_type": "code",
   "execution_count": 6,
   "metadata": {},
   "outputs": [
    {
     "data": {
      "text/plain": [
       "[PerplexityScore@all, SparsityThetaScore, SparsityPhiScore@word, PerplexityScore@word, TopicKernel@word]"
      ]
     },
     "execution_count": 6,
     "metadata": {},
     "output_type": "execute_result"
    }
   ],
   "source": [
    "from topicnet.cooking_machine.baselines import init_simple_default_model\n",
    "\n",
    "model_artm = init_simple_default_model(\n",
    "    dictionary=dictionary_sci,\n",
    "    modalities_to_use={'@word'},\n",
    "    main_modality='@word',\n",
    "    n_specific_topics=14,\n",
    "    n_background_topics=1,\n",
    ")\n",
    "\n",
    "model_artm.scores"
   ]
  },
  {
   "cell_type": "markdown",
   "metadata": {
    "slideshow": {
     "slide_type": "slide"
    }
   },
   "source": [
    "## Cooking Machine\n",
    "\n",
    "Создаем объект `TopicModel` и `Experiment`:"
   ]
  },
  {
   "cell_type": "code",
   "execution_count": 7,
   "metadata": {
    "slideshow": {
     "slide_type": "fragment"
    }
   },
   "outputs": [],
   "source": [
    "tm = TopicModel(model_artm, model_id='Groot')\n",
    "\n",
    "experiment = Experiment(experiment_id=\"Short_test\", save_path=\"topicnet/experiments\", topic_model=tm)"
   ]
  },
  {
   "cell_type": "code",
   "execution_count": 8,
   "metadata": {
    "slideshow": {
     "slide_type": "skip"
    }
   },
   "outputs": [],
   "source": [
    "from topicnet.cooking_machine.cubes import RegularizersModifierCube\n",
    "from topicnet.cooking_machine.cubes.perplexity_strategy import retrieve_score_for_strategy\n",
    "from topicnet.cooking_machine.cubes.perplexity_strategy import PerplexityStrategy"
   ]
  },
  {
   "cell_type": "code",
   "execution_count": 9,
   "metadata": {
    "slideshow": {
     "slide_type": "slide"
    }
   },
   "outputs": [
    {
     "name": "stderr",
     "output_type": "stream",
     "text": [
      "10it [02:37, 16.43s/it]"
     ]
    },
    {
     "name": "stdout",
     "output_type": "stream",
     "text": [
      "Experiment Short_test\n",
      "\n",
      "Experiment was made with BigARTM 0.10.0\n",
      "Tree:\n",
      "<<<<<<<<start>>>>>>>>──┐\n",
      "                       │                       ┌13h42m02s_07d08m2019y\n",
      "                       │                       ├13h42m17s_07d08m2019y\n",
      "                       │                       ├13h42m32s_07d08m2019y\n",
      "                       │                       ├13h42m47s_07d08m2019y\n",
      "                       │                       ├13h43m03s_07d08m2019y\n",
      "                       └########Groot########──┤\n",
      "                                               ├13h43m18s_07d08m2019y\n",
      "                                               ├13h43m33s_07d08m2019y\n",
      "                                               ├13h43m48s_07d08m2019y\n",
      "                                               ├13h44m04s_07d08m2019y\n",
      "                                               └13h44m23s_07d08m2019y\n",
      "Cubes:\n",
      " START                 | INIT                  | REG_MODIFIER             \n",
      "                       |                       |                          \n",
      "                       | name:                 | tau_grid:                \n",
      "                       |   ARTM                |   0,                     \n",
      "                       | num_processors:       |   1,                     \n",
      "                       |   3                   |   ...,                   \n",
      "                       | num_topics:           |   10000000,              \n",
      "                       |   15                  |   100000000              \n",
      "                       | topic_names:          | regularizer:             \n",
      "                       |   topic_0,            |   name=decorrelation_phi,\n",
      "                       |   topic_1,            |   class_ids=[],          \n",
      "                       |   ...,                |   topic_names=[],        \n",
      "                       |   topic_13,           |   tau=1                  \n",
      "                       |   background_14       |                          \n",
      "                       | class_ids:            |                          \n",
      "                       |   @word=1.0           |                          \n",
      "                       | seed:                 |                          \n",
      "                       |   -1                  |                          \n",
      "                       | regularizers:         |                          \n",
      "                       |   ---                 |                          \n",
      "                       |                       |                          \n"
     ]
    },
    {
     "name": "stderr",
     "output_type": "stream",
     "text": [
      "/home/evgenyegorov/Projects/topicnet/cooking_machine/cubes/perplexity_strategy.py:138: UserWarning: Perplexity is too high\n",
      "  warnings.warn(\"Perplexity is too high\")\n",
      "\n"
     ]
    }
   ],
   "source": [
    "my_first_cube = RegularizersModifierCube(\n",
    "    num_iter=15,\n",
    "    strategy=PerplexityStrategy(1,10,10),\n",
    "    tracked_score_function=retrieve_score_for_strategy('PerplexityScore@word'),\n",
    "    regularizer_parameters={\n",
    "        'regularizer': artm.DecorrelatorPhiRegularizer(name='decorrelation_phi', tau=1),\n",
    "        'tau_grid': [],\n",
    "    },\n",
    "    reg_search='mul',\n",
    "    verbose=True\n",
    ")\n",
    "my_first_cube(tm, dataset_sci)\n",
    "\n",
    "print(experiment.get_description())"
   ]
  },
  {
   "cell_type": "code",
   "execution_count": 10,
   "metadata": {
    "scrolled": false,
    "slideshow": {
     "slide_type": "slide"
    }
   },
   "outputs": [],
   "source": [
    "baseline_select = 'PerplexityScore@word -> min'\n",
    "contrast_select = 'TopicKernel@word.average_contrast -> max'\n",
    "\n",
    "first_cube_models = experiment.select(baseline_select) + experiment.select(contrast_select)"
   ]
  },
  {
   "cell_type": "code",
   "execution_count": 11,
   "metadata": {
    "slideshow": {
     "slide_type": "slide"
    }
   },
   "outputs": [
    {
     "name": "stderr",
     "output_type": "stream",
     "text": [
      "3it [00:55, 18.50s/it]/home/evgenyegorov/Projects/topicnet/cooking_machine/cubes/perplexity_strategy.py:138: UserWarning: Perplexity is too high\n",
      "  warnings.warn(\"Perplexity is too high\")\n",
      "\n",
      "11it [02:59, 16.52s/it]"
     ]
    },
    {
     "name": "stdout",
     "output_type": "stream",
     "text": [
      "Experiment Short_test\n",
      "\n",
      "Experiment was made with BigARTM 0.10.0\n",
      "Tree:\n",
      "<<<<<<<<start>>>>>>>>──┐\n",
      "                       │                       ┌13h42m02s_07d08m2019y\n",
      "                       │                       ├13h42m17s_07d08m2019y\n",
      "                       │                       ├13h42m32s_07d08m2019y\n",
      "                       │                       ├13h42m47s_07d08m2019y\n",
      "                       │                       ├13h43m03s_07d08m2019y\n",
      "                       └########Groot########──┤\n",
      "                                               ├13h43m18s_07d08m2019y\n",
      "                                               ├13h43m33s_07d08m2019y\n",
      "                                               ├13h43m48s_07d08m2019y\n",
      "                                               │                           ┌13h44m53s_07d08m2019y\n",
      "                                               ├13h44m04s_07d08m2019y──────┤\n",
      "                                               │                           ├13h45m11s_07d08m2019y\n",
      "                                               │                           └13h45m30s_07d08m2019y\n",
      "                                               │                           ┌13h45m48s_07d08m2019y\n",
      "                                               │                           ├13h46m04s_07d08m2019y\n",
      "                                               │                           ├13h46m20s_07d08m2019y\n",
      "                                               │                           ├13h46m36s_07d08m2019y\n",
      "                                               │                           ├13h46m52s_07d08m2019y\n",
      "                                               └13h44m23s_07d08m2019y──────┤\n",
      "                                                                           ├13h47m08s_07d08m2019y\n",
      "                                                                           ├13h47m25s_07d08m2019y\n",
      "                                                                           ├13h47m41s_07d08m2019y\n",
      "                                                                           ├13h47m58s_07d08m2019y\n",
      "                                                                           ├13h48m14s_07d08m2019y\n",
      "                                                                           └13h48m31s_07d08m2019y\n",
      "Cubes:\n",
      " START                 | INIT                  | REG_MODIFIER              | REG_MODIFIER         \n",
      "                       |                       |                           |                      \n",
      "                       | name:                 | tau_grid:                 | tau_grid:            \n",
      "                       |   ARTM                |   0,                      |   0,                 \n",
      "                       | num_processors:       |   1,                      |   0.0,               \n",
      "                       |   3                   |   ...,                    |   ...,               \n",
      "                       | num_topics:           |   10000000,               |   -80.0,             \n",
      "                       |   15                  |   100000000               |   -90.0              \n",
      "                       | topic_names:          | regularizer:              | regularizer:         \n",
      "                       |   topic_0,            |   name=decorrelation_phi, |   name=sparse_phi,   \n",
      "                       |   topic_1,            |   class_ids=[],           |   class_ids=[],      \n",
      "                       |   ...,                |   topic_names=[],         |   topic_names=[],    \n",
      "                       |   topic_13,           |   tau=1                   |   dictionary=,       \n",
      "                       |   background_14       |                           |   tau=1              \n",
      "                       | class_ids:            |                           |                      \n",
      "                       |   @word=1.0           |                           |                      \n",
      "                       | seed:                 |                           |                      \n",
      "                       |   -1                  |                           |                      \n",
      "                       | regularizers:         |                           |                      \n",
      "                       |   ---                 |                           |                      \n",
      "                       |                       |                           |                      \n"
     ]
    },
    {
     "name": "stderr",
     "output_type": "stream",
     "text": [
      "/home/evgenyegorov/Projects/topicnet/cooking_machine/cubes/perplexity_strategy.py:145: UserWarning: Max progression length exceeded\n",
      "  warnings.warn(\"Max progression length exceeded\")\n",
      "\n"
     ]
    }
   ],
   "source": [
    "my_second_cube = RegularizersModifierCube(\n",
    "    num_iter=15,\n",
    "    strategy=PerplexityStrategy(0.0, -10, 10),\n",
    "    tracked_score_function=retrieve_score_for_strategy('PerplexityScore@word'),\n",
    "    regularizer_parameters={\n",
    "        'regularizer': artm.SmoothSparsePhiRegularizer(name=f'sparse_phi', tau=1),\n",
    "        'tau_grid': [],\n",
    "    },\n",
    "    reg_search='add',\n",
    "    verbose=True\n",
    ")\n",
    "my_second_cube(first_cube_models, dataset_sci)\n",
    "\n",
    "print(experiment.get_description())"
   ]
  },
  {
   "cell_type": "code",
   "execution_count": 12,
   "metadata": {
    "scrolled": false,
    "slideshow": {
     "slide_type": "slide"
    }
   },
   "outputs": [],
   "source": [
    "contrast_criterion = 'PerplexityScore@word < 1.2 * MINIMUM(PerplexityScore@word) and TopicKernel@word.average_contrast -> max'\n",
    "sparse_criterion = 'PerplexityScore@word < 1.2 * MINIMUM(PerplexityScore@word) and SparsityPhiScore@word -> max'\n",
    "\n",
    "final_models = experiment.select(contrast_criterion) + experiment.select(sparse_criterion)"
   ]
  },
  {
   "cell_type": "code",
   "execution_count": 61,
   "metadata": {},
   "outputs": [],
   "source": [
    "from topicnet.cooking_machine.models.base_score import BaseScore\n",
    "\n",
    "class ThatCustomScore(BaseScore):\n",
    "    def __init__(self):\n",
    "        super().__init__()\n",
    "\n",
    "    def call(self, model,\n",
    "             score_to_max = 'TopicKernel@word.average_contrast',\n",
    "             score_to_min='TopicKernel@word.contrast',\n",
    "             topic='background_14'):\n",
    "        return model.scores[score_to_max][-1] - model.scores[score_to_min][-1][topic]"
   ]
  },
  {
   "cell_type": "code",
   "execution_count": 62,
   "metadata": {},
   "outputs": [],
   "source": [
    "custom_score = ThatCustomScore()"
   ]
  },
  {
   "cell_type": "code",
   "execution_count": 63,
   "metadata": {},
   "outputs": [
    {
     "data": {
      "text/plain": [
       "-0.020692765712738037"
      ]
     },
     "execution_count": 63,
     "metadata": {},
     "output_type": "execute_result"
    }
   ],
   "source": [
    "custom_score.call(final_models[0])"
   ]
  },
  {
   "cell_type": "code",
   "execution_count": 47,
   "metadata": {},
   "outputs": [
    {
     "data": {
      "text/plain": [
       "0.9572338461875916"
      ]
     },
     "execution_count": 47,
     "metadata": {},
     "output_type": "execute_result"
    }
   ],
   "source": [
    "final_models[0].scores['TopicKernel@word.average_contrast'][-1]"
   ]
  },
  {
   "cell_type": "code",
   "execution_count": 55,
   "metadata": {},
   "outputs": [
    {
     "data": {
      "text/plain": [
       "0.9779266119003296"
      ]
     },
     "execution_count": 55,
     "metadata": {},
     "output_type": "execute_result"
    }
   ],
   "source": [
    "final_models[0].scores['TopicKernel@word.contrast'][-1]['background_14']"
   ]
  },
  {
   "cell_type": "code",
   "execution_count": null,
   "metadata": {},
   "outputs": [],
   "source": []
  }
 ],
 "metadata": {
  "kernelspec": {
   "display_name": "Python 3",
   "language": "python",
   "name": "python3"
  },
  "language_info": {
   "codemirror_mode": {
    "name": "ipython",
    "version": 3
   },
   "file_extension": ".py",
   "mimetype": "text/x-python",
   "name": "python",
   "nbconvert_exporter": "python",
   "pygments_lexer": "ipython3",
   "version": "3.6.8"
  }
 },
 "nbformat": 4,
 "nbformat_minor": 2
}
